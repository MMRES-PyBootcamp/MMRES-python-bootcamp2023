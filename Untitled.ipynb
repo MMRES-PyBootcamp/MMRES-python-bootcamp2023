{
 "cells": [
  {
   "cell_type": "markdown",
   "id": "89a00c8d-38ca-42f1-a4e7-15e931fee28c",
   "metadata": {},
   "source": [
    "# Answering Asli's question about Bessel's Correction"
   ]
  },
  {
   "cell_type": "markdown",
   "id": "d68cadbf-10a5-4d8b-b362-fa5f7192a6ef",
   "metadata": {},
   "source": [
    "## First Thoughts"
   ]
  },
  {
   "cell_type": "markdown",
   "id": "793c6218-8ecb-45e3-ac95-f32b32ebe406",
   "metadata": {},
   "source": [
    "The key to understand what's the point of use $n-1$ instead of $n$ to compute the variance of a sample of size $n$ taken from a population of size $N$, is to have in mind the difference between *a sample* and *the population*.\n",
    "\n",
    "* **The population**: Is the reality, it's the whole information.\n",
    "* **The sample**: Is subset of the reality, it's just a piece with partial information.\n",
    "\n",
    "I always imagine a survey when thinking in *the population* and *a sample*. For example, in order capture the opinion of all the students of a given university (whole information), maybe we can ask just a subset of them (partial information)."
   ]
  },
  {
   "cell_type": "markdown",
   "id": "17871fe2-13ce-4684-9c7d-51345457bc24",
   "metadata": {},
   "source": [
    "## Trying a computational verification"
   ]
  },
  {
   "cell_type": "markdown",
   "id": "04f2ddf2-3dcf-4b58-b942-89e98cf4b500",
   "metadata": {},
   "source": [
    "### Generate the population"
   ]
  },
  {
   "cell_type": "markdown",
   "id": "a17d47c9-3f0d-4ba3-9ce2-2ea97028dac8",
   "metadata": {},
   "source": [
    "Let's start by loading the packages we will need:"
   ]
  },
  {
   "cell_type": "code",
   "execution_count": 1,
   "id": "bdc1bc30-9c8f-458a-a686-fb6ed32a6b0b",
   "metadata": {},
   "outputs": [],
   "source": [
    "# Import packages\n",
    "import numpy as np\n",
    "import pandas as pd\n",
    "\n",
    "# Import plotting packages\n",
    "import matplotlib.pyplot as plt\n",
    "import seaborn as sns"
   ]
  },
  {
   "cell_type": "markdown",
   "id": "3767105e-5e57-4973-a172-dce197cea64d",
   "metadata": {},
   "source": [
    "Now, let's generate a quite large (`size=10000`) population of values. Note that, for simplicity, we generated random float values, centered at a mean of zero (`loc=0.0`), with an spread of one (`scale=1.0`):"
   ]
  },
  {
   "cell_type": "code",
   "execution_count": 83,
   "id": "06117d7c-a8b6-434c-a137-8a9f03002fd2",
   "metadata": {},
   "outputs": [
    {
     "data": {
      "text/plain": [
       "array([ 0.71167353, -0.32448496, -1.00187064, ..., -0.45511937,\n",
       "       -0.21457978,  2.24690427])"
      ]
     },
     "execution_count": 83,
     "metadata": {},
     "output_type": "execute_result"
    }
   ],
   "source": [
    "# Set a random seed to get random numbers in a reproducible way\n",
    "np.random.seed(2023)\n",
    "\n",
    "# Get 10000 random normal floats at mean zero and std 1 (this is our population)\n",
    "arr_population = np.random.normal(loc=0.0, scale=1.0, size=10000)\n",
    "\n",
    "# Show the whole population\n",
    "arr_population"
   ]
  },
  {
   "cell_type": "markdown",
   "id": "b1f72529-5c91-4b26-9916-ac57bf45b7ff",
   "metadata": {},
   "source": [
    "Remember that that variance of the population, $\\sigma^2_p$, is defined as follows:\n",
    "\n",
    "$$\\sigma^2_p = \\frac{1}{N}\\sum^{N}_{i=1}{\\left(x_i - \\mu_{\\rm{p}}\\right)^2}$$\n",
    "\n",
    "where $x_i$ is the i<sup>th</sup> element of the population, and $N$ and $\\mu_{\\rm{p}}$ are the number of elements and the mean of such population, respectively. Let's compute $\\mu_p$, $\\sigma^2_p$ and $\\sigma_p$:"
   ]
  },
  {
   "cell_type": "code",
   "execution_count": 84,
   "id": "5bd42f4b-c2c2-47f3-a2ae-9125523854d6",
   "metadata": {},
   "outputs": [
    {
     "name": "stdout",
     "output_type": "stream",
     "text": [
      "The mean of the population: 0.006188343260349242\n",
      "The variance of the population: 0.9905275531273651\n",
      "The standard deviation of the population: 0.9952525072198337\n"
     ]
    }
   ],
   "source": [
    "# Compute the mean of the population and print it\n",
    "mean_population = np.mean(arr_population)\n",
    "print(f'The mean of the population: {mean_population}') \n",
    "\n",
    "# Compute the variance of the population and print it\n",
    "var_population = ( 1/ len(arr_population) ) * sum( (arr_population - mean_population)**2 )\n",
    "print(f'The variance of the population: {var_population}')\n",
    "\n",
    "# Compute the standard deviation of the population and print it\n",
    "std_population = np.sqrt(var_population)\n",
    "print(f'The standard deviation of the population: {std_population}')"
   ]
  },
  {
   "cell_type": "markdown",
   "id": "d21b3a32-8900-4d58-8c52-3212f13311c6",
   "metadata": {},
   "source": [
    "Note how close to 0 and 1 $\\mu_p$ and $\\sigma_p$ are, respectively. We can get a much better insight on this population, in a visual way:"
   ]
  },
  {
   "cell_type": "code",
   "execution_count": 85,
   "id": "7e946834-cf87-4e0f-8d87-2001f0e0eea6",
   "metadata": {},
   "outputs": [
    {
     "data": {
      "text/plain": [
       "<Axes: ylabel='Count'>"
      ]
     },
     "execution_count": 85,
     "metadata": {},
     "output_type": "execute_result"
    },
    {
     "data": {
      "image/png": "[encoded data removed]",
      "text/plain": [
       "<Figure size 640x480 with 1 Axes>"
      ]
     },
     "metadata": {},
     "output_type": "display_data"
    }
   ],
   "source": [
    "# Plot an histogram for the population\n",
    "sns.histplot(x=arr_population, stat='count', kde=True, bins=50)"
   ]
  },
  {
   "cell_type": "markdown",
   "id": "909b775a-1284-4373-a24b-cee3da0c3088",
   "metadata": {},
   "source": [
    "### Get a sample"
   ]
  },
  {
   "cell_type": "markdown",
   "id": "bd9aa978-04cb-4b17-92df-b5b6dd6d48f4",
   "metadata": {},
   "source": [
    "Now it's time to get a random sample of $n$ elements from our population of $N$ elements:"
   ]
  },
  {
   "cell_type": "code",
   "execution_count": 87,
   "id": "ed619eb4-ee94-49a1-8085-e648959ba3e4",
   "metadata": {},
   "outputs": [
    {
     "data": {
      "text/plain": [
       "array([ 6.85844667e-01,  1.25758894e+00, -1.21431030e+00,  8.36784079e-01,\n",
       "       -1.03354853e+00,  1.57853988e-01,  2.02112985e-01, -2.36838937e+00,\n",
       "        5.07119378e-01, -1.10829420e+00,  4.36119141e-01,  7.01023048e-02,\n",
       "       -1.20694639e+00,  1.22099783e-01, -1.88314813e-01, -1.33893179e+00,\n",
       "        2.90723017e-01, -9.13804690e-01,  1.90792795e-01,  1.34949489e+00,\n",
       "       -2.05295947e-01,  4.34560461e-01,  2.31441317e-01,  1.51047285e+00,\n",
       "       -2.71494240e-01,  1.82589363e+00,  1.78668237e+00,  8.65508767e-01,\n",
       "        2.11645521e+00,  8.29535314e-01, -4.62330417e-02, -2.23531310e-03,\n",
       "        6.88913427e-01,  9.98127046e-01,  3.06872762e-01, -1.39890746e-01,\n",
       "       -6.82095988e-01, -3.06578429e+00,  1.52642531e+00,  1.71424234e-01,\n",
       "        1.48745565e+00,  1.41408223e+00,  1.07627045e+00,  5.45909644e-01,\n",
       "       -8.23854601e-01,  4.11246592e-01, -6.28244388e-02,  2.13425698e-01,\n",
       "        7.07322078e-01, -8.77187788e-01,  9.80759876e-01, -4.78342956e-01,\n",
       "        3.84394310e-01,  2.63615414e-01,  2.46174913e-01, -1.19109840e-01,\n",
       "       -2.23408105e-01,  1.65956848e+00,  1.80830715e-01, -2.22396132e+00,\n",
       "       -6.73582799e-01,  3.27967598e-01, -9.47763171e-02,  1.44909005e+00,\n",
       "       -1.37927891e+00,  1.16048126e+00,  3.41819324e-03,  2.65737919e-01,\n",
       "       -6.80521003e-01,  2.28524930e+00, -1.42322649e+00,  4.50584089e-01,\n",
       "       -2.72024214e-01, -1.43796812e-01,  6.11056615e-01,  1.83720733e+00,\n",
       "       -5.22613073e-03,  5.16895765e-01, -1.04944170e+00, -3.92057859e-01,\n",
       "       -1.70783966e-01,  4.79651701e-01,  9.84223862e-01,  1.68966684e+00,\n",
       "        7.17355267e-01,  1.37807538e+00, -2.40726172e-01, -7.58551157e-01,\n",
       "       -1.25496204e+00,  1.07558528e+00,  1.96618095e+00,  7.24020193e-01,\n",
       "       -8.05065654e-01, -6.31061849e-01,  4.88950102e-01,  6.41713935e-01,\n",
       "        5.52919239e-01,  1.84566989e+00, -2.60193480e-01, -2.07216508e+00])"
      ]
     },
     "execution_count": 87,
     "metadata": {},
     "output_type": "execute_result"
    }
   ],
   "source": [
    "# Set a random seed to get random numbers in a reproducible way\n",
    "np.random.seed(2023)\n",
    "\n",
    "# Draw a random 100 elements sample from our population \n",
    "arr_sample = np.random.choice(arr_population, 100, replace=False)\n",
    "\n",
    "# Show the sample we draw\n",
    "arr_sample"
   ]
  },
  {
   "cell_type": "markdown",
   "id": "45d6c943-5120-4540-b6f8-46333069b231",
   "metadata": {},
   "source": [
    "Let's visualize our sample (orange) aside the population (blue):"
   ]
  },
  {
   "cell_type": "code",
   "execution_count": 88,
   "id": "b57b42fe-19b4-47cc-b2b9-1b2194d30db6",
   "metadata": {},
   "outputs": [
    {
     "data": {
      "text/plain": [
       "<Axes: ylabel='Percent'>"
      ]
     },
     "execution_count": 88,
     "metadata": {},
     "output_type": "execute_result"
    },
    {
     "data": {
      "image/png": "[encoded data removed]",
      "text/plain": [
       "<Figure size 640x480 with 1 Axes>"
      ]
     },
     "metadata": {},
     "output_type": "display_data"
    }
   ],
   "source": [
    "# Plot an histogram for the population and a sample\n",
    "sns.histplot(x=arr_population, stat='percent', kde=True, bins=50)\n",
    "sns.histplot(x=arr_sample, stat='percent', kde=True, bins=50)"
   ]
  },
  {
   "cell_type": "markdown",
   "id": "aa8a1e19-f1ef-470e-8687-99bf93667e4f",
   "metadata": {},
   "source": [
    "As you can see, the $\\mu_s$ is close to $\\mu_p$, but is not exactly the same. And this is the origin of the problem that the Bessels's Corrections tries to fix. Suppose that we *don't know* the whole population. How can we compute $\\sigma^2_s$? The formula needs $\\mu_p$, and we don't have it:\n",
    "\n",
    "$$\\sigma^2_s = \\frac{1}{n}\\sum^{n}_{i=1}{\\left(x_i - \\mu_{\\rm{p}}\\right)^2}$$\n",
    "\n",
    "The solution is to *approximate* $\\mu_{\\rm{p}}$ using the mean of the sample itself, $\\mu_{\\rm{s}}$:\n",
    "\n",
    "$$\\sigma^2_s = \\frac{1}{n}\\sum^{n}_{i=1}{\\left(x_i - \\mu_{\\rm{s}}\\right)^2}$$\n",
    "\n",
    "At this precise point, when we used $\\mu_{\\rm{s}}$ instead of $\\mu_{\\rm{p}}$, is when the *bias* takes place. Let's compute $\\mu_s$, $\\sigma^2_s$ and $\\sigma_s$:, but this time, we will compute $\\sigma^2_s$ and $\\sigma_s$ using both, $\\mu_s$ and $\\mu_p$:"
   ]
  },
  {
   "cell_type": "code",
   "execution_count": 89,
   "id": "ad25c430-a786-431d-8db0-e6e8adc24eac",
   "metadata": {},
   "outputs": [
    {
     "name": "stdout",
     "output_type": "stream",
     "text": [
      "The mean of the sample: 0.19520005153308603\n",
      "The variance of the sample (using population mean): 1.0777623072569362\n",
      "The variance of the sample (using sample mean): 1.0420368813927583\n",
      "The standard deviation of the sample (using population mean): 1.0381533158724372\n",
      "The standard deviation of the sample (using sample mean): 1.0208020774825834\n"
     ]
    }
   ],
   "source": [
    "# Compute the mean of the sample and print it\n",
    "mean_sample = np.mean(arr_sample)\n",
    "print(f'The mean of the sample: {mean_sample}') \n",
    "\n",
    "# Compute the variance of the sample (using population mean) and print it\n",
    "var_sample_FromPopulationMean = ( 1/ len(arr_sample) ) * sum( (arr_sample - mean_population)**2 )\n",
    "print(f'The variance of the sample (using population mean): {var_sample_FromPopulationMean}')\n",
    "\n",
    "# Compute the variance of the sample (using sample mean) and print it\n",
    "var_sample_FromSampleMean = ( 1/ len(arr_sample) ) * sum( (arr_sample - mean_sample)**2 )\n",
    "print(f'The variance of the sample (using sample mean): {var_sample_FromSampleMean}')\n",
    "\n",
    "# Compute the standard deviation of the sample (using population mean) and print it\n",
    "std_sample_FromPopulationMean = np.sqrt(var_sample_FromPopulationMean)\n",
    "print(f'The standard deviation of the sample (using population mean): {std_sample_FromPopulationMean}')\n",
    "\n",
    "# Compute the standard deviation of the sample (using sample mean) and print it\n",
    "std_sample_FromSampleMean = np.sqrt(var_sample_FromSampleMean)\n",
    "print(f'The standard deviation of the sample (using sample mean): {std_sample_FromSampleMean}')"
   ]
  },
  {
   "cell_type": "markdown",
   "id": "7fc95925-0b61-47f4-a570-38c22e8f5c05",
   "metadata": {},
   "source": [
    "Note that, both the \"computed-using-the-sample-mean\" $\\sigma^2_s$ and $\\sigma_s$, are slightly lower than their \"computed-using-the-population-mean\" counterparts."
   ]
  },
  {
   "cell_type": "markdown",
   "id": "0bc16b6e-682c-433f-a68c-b5d1530e6110",
   "metadata": {},
   "source": [
    "### Using the Bessel's Correction"
   ]
  },
  {
   "cell_type": "markdown",
   "id": "4168545f-0976-483e-a4b1-160636b8eb2e",
   "metadata": {},
   "source": [
    "Now we will evaluate how the Bessel's Correction changes the estimation of $\\sigma^2_s$ that we obtained using $\\mu_s$:"
   ]
  },
  {
   "cell_type": "code",
   "execution_count": 90,
   "id": "cf17e36d-5b54-4436-addb-8f065844faf9",
   "metadata": {},
   "outputs": [
    {
     "name": "stdout",
     "output_type": "stream",
     "text": [
      "The variance of the sample (using population mean): 1.0777623072569362\n",
      "The variance of the sample (using sample mean): 1.0420368813927583\n",
      "The variance of the sample (using sample mean and Bessel's Correction): 1.0525625064573316\n"
     ]
    }
   ],
   "source": [
    "# Compute the variance of the sample (using population mean) and print it\n",
    "var_FromPopulationMean    = ( 1/ len(arr_sample)       ) * sum( (arr_sample - mean_population)**2 )\n",
    "print(f'The variance of the sample (using population mean): {var_FromPopulationMean}')\n",
    "\n",
    "# Compute the variance of the sample (using sample mean) and print it\n",
    "var_FromSampleMean_Bias   = ( 1/ len(arr_sample)       ) * sum( (arr_sample - mean_sample    )**2 )\n",
    "print(f'The variance of the sample (using sample mean): {var_FromSampleMean_Bias}')\n",
    "\n",
    "# Compute the variance of the sample (using sample mean and Bessel's Correction) and print it\n",
    "var_FromSampleMean_UnBias = ( 1/(len(arr_sample) - 1 ) ) * sum( (arr_sample - mean_sample    )**2 )\n",
    "print(f\"The variance of the sample (using sample mean and Bessel's Correction): {var_FromSampleMean_UnBias}\")"
   ]
  },
  {
   "cell_type": "markdown",
   "id": "be06a7d7-04fb-4263-8e44-403ce966092c",
   "metadata": {},
   "source": [
    "If we take $\\sigma^2_s$ computed using $\\mu_p$ as a reference, we see that $\\sigma^2_s$ with the Bessel's Correction is less biased than $\\sigma^2_s$ without it. Now, instead of using the variance formula \"by hand\", let's leverage the corresponding Numpy function `np.var()` to check that all the numbers that we computed are correct:"
   ]
  },
  {
   "cell_type": "code",
   "execution_count": 91,
   "id": "f9fa50c8-5f84-4b4b-b109-751185a5788e",
   "metadata": {},
   "outputs": [
    {
     "name": "stdout",
     "output_type": "stream",
     "text": [
      "The variance of the sample (using sample mean): 1.042036881392758\n",
      "The variance of the sample (using sample mean and Bessel's Correction): 1.0525625064573312\n"
     ]
    }
   ],
   "source": [
    "# Compute the variance of the sample (using sample mean) and print it\n",
    "var_FromSampleMean_Bias   = np.var(arr_sample, ddof=0)\n",
    "print(f'The variance of the sample (using sample mean): {var_FromSampleMean_Bias}')\n",
    "\n",
    "# Compute the variance of the sample (using sample mean and Bessel's Correction) and print it\n",
    "var_FromSampleMean_UnBias = np.var(arr_sample, ddof=1)\n",
    "print(f\"The variance of the sample (using sample mean and Bessel's Correction): {var_FromSampleMean_UnBias}\")"
   ]
  },
  {
   "cell_type": "markdown",
   "id": "8a3bda31-934a-4fc5-8c34-4f9ddfb33b6d",
   "metadata": {},
   "source": [
    "Note that the values obtained are almost identical to those computed by our previous \"home made\" formula (the tiny difference is just a matter of numerical accuracy I guess...)."
   ]
  },
  {
   "cell_type": "markdown",
   "id": "b641098e-23fa-4461-ab7f-5fbfa6a8e11b",
   "metadata": {},
   "source": [
    "### Evaluating the sample variance accuracy with and without the Bessel's Correction"
   ]
  },
  {
   "cell_type": "markdown",
   "id": "5d2765f5-baae-4abe-98bb-5922b74f80e2",
   "metadata": {},
   "source": [
    "Let's make a final check. We can compute the discrepancy (I don't like to call it \"error\") of both sample variances computed using $\\mu_s$ (with and without the Bessel's Correction) with respect the sample variances computed using $\\mu_p$:"
   ]
  },
  {
   "cell_type": "code",
   "execution_count": 92,
   "id": "1d244b4e-d9f6-4add-9272-2cf385180c8a",
   "metadata": {},
   "outputs": [
    {
     "name": "stdout",
     "output_type": "stream",
     "text": [
      "The discrepancy between the sample variance using sample mean (without Bessel's Correction) and the sample variance using using population mean: -0.03314777815444726\n",
      "The discrepancy between the sample variance using sample mean (with Bessel's Correction) and the sample variance using population mean: -0.02338159409540147\n"
     ]
    }
   ],
   "source": [
    "# Compute the discrepancy of the sample (using sample mean) and print it\n",
    "error_var_FromSampleMean_Bias   = (var_FromSampleMean_Bias - var_FromPopulationMean) / var_FromPopulationMean\n",
    "print(f\"The discrepancy between the sample variance using sample mean (without Bessel's Correction) and the sample variance using using population mean: {error_var_FromSampleMean_Bias}\")\n",
    "\n",
    "# Compute the discrepancy of the sample (using sample mean and Bessel's Correction) and print it\n",
    "error_var_FromSampleMean_UnBias = (var_FromSampleMean_UnBias - var_FromPopulationMean) / var_FromPopulationMean\n",
    "print(f\"The discrepancy between the sample variance using sample mean (with Bessel's Correction) and the sample variance using population mean: {error_var_FromSampleMean_UnBias}\")"
   ]
  },
  {
   "cell_type": "markdown",
   "id": "7ff07175-2c6e-40ec-b350-ca419d553360",
   "metadata": {},
   "source": [
    "Note that, in absolute terms, the discrepancy is lower for $\\sigma^2_s$ using Bessel's Correction."
   ]
  },
  {
   "cell_type": "markdown",
   "id": "7dc86fbc-c16c-45b5-8fe9-acee475809be",
   "metadata": {},
   "source": [
    "### Evaluating the sample variance accuracy with and without the Bessel's Correction (for all possible sample sizes!)"
   ]
  },
  {
   "cell_type": "markdown",
   "id": "a25dcc11-895a-44d0-8dd1-1747689dd9ad",
   "metadata": {},
   "source": [
    "Finally, let's do it again, but this time for all possible sample sizes $n$ (from 1 to the population size $N$):"
   ]
  },
  {
   "cell_type": "code",
   "execution_count": 93,
   "id": "7e1456ad-ca43-4e55-8383-3e3246056767",
   "metadata": {},
   "outputs": [
    {
     "name": "stderr",
     "output_type": "stream",
     "text": [
      "C:\\ProgramData\\anaconda3\\Lib\\site-packages\\numpy\\core\\fromnumeric.py:3747: RuntimeWarning: Degrees of freedom <= 0 for slice\n",
      "  return _methods._var(a, axis=axis, dtype=dtype, out=out, ddof=ddof,\n",
      "C:\\ProgramData\\anaconda3\\Lib\\site-packages\\numpy\\core\\_methods.py:261: RuntimeWarning: invalid value encountered in scalar divide\n",
      "  ret = ret.dtype.type(ret / rcount)\n"
     ]
    }
   ],
   "source": [
    "# Set a random seed to get random numbers in a reproducible way\n",
    "np.random.seed(3)\n",
    "\n",
    "# Compute the mean of the population\n",
    "mean_population = np.mean(arr_population)\n",
    "\n",
    "# Initiate empty lists to be populating during incoming for loop\n",
    "list_sample_size = []\n",
    "list_var_error_FromSampleMean_Bias = []\n",
    "list_var_error_FromSampleMean_UnBias = []\n",
    "\n",
    "# We don't want to sample zero elements (nonsense)\n",
    "for sample_size, element in enumerate(arr_population[0:10], start=1):\n",
    "   \n",
    "    # TODO\n",
    "    arr_sample = np.random.choice(arr_population, sample_size, replace=False)\n",
    "\n",
    "    # TODO\n",
    "    var_FromPopulationMean = ( 1/len(arr_sample) ) * sum( (arr_sample - mean_population)**2 )\n",
    "    var_FromSampleMean_Bias = np.var(arr_sample, ddof=0)\n",
    "    var_FromSampleMean_UnBias = np.var(arr_sample, ddof=1)\n",
    "\n",
    "    # TODO\n",
    "    var_error_FromSampleMean_Bias = abs((var_FromSampleMean_Bias - var_FromPopulationMean) / var_FromPopulationMean)\n",
    "    var_error_FromSampleMean_UnBias = abs((var_FromSampleMean_UnBias - var_FromPopulationMean) / var_FromPopulationMean)\n",
    "\n",
    "    # TODO\n",
    "    list_sample_size.append(sample_size)\n",
    "    list_var_error_FromSampleMean_Bias.append(var_error_FromSampleMean_Bias)\n",
    "    list_var_error_FromSampleMean_UnBias.append(var_error_FromSampleMean_UnBias)"
   ]
  },
  {
   "cell_type": "code",
   "execution_count": 94,
   "id": "a5a44b85-04f3-4b8e-8798-36e3cdf3c5b8",
   "metadata": {},
   "outputs": [],
   "source": [
    "# TODO\n",
    "df = pd.DataFrame( \n",
    "    {\n",
    "    'Sample size': list_sample_size,\n",
    "    'Variance discrepancy (using biased)': list_var_error_FromSampleMean_Bias,\n",
    "    'Variance discrepancy (using unbiased)': list_var_error_FromSampleMean_UnBias,\n",
    "    } \n",
    "                 )\n",
    "\n",
    "# We drop NAN\n",
    "df.dropna(inplace=True)\n",
    "\n",
    "# TODO\n",
    "df['Better UnBias?'] = df['Variance discrepancy (using unbiased)'] < df['Variance discrepancy (using biased)']"
   ]
  },
  {
   "cell_type": "code",
   "execution_count": 95,
   "id": "55a6e2bb-e047-410a-bfdf-9604e55c52fb",
   "metadata": {},
   "outputs": [
    {
     "data": {
      "text/html": [
       "<div>\n",
       "<style scoped>\n",
       "    .dataframe tbody tr th:only-of-type {\n",
       "        vertical-align: middle;\n",
       "    }\n",
       "\n",
       "    .dataframe tbody tr th {\n",
       "        vertical-align: top;\n",
       "    }\n",
       "\n",
       "    .dataframe thead th {\n",
       "        text-align: right;\n",
       "    }\n",
       "</style>\n",
       "<table border=\"1\" class=\"dataframe\">\n",
       "  <thead>\n",
       "    <tr style=\"text-align: right;\">\n",
       "      <th></th>\n",
       "      <th>Sample size</th>\n",
       "      <th>Variance discrepancy (using biased)</th>\n",
       "      <th>Variance discrepancy (using unbiased)</th>\n",
       "      <th>Better UnBias?</th>\n",
       "    </tr>\n",
       "  </thead>\n",
       "  <tbody>\n",
       "    <tr>\n",
       "      <th>1</th>\n",
       "      <td>2</td>\n",
       "      <td>0.984718</td>\n",
       "      <td>0.969436</td>\n",
       "      <td>True</td>\n",
       "    </tr>\n",
       "    <tr>\n",
       "      <th>2</th>\n",
       "      <td>3</td>\n",
       "      <td>0.884370</td>\n",
       "      <td>0.826555</td>\n",
       "      <td>True</td>\n",
       "    </tr>\n",
       "    <tr>\n",
       "      <th>3</th>\n",
       "      <td>4</td>\n",
       "      <td>0.008395</td>\n",
       "      <td>0.322139</td>\n",
       "      <td>False</td>\n",
       "    </tr>\n",
       "    <tr>\n",
       "      <th>4</th>\n",
       "      <td>5</td>\n",
       "      <td>0.122635</td>\n",
       "      <td>0.096706</td>\n",
       "      <td>True</td>\n",
       "    </tr>\n",
       "    <tr>\n",
       "      <th>5</th>\n",
       "      <td>6</td>\n",
       "      <td>0.031878</td>\n",
       "      <td>0.161747</td>\n",
       "      <td>False</td>\n",
       "    </tr>\n",
       "    <tr>\n",
       "      <th>6</th>\n",
       "      <td>7</td>\n",
       "      <td>0.034950</td>\n",
       "      <td>0.125891</td>\n",
       "      <td>False</td>\n",
       "    </tr>\n",
       "    <tr>\n",
       "      <th>7</th>\n",
       "      <td>8</td>\n",
       "      <td>0.031534</td>\n",
       "      <td>0.106818</td>\n",
       "      <td>False</td>\n",
       "    </tr>\n",
       "    <tr>\n",
       "      <th>8</th>\n",
       "      <td>9</td>\n",
       "      <td>0.065495</td>\n",
       "      <td>0.051318</td>\n",
       "      <td>True</td>\n",
       "    </tr>\n",
       "    <tr>\n",
       "      <th>9</th>\n",
       "      <td>10</td>\n",
       "      <td>0.079993</td>\n",
       "      <td>0.022230</td>\n",
       "      <td>True</td>\n",
       "    </tr>\n",
       "  </tbody>\n",
       "</table>\n",
       "</div>"
      ],
      "text/plain": [
       "   Sample size  Variance discrepancy (using biased)  \\\n",
       "1            2                             0.984718   \n",
       "2            3                             0.884370   \n",
       "3            4                             0.008395   \n",
       "4            5                             0.122635   \n",
       "5            6                             0.031878   \n",
       "6            7                             0.034950   \n",
       "7            8                             0.031534   \n",
       "8            9                             0.065495   \n",
       "9           10                             0.079993   \n",
       "\n",
       "   Variance discrepancy (using unbiased)  Better UnBias?  \n",
       "1                               0.969436            True  \n",
       "2                               0.826555            True  \n",
       "3                               0.322139           False  \n",
       "4                               0.096706            True  \n",
       "5                               0.161747           False  \n",
       "6                               0.125891           False  \n",
       "7                               0.106818           False  \n",
       "8                               0.051318            True  \n",
       "9                               0.022230            True  "
      ]
     },
     "execution_count": 95,
     "metadata": {},
     "output_type": "execute_result"
    }
   ],
   "source": [
    "df"
   ]
  },
  {
   "cell_type": "code",
   "execution_count": 96,
   "id": "079b6a22-a26b-4654-928e-73a7f9566c97",
   "metadata": {},
   "outputs": [
    {
     "data": {
      "text/plain": [
       "Better UnBias?\n",
       "True     5\n",
       "False    4\n",
       "Name: count, dtype: int64"
      ]
     },
     "execution_count": 96,
     "metadata": {},
     "output_type": "execute_result"
    }
   ],
   "source": [
    "df['Better UnBias?'].value_counts()"
   ]
  },
  {
   "cell_type": "code",
   "execution_count": 97,
   "id": "48c1aef2-5598-40a3-a9a9-437771824938",
   "metadata": {},
   "outputs": [
    {
     "data": {
      "image/png": "[encoded data removed]",
      "text/plain": [
       "<Figure size 640x480 with 1 Axes>"
      ]
     },
     "metadata": {},
     "output_type": "display_data"
    }
   ],
   "source": [
    "sns.lineplot(data=df, x='Sample size', y='Variance discrepancy (using biased)', color='red')\n",
    "sns.lineplot(data=df, x='Sample size', y='Variance discrepancy (using unbiased)', color='blue')\n",
    "\n",
    "plt.xscale('log')"
   ]
  },
  {
   "cell_type": "code",
   "execution_count": null,
   "id": "59c94d5d-0d07-4a86-9f16-db56397791f0",
   "metadata": {},
   "outputs": [],
   "source": []
  }
 ],
 "metadata": {
  "kernelspec": {
   "display_name": "Python 3 (ipykernel)",
   "language": "python",
   "name": "python3"
  },
  "language_info": {
   "codemirror_mode": {
    "name": "ipython",
    "version": 3
   },
   "file_extension": ".py",
   "mimetype": "text/x-python",
   "name": "python",
   "nbconvert_exporter": "python",
   "pygments_lexer": "ipython3",
   "version": "3.11.4"
  }
 },
 "nbformat": 4,
 "nbformat_minor": 5
}
