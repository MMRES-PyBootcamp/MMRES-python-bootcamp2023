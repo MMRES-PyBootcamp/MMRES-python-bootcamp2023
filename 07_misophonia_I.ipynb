{
  "cells": [
    {
      "cell_type": "markdown",
      "metadata": {
        "id": "view-in-github",
        "colab_type": "text"
      },
      "source": [
        "<a href=\"https://colab.research.google.com/github/MMRES-PyBootcamp/MMRES-python-bootcamp2022/blob/main/07_misophonia_I.ipynb\" target=\"_parent\"><img src=\"https://colab.research.google.com/assets/colab-badge.svg\" alt=\"Open In Colab\"/></a>"
      ]
    },
    {
      "cell_type": "markdown",
      "metadata": {
        "id": "iBiTnm-2Rwq9"
      },
      "source": [
        "# Session 7 - Misophonia (First part)\n",
        "> Misophonia is a recently described neurological condition whereby patients feel strong anxiety when hearing particular noises (someone blowing their nose, mobile ringing, trains passing, etc..). It is believed that 5% of the population suffers from this condition without knowing it, likely blaming their anxiety on other causes.\n",
        "\n",
        "The misophonia dataset is from a recent (unpublished) study that aimed to describe the relationships between misophonia and anxiety, depression, and cephalometric measures (shape of the jaw)."
      ]
    },
    {
      "cell_type": "markdown",
      "metadata": {
        "id": "jWDIGMJGRwrC"
      },
      "source": [
        "<div class=\"alert alert-block alert-success\"><b>Practice:</b> Practice cells announce exercises that you should try during the current boot camp session.\n",
        "</div>"
      ]
    },
    {
      "cell_type": "markdown",
      "metadata": {
        "id": "q4z9h_ndRwrC"
      },
      "source": [
        "<div class=\"alert alert-block alert-warning\"><b>Extension:</b> Extension cells correspond to exercises (or links to contents) that are a bit more advanced. We recommend to try them after the current boot camp session.\n",
        "</div>"
      ]
    },
    {
      "cell_type": "markdown",
      "metadata": {
        "id": "mK6FlNnFRwrD"
      },
      "source": [
        "<div class=\"alert alert-block alert-info\"><b>Tip:</b> Tip cells just give some advice or complementary information.\n",
        "</div>"
      ]
    },
    {
      "cell_type": "markdown",
      "metadata": {
        "id": "SwpIs5FVRwrD"
      },
      "source": [
        "<div class=\"alert alert-block alert-danger\"><b>Caveat:</b> Caveat cells warn you about the most common pitfalls one founds when starts his/her path learning Python.\n",
        "\n",
        "</div>"
      ]
    },
    {
      "cell_type": "markdown",
      "metadata": {
        "id": "77XC87TbRwrE"
      },
      "source": [
        "**This document is devised as a tool to enable your self-learning process. If you get stuck at some step or need any kind of help, please don't hesitate to raise your hand and ask for the teacher's guidance.**\n",
        "\n",
        "---"
      ]
    },
    {
      "cell_type": "code",
      "source": [
        "import matplotlib.pyplot as plt\n",
        "import seaborn as sns\n",
        "import numpy as np\n",
        "\n"
      ],
      "metadata": {
        "id": "xTJKZ1FK_w1L"
      },
      "execution_count": null,
      "outputs": []
    },
    {
      "cell_type": "markdown",
      "metadata": {
        "id": "FATVWbEYRwrE"
      },
      "source": [
        "## Data loading\n",
        "\n",
        "Let's begin again by loading Pandas with the `pd` alias and by importing the misophonia dataset `misophonia_data.xlsx` from the `/MMRES-python-bootcamp2022/datasets` sub-folder:"
      ]
    },
    {
      "cell_type": "code",
      "execution_count": 6,
      "metadata": {
        "id": "f-GEQ74bRwrF",
        "colab": {
          "base_uri": "https://localhost:8080/",
          "height": 488
        },
        "outputId": "acd7ac26-22b9-4a11-d2d7-6c07dd9a58f0"
      },
      "outputs": [
        {
          "output_type": "execute_result",
          "data": {
            "text/plain": [
              "    Misofonia  Misofonia.dic      Estado  Estado.dic  ansiedad.rasgo  \\\n",
              "0          si            4.0  divorciado         2.0            99.0   \n",
              "1          si            2.0      casado         1.0            75.0   \n",
              "2          no            0.0  divorciado         2.0            77.0   \n",
              "3          si            3.0      casado         1.0            95.0   \n",
              "4          no            0.0      casado         1.0            30.0   \n",
              "..        ...            ...         ...         ...             ...   \n",
              "133       NaN            NaN         NaN         NaN             NaN   \n",
              "134       NaN            NaN         NaN         NaN             NaN   \n",
              "135       NaN            NaN         NaN         NaN             NaN   \n",
              "136       NaN            NaN         NaN         NaN             NaN   \n",
              "137       NaN            NaN         NaN         NaN             NaN   \n",
              "\n",
              "     ansiedad.rasgo.dic  ansiedad.estado  ansiedad.estado.dic  \\\n",
              "0                   1.0             99.0                  1.0   \n",
              "1                   1.0             75.0                  1.0   \n",
              "2                   1.0             55.0                  0.0   \n",
              "3                   1.0             99.0                  1.0   \n",
              "4                   0.0             40.0                  0.0   \n",
              "..                  ...              ...                  ...   \n",
              "133                 NaN              NaN                  NaN   \n",
              "134                 NaN              NaN                  NaN   \n",
              "135                 NaN              NaN                  NaN   \n",
              "136                 NaN              NaN                  NaN   \n",
              "137                 NaN              NaN                  NaN   \n",
              "\n",
              "    ansiedad.medicada  ansiedad.medicada.dic  ...  Edad  CLASE  \\\n",
              "0                  no                    0.0  ...  44.0    III   \n",
              "1                  no                    0.0  ...  43.0     II   \n",
              "2                  no                    0.0  ...  24.0      I   \n",
              "3                  no                    0.0  ...  33.0    III   \n",
              "4                  no                    0.0  ...  41.0      I   \n",
              "..                ...                    ...  ...   ...    ...   \n",
              "133               NaN                    NaN  ...   NaN    NaN   \n",
              "134               NaN                    NaN  ...   NaN    NaN   \n",
              "135               NaN                    NaN  ...   NaN    NaN   \n",
              "136               NaN                    NaN  ...   NaN    NaN   \n",
              "137               NaN                    NaN  ...   NaN    NaN   \n",
              "\n",
              "    Angulo_convexidad  protusion.mandibular Angulo_cuelloYtercio  Subnasal_H  \\\n",
              "0                7.97                  13.0                 89.6         1.5   \n",
              "1               18.23                  -5.0                107.2         7.3   \n",
              "2               12.27                  11.5                101.4         5.0   \n",
              "3                7.81                  16.8                 75.3         2.7   \n",
              "4                9.81                  33.0                105.5         6.0   \n",
              "..                ...                   ...                  ...         ...   \n",
              "133               NaN                   NaN                  NaN         NaN   \n",
              "134               NaN                   NaN                  NaN         NaN   \n",
              "135               NaN                   NaN                  NaN         NaN   \n",
              "136               NaN                   NaN                  NaN         NaN   \n",
              "137               NaN                   NaN                  NaN         NaN   \n",
              "\n",
              "     cambio.autoconcepto  Misofonia.post  Misofonia.pre  ansiedad.dif  \n",
              "0                    1.0            21.0           14.0           0.0  \n",
              "1                    0.0            14.0           13.0           0.0  \n",
              "2                    NaN             NaN            NaN         -22.0  \n",
              "3                    1.0             NaN            NaN           4.0  \n",
              "4                    NaN             NaN            NaN          10.0  \n",
              "..                   ...             ...            ...           ...  \n",
              "133                  NaN            17.0           15.0           NaN  \n",
              "134                  NaN            21.0           12.0           NaN  \n",
              "135                  NaN            18.0           18.0           NaN  \n",
              "136                  NaN            14.0           14.0           NaN  \n",
              "137                  NaN            12.0            0.0           NaN  \n",
              "\n",
              "[138 rows x 23 columns]"
            ],
            "text/html": [
              "\n",
              "  <div id=\"df-735fd0e8-d49a-4620-91e9-14fab5491311\">\n",
              "    <div class=\"colab-df-container\">\n",
              "      <div>\n",
              "<style scoped>\n",
              "    .dataframe tbody tr th:only-of-type {\n",
              "        vertical-align: middle;\n",
              "    }\n",
              "\n",
              "    .dataframe tbody tr th {\n",
              "        vertical-align: top;\n",
              "    }\n",
              "\n",
              "    .dataframe thead th {\n",
              "        text-align: right;\n",
              "    }\n",
              "</style>\n",
              "<table border=\"1\" class=\"dataframe\">\n",
              "  <thead>\n",
              "    <tr style=\"text-align: right;\">\n",
              "      <th></th>\n",
              "      <th>Misofonia</th>\n",
              "      <th>Misofonia.dic</th>\n",
              "      <th>Estado</th>\n",
              "      <th>Estado.dic</th>\n",
              "      <th>ansiedad.rasgo</th>\n",
              "      <th>ansiedad.rasgo.dic</th>\n",
              "      <th>ansiedad.estado</th>\n",
              "      <th>ansiedad.estado.dic</th>\n",
              "      <th>ansiedad.medicada</th>\n",
              "      <th>ansiedad.medicada.dic</th>\n",
              "      <th>...</th>\n",
              "      <th>Edad</th>\n",
              "      <th>CLASE</th>\n",
              "      <th>Angulo_convexidad</th>\n",
              "      <th>protusion.mandibular</th>\n",
              "      <th>Angulo_cuelloYtercio</th>\n",
              "      <th>Subnasal_H</th>\n",
              "      <th>cambio.autoconcepto</th>\n",
              "      <th>Misofonia.post</th>\n",
              "      <th>Misofonia.pre</th>\n",
              "      <th>ansiedad.dif</th>\n",
              "    </tr>\n",
              "  </thead>\n",
              "  <tbody>\n",
              "    <tr>\n",
              "      <th>0</th>\n",
              "      <td>si</td>\n",
              "      <td>4.0</td>\n",
              "      <td>divorciado</td>\n",
              "      <td>2.0</td>\n",
              "      <td>99.0</td>\n",
              "      <td>1.0</td>\n",
              "      <td>99.0</td>\n",
              "      <td>1.0</td>\n",
              "      <td>no</td>\n",
              "      <td>0.0</td>\n",
              "      <td>...</td>\n",
              "      <td>44.0</td>\n",
              "      <td>III</td>\n",
              "      <td>7.97</td>\n",
              "      <td>13.0</td>\n",
              "      <td>89.6</td>\n",
              "      <td>1.5</td>\n",
              "      <td>1.0</td>\n",
              "      <td>21.0</td>\n",
              "      <td>14.0</td>\n",
              "      <td>0.0</td>\n",
              "    </tr>\n",
              "    <tr>\n",
              "      <th>1</th>\n",
              "      <td>si</td>\n",
              "      <td>2.0</td>\n",
              "      <td>casado</td>\n",
              "      <td>1.0</td>\n",
              "      <td>75.0</td>\n",
              "      <td>1.0</td>\n",
              "      <td>75.0</td>\n",
              "      <td>1.0</td>\n",
              "      <td>no</td>\n",
              "      <td>0.0</td>\n",
              "      <td>...</td>\n",
              "      <td>43.0</td>\n",
              "      <td>II</td>\n",
              "      <td>18.23</td>\n",
              "      <td>-5.0</td>\n",
              "      <td>107.2</td>\n",
              "      <td>7.3</td>\n",
              "      <td>0.0</td>\n",
              "      <td>14.0</td>\n",
              "      <td>13.0</td>\n",
              "      <td>0.0</td>\n",
              "    </tr>\n",
              "    <tr>\n",
              "      <th>2</th>\n",
              "      <td>no</td>\n",
              "      <td>0.0</td>\n",
              "      <td>divorciado</td>\n",
              "      <td>2.0</td>\n",
              "      <td>77.0</td>\n",
              "      <td>1.0</td>\n",
              "      <td>55.0</td>\n",
              "      <td>0.0</td>\n",
              "      <td>no</td>\n",
              "      <td>0.0</td>\n",
              "      <td>...</td>\n",
              "      <td>24.0</td>\n",
              "      <td>I</td>\n",
              "      <td>12.27</td>\n",
              "      <td>11.5</td>\n",
              "      <td>101.4</td>\n",
              "      <td>5.0</td>\n",
              "      <td>NaN</td>\n",
              "      <td>NaN</td>\n",
              "      <td>NaN</td>\n",
              "      <td>-22.0</td>\n",
              "    </tr>\n",
              "    <tr>\n",
              "      <th>3</th>\n",
              "      <td>si</td>\n",
              "      <td>3.0</td>\n",
              "      <td>casado</td>\n",
              "      <td>1.0</td>\n",
              "      <td>95.0</td>\n",
              "      <td>1.0</td>\n",
              "      <td>99.0</td>\n",
              "      <td>1.0</td>\n",
              "      <td>no</td>\n",
              "      <td>0.0</td>\n",
              "      <td>...</td>\n",
              "      <td>33.0</td>\n",
              "      <td>III</td>\n",
              "      <td>7.81</td>\n",
              "      <td>16.8</td>\n",
              "      <td>75.3</td>\n",
              "      <td>2.7</td>\n",
              "      <td>1.0</td>\n",
              "      <td>NaN</td>\n",
              "      <td>NaN</td>\n",
              "      <td>4.0</td>\n",
              "    </tr>\n",
              "    <tr>\n",
              "      <th>4</th>\n",
              "      <td>no</td>\n",
              "      <td>0.0</td>\n",
              "      <td>casado</td>\n",
              "      <td>1.0</td>\n",
              "      <td>30.0</td>\n",
              "      <td>0.0</td>\n",
              "      <td>40.0</td>\n",
              "      <td>0.0</td>\n",
              "      <td>no</td>\n",
              "      <td>0.0</td>\n",
              "      <td>...</td>\n",
              "      <td>41.0</td>\n",
              "      <td>I</td>\n",
              "      <td>9.81</td>\n",
              "      <td>33.0</td>\n",
              "      <td>105.5</td>\n",
              "      <td>6.0</td>\n",
              "      <td>NaN</td>\n",
              "      <td>NaN</td>\n",
              "      <td>NaN</td>\n",
              "      <td>10.0</td>\n",
              "    </tr>\n",
              "    <tr>\n",
              "      <th>...</th>\n",
              "      <td>...</td>\n",
              "      <td>...</td>\n",
              "      <td>...</td>\n",
              "      <td>...</td>\n",
              "      <td>...</td>\n",
              "      <td>...</td>\n",
              "      <td>...</td>\n",
              "      <td>...</td>\n",
              "      <td>...</td>\n",
              "      <td>...</td>\n",
              "      <td>...</td>\n",
              "      <td>...</td>\n",
              "      <td>...</td>\n",
              "      <td>...</td>\n",
              "      <td>...</td>\n",
              "      <td>...</td>\n",
              "      <td>...</td>\n",
              "      <td>...</td>\n",
              "      <td>...</td>\n",
              "      <td>...</td>\n",
              "      <td>...</td>\n",
              "    </tr>\n",
              "    <tr>\n",
              "      <th>133</th>\n",
              "      <td>NaN</td>\n",
              "      <td>NaN</td>\n",
              "      <td>NaN</td>\n",
              "      <td>NaN</td>\n",
              "      <td>NaN</td>\n",
              "      <td>NaN</td>\n",
              "      <td>NaN</td>\n",
              "      <td>NaN</td>\n",
              "      <td>NaN</td>\n",
              "      <td>NaN</td>\n",
              "      <td>...</td>\n",
              "      <td>NaN</td>\n",
              "      <td>NaN</td>\n",
              "      <td>NaN</td>\n",
              "      <td>NaN</td>\n",
              "      <td>NaN</td>\n",
              "      <td>NaN</td>\n",
              "      <td>NaN</td>\n",
              "      <td>17.0</td>\n",
              "      <td>15.0</td>\n",
              "      <td>NaN</td>\n",
              "    </tr>\n",
              "    <tr>\n",
              "      <th>134</th>\n",
              "      <td>NaN</td>\n",
              "      <td>NaN</td>\n",
              "      <td>NaN</td>\n",
              "      <td>NaN</td>\n",
              "      <td>NaN</td>\n",
              "      <td>NaN</td>\n",
              "      <td>NaN</td>\n",
              "      <td>NaN</td>\n",
              "      <td>NaN</td>\n",
              "      <td>NaN</td>\n",
              "      <td>...</td>\n",
              "      <td>NaN</td>\n",
              "      <td>NaN</td>\n",
              "      <td>NaN</td>\n",
              "      <td>NaN</td>\n",
              "      <td>NaN</td>\n",
              "      <td>NaN</td>\n",
              "      <td>NaN</td>\n",
              "      <td>21.0</td>\n",
              "      <td>12.0</td>\n",
              "      <td>NaN</td>\n",
              "    </tr>\n",
              "    <tr>\n",
              "      <th>135</th>\n",
              "      <td>NaN</td>\n",
              "      <td>NaN</td>\n",
              "      <td>NaN</td>\n",
              "      <td>NaN</td>\n",
              "      <td>NaN</td>\n",
              "      <td>NaN</td>\n",
              "      <td>NaN</td>\n",
              "      <td>NaN</td>\n",
              "      <td>NaN</td>\n",
              "      <td>NaN</td>\n",
              "      <td>...</td>\n",
              "      <td>NaN</td>\n",
              "      <td>NaN</td>\n",
              "      <td>NaN</td>\n",
              "      <td>NaN</td>\n",
              "      <td>NaN</td>\n",
              "      <td>NaN</td>\n",
              "      <td>NaN</td>\n",
              "      <td>18.0</td>\n",
              "      <td>18.0</td>\n",
              "      <td>NaN</td>\n",
              "    </tr>\n",
              "    <tr>\n",
              "      <th>136</th>\n",
              "      <td>NaN</td>\n",
              "      <td>NaN</td>\n",
              "      <td>NaN</td>\n",
              "      <td>NaN</td>\n",
              "      <td>NaN</td>\n",
              "      <td>NaN</td>\n",
              "      <td>NaN</td>\n",
              "      <td>NaN</td>\n",
              "      <td>NaN</td>\n",
              "      <td>NaN</td>\n",
              "      <td>...</td>\n",
              "      <td>NaN</td>\n",
              "      <td>NaN</td>\n",
              "      <td>NaN</td>\n",
              "      <td>NaN</td>\n",
              "      <td>NaN</td>\n",
              "      <td>NaN</td>\n",
              "      <td>NaN</td>\n",
              "      <td>14.0</td>\n",
              "      <td>14.0</td>\n",
              "      <td>NaN</td>\n",
              "    </tr>\n",
              "    <tr>\n",
              "      <th>137</th>\n",
              "      <td>NaN</td>\n",
              "      <td>NaN</td>\n",
              "      <td>NaN</td>\n",
              "      <td>NaN</td>\n",
              "      <td>NaN</td>\n",
              "      <td>NaN</td>\n",
              "      <td>NaN</td>\n",
              "      <td>NaN</td>\n",
              "      <td>NaN</td>\n",
              "      <td>NaN</td>\n",
              "      <td>...</td>\n",
              "      <td>NaN</td>\n",
              "      <td>NaN</td>\n",
              "      <td>NaN</td>\n",
              "      <td>NaN</td>\n",
              "      <td>NaN</td>\n",
              "      <td>NaN</td>\n",
              "      <td>NaN</td>\n",
              "      <td>12.0</td>\n",
              "      <td>0.0</td>\n",
              "      <td>NaN</td>\n",
              "    </tr>\n",
              "  </tbody>\n",
              "</table>\n",
              "<p>138 rows × 23 columns</p>\n",
              "</div>\n",
              "      <button class=\"colab-df-convert\" onclick=\"convertToInteractive('df-735fd0e8-d49a-4620-91e9-14fab5491311')\"\n",
              "              title=\"Convert this dataframe to an interactive table.\"\n",
              "              style=\"display:none;\">\n",
              "        \n",
              "  <svg xmlns=\"http://www.w3.org/2000/svg\" height=\"24px\"viewBox=\"0 0 24 24\"\n",
              "       width=\"24px\">\n",
              "    <path d=\"M0 0h24v24H0V0z\" fill=\"none\"/>\n",
              "    <path d=\"M18.56 5.44l.94 2.06.94-2.06 2.06-.94-2.06-.94-.94-2.06-.94 2.06-2.06.94zm-11 1L8.5 8.5l.94-2.06 2.06-.94-2.06-.94L8.5 2.5l-.94 2.06-2.06.94zm10 10l.94 2.06.94-2.06 2.06-.94-2.06-.94-.94-2.06-.94 2.06-2.06.94z\"/><path d=\"M17.41 7.96l-1.37-1.37c-.4-.4-.92-.59-1.43-.59-.52 0-1.04.2-1.43.59L10.3 9.45l-7.72 7.72c-.78.78-.78 2.05 0 2.83L4 21.41c.39.39.9.59 1.41.59.51 0 1.02-.2 1.41-.59l7.78-7.78 2.81-2.81c.8-.78.8-2.07 0-2.86zM5.41 20L4 18.59l7.72-7.72 1.47 1.35L5.41 20z\"/>\n",
              "  </svg>\n",
              "      </button>\n",
              "      \n",
              "  <style>\n",
              "    .colab-df-container {\n",
              "      display:flex;\n",
              "      flex-wrap:wrap;\n",
              "      gap: 12px;\n",
              "    }\n",
              "\n",
              "    .colab-df-convert {\n",
              "      background-color: #E8F0FE;\n",
              "      border: none;\n",
              "      border-radius: 50%;\n",
              "      cursor: pointer;\n",
              "      display: none;\n",
              "      fill: #1967D2;\n",
              "      height: 32px;\n",
              "      padding: 0 0 0 0;\n",
              "      width: 32px;\n",
              "    }\n",
              "\n",
              "    .colab-df-convert:hover {\n",
              "      background-color: #E2EBFA;\n",
              "      box-shadow: 0px 1px 2px rgba(60, 64, 67, 0.3), 0px 1px 3px 1px rgba(60, 64, 67, 0.15);\n",
              "      fill: #174EA6;\n",
              "    }\n",
              "\n",
              "    [theme=dark] .colab-df-convert {\n",
              "      background-color: #3B4455;\n",
              "      fill: #D2E3FC;\n",
              "    }\n",
              "\n",
              "    [theme=dark] .colab-df-convert:hover {\n",
              "      background-color: #434B5C;\n",
              "      box-shadow: 0px 1px 3px 1px rgba(0, 0, 0, 0.15);\n",
              "      filter: drop-shadow(0px 1px 2px rgba(0, 0, 0, 0.3));\n",
              "      fill: #FFFFFF;\n",
              "    }\n",
              "  </style>\n",
              "\n",
              "      <script>\n",
              "        const buttonEl =\n",
              "          document.querySelector('#df-735fd0e8-d49a-4620-91e9-14fab5491311 button.colab-df-convert');\n",
              "        buttonEl.style.display =\n",
              "          google.colab.kernel.accessAllowed ? 'block' : 'none';\n",
              "\n",
              "        async function convertToInteractive(key) {\n",
              "          const element = document.querySelector('#df-735fd0e8-d49a-4620-91e9-14fab5491311');\n",
              "          const dataTable =\n",
              "            await google.colab.kernel.invokeFunction('convertToInteractive',\n",
              "                                                     [key], {});\n",
              "          if (!dataTable) return;\n",
              "\n",
              "          const docLinkHtml = 'Like what you see? Visit the ' +\n",
              "            '<a target=\"_blank\" href=https://colab.research.google.com/notebooks/data_table.ipynb>data table notebook</a>'\n",
              "            + ' to learn more about interactive tables.';\n",
              "          element.innerHTML = '';\n",
              "          dataTable['output_type'] = 'display_data';\n",
              "          await google.colab.output.renderOutput(dataTable, element);\n",
              "          const docLink = document.createElement('div');\n",
              "          docLink.innerHTML = docLinkHtml;\n",
              "          element.appendChild(docLink);\n",
              "        }\n",
              "      </script>\n",
              "    </div>\n",
              "  </div>\n",
              "  "
            ]
          },
          "metadata": {},
          "execution_count": 6
        }
      ],
      "source": [
        "# Load package with its corresponding alias\n",
        "import pandas as pd\n",
        "\n",
        "# Reading an Excel SpreadSheet and storing it in as a DataFrame called `df`\n",
        "df = pd.read_excel('https://github.com/MMRES-PyBootcamp/MMRES-python-bootcamp2022/blob/main/datasets/misophoinia_data.xlsx?raw=true')\n",
        "\n",
        "# Return the DataFrame\n",
        "df"
      ]
    },
    {
      "cell_type": "markdown",
      "source": [
        "<div class=\"alert alert-block alert-warning\"><b>Extension:</b>\n",
        "\n",
        "We can load data from different file formats. Export the current dataset as a *.csv file, or as a *.tsv file and load it again using the proper function. You will have to find them in the documentation:\n",
        "\n",
        "https://pandas.pydata.org/docs/reference/api/pandas.DataFrame.to_csv.html\n",
        "\n",
        "https://pandas.pydata.org/pandas-docs/stable/user_guide/io.html\n",
        "</div>"
      ],
      "metadata": {
        "id": "XnXZ7cRkXsUh"
      }
    },
    {
      "cell_type": "markdown",
      "source": [
        "<div class=\"alert alert-block alert-info\"><b>Tip:</b> \n",
        "Uncomment the following cell to have an example\n",
        "</div> "
      ],
      "metadata": {
        "id": "YL_oulPcbO41"
      }
    },
    {
      "cell_type": "code",
      "source": [
        "\n",
        "#df = pd.read_csv('https://raw.githubusercontent.com/MMRES-PyBootcamp/MMRES-python-bootcamp2022/main/datasets/misophoinia_data.mod.csv', sep=',', na_values=\"NA\")\n",
        "#df\n"
      ],
      "metadata": {
        "id": "nYXwJPXHa-TX"
      },
      "execution_count": null,
      "outputs": []
    },
    {
      "cell_type": "markdown",
      "metadata": {
        "id": "DicSHOp8RwrH"
      },
      "source": [
        "### Data description\n",
        "\n",
        "Here is the description of the variables\n",
        "\n",
        "[1] “Misofonia”: Binary (si: misophinic, no: no misophinic)\n",
        "\n",
        "[2] “Misofonia.dic”: Categorical (0: no misophinic, 1: severity 1, 2: severity 2, 3: severity 3, 4: severity 4)\n",
        "\n",
        "[3] “Estado”: Marital status (casado: married, soltero: single, viuda: widow, divorciado:divorced)\n",
        "\n",
        "[4] “Estado.dic”: Numeric Marital status\n",
        "\n",
        "[5] “ansiedad.rasgo”: Score from 0-100 with anxiety personality trait\n",
        "\n",
        "[6] “ansiedad.rasgo.dic”: Binary score (0,1) of anxiety personality trait\n",
        "\n",
        "[7] “ansiedad.estado”: Score from 0-100 with current state of anxiety\n",
        "\n",
        "[8] “ansiedad.estado.dic”: Binary score (0,1) with current state of anxiety\n",
        "\n",
        "[9] “ansiedad.medicada”: Diagnosed with anxiety disorder (si, no)\n",
        "\n",
        "[10] “ansiedad.medicada.dic”: Diagnosed with anxiety disorder (1, 0)\n",
        "\n",
        "[11] “depresion”: Score from 0-50 with current state of depression\n",
        "\n",
        "[12] “depresion.dic” : Binary score (0,1) with current state of depression\n",
        "\n",
        "[13] “Sexo”: Male=H, Female:M\n",
        "\n",
        "[14] “Edad”: Age\n",
        "\n",
        "[15] “CLASE”: Type of jaw\n",
        "\n",
        "[16] “Angulo_convexidad”: convexity angle\n",
        "\n",
        "[17] “protusion.mandibular”: Projection of the jaw [18] “Angulo_cuelloYtercio”: angle between jaw and neck [19] “Subnasal_H”: Nasal angle\n",
        "\n",
        "[20] “cambio.autoconcepto”: Whether people changed their self-concept after treatment.\n",
        "\n",
        "[21] “Misofonia.post”: Misophionia diagnosed (A-MISO) after an educational program, where patients were made aware of a condition called misophonia.\n",
        "\n",
        "[22] “Misofonia.pre”: Misophionia diagnosed (A-MISO) before an educational program, where patients were made aware of a condition called misophonia\n",
        "\n",
        "[23] “ansiedad.dif”: Difference between anxiety state and anxiety trait scores\n",
        "\n",
        "<br><br>\n",
        "\n",
        "When reporting the results of a study, we first describe the variables of interest in tables and figures.\n",
        "\n",
        "We describe demographics (sex, age, marital status, etc..)\n",
        "\n",
        "We describe outcome variables (misophonia)"
      ]
    },
    {
      "cell_type": "markdown",
      "source": [
        "### 1. Descriptive statistics of explanatory variables\n",
        "\n",
        "\n",
        "We describe explanatory variables such as cephalometric measures, anxiety, depression, etc."
      ],
      "metadata": {
        "id": "JP2ZK7Kr0YqX"
      }
    },
    {
      "cell_type": "markdown",
      "source": [
        "\n",
        "<div class=\"alert alert-block alert-success\"><b>Practice:</b>\n",
        "\n",
        "Imagine we want to study the anxiety of participants in the misophonia study. Once loaded the data, describe the participants’ sex, age and marital status. \n",
        "</div>\n"
      ],
      "metadata": {
        "id": "Y20AoX2K7eLB"
      }
    },
    {
      "cell_type": "code",
      "execution_count": null,
      "metadata": {
        "id": "bcEtDgM3RwrI"
      },
      "outputs": [],
      "source": [
        "# Count the numnber of occurences of each value in a categorical variable\n",
        "from collections import Counter\n",
        "print(Counter(df['Sexo']))\n"
      ]
    },
    {
      "cell_type": "code",
      "source": [
        "\n",
        "# this is the same using pandas\n",
        "df.groupby('Sexo').size()\n"
      ],
      "metadata": {
        "id": "x8X1adzf-7tt"
      },
      "execution_count": null,
      "outputs": []
    },
    {
      "cell_type": "code",
      "source": [
        "# this way we can get the percentages\n",
        "df['Sexo'].value_counts(normalize=True) * 100"
      ],
      "metadata": {
        "id": "L7WCZOmk_DXR"
      },
      "execution_count": null,
      "outputs": []
    },
    {
      "cell_type": "code",
      "source": [
        "# plot the percentage using matplotlib\n",
        "\n",
        "fig, ax = plt.subplots()\n",
        "ax.bar([0,1],df['Sexo'].value_counts(normalize=True) * 100)\n",
        "ax.set_xticks([0,1])\n",
        "ax.set_xticklabels(['H','M'])\n",
        "ax.set_ylabel('Percentage')"
      ],
      "metadata": {
        "id": "iqUGJJeK0USS"
      },
      "execution_count": null,
      "outputs": []
    },
    {
      "cell_type": "code",
      "source": [
        "# plot the counts using seaborn\n",
        "fig, ax = plt.subplots()\n",
        "sns.countplot(data=df,x='Sexo')"
      ],
      "metadata": {
        "id": "FJPdq5oNAoCR"
      },
      "execution_count": null,
      "outputs": []
    },
    {
      "cell_type": "code",
      "source": [
        "#mean with pandas\n",
        "df['Edad'].mean()"
      ],
      "metadata": {
        "id": "lloa5ZaEWm7k"
      },
      "execution_count": null,
      "outputs": []
    },
    {
      "cell_type": "code",
      "source": [
        "#mean with numpy\n",
        "np.mean(df['Edad'])"
      ],
      "metadata": {
        "id": "VpsVPsLiW86A"
      },
      "execution_count": null,
      "outputs": []
    },
    {
      "cell_type": "code",
      "source": [
        "#standard deviation with numpy\n",
        "np.std(df['Edad'])"
      ],
      "metadata": {
        "id": "ow33q0InXLxB"
      },
      "execution_count": null,
      "outputs": []
    },
    {
      "cell_type": "code",
      "source": [
        "#standard deviation with pandas\n",
        "df['Edad'].std()"
      ],
      "metadata": {
        "id": "gsGk0VuIXXL6"
      },
      "execution_count": null,
      "outputs": []
    },
    {
      "cell_type": "code",
      "source": [
        "df['Edad'].describe()\n"
      ],
      "metadata": {
        "id": "qvWjS0XUX2fK"
      },
      "execution_count": null,
      "outputs": []
    },
    {
      "cell_type": "markdown",
      "source": [
        "<div class=\"alert alert-block alert-success\"><b>Practice:</b>\n",
        "\n",
        "Try to obtain the descriptive statistics shown above with the individual functions of numpy and/or pandas.\n",
        " \n",
        "</div>"
      ],
      "metadata": {
        "id": "X8vOS6fYaSBU"
      }
    },
    {
      "cell_type": "code",
      "source": [
        "# histogram\n",
        "sns.distplot(df['Edad'])"
      ],
      "metadata": {
        "id": "r61iz0knXuZK"
      },
      "execution_count": null,
      "outputs": []
    },
    {
      "cell_type": "code",
      "source": [
        "sns.boxplot(y=df['Edad'])"
      ],
      "metadata": {
        "id": "lkJZBy7jajt0"
      },
      "execution_count": null,
      "outputs": []
    },
    {
      "cell_type": "code",
      "source": [
        "fig, ax = plt.subplots()\n",
        "fig.set_size_inches(3, 5)\n",
        "sns.boxplot(data=df, y='Edad',ax=ax)"
      ],
      "metadata": {
        "id": "6vuRlEb6awOE"
      },
      "execution_count": null,
      "outputs": []
    },
    {
      "cell_type": "code",
      "source": [
        "# Age by sex\n",
        "maleage = df[df['Sexo']==\"H\"]['Edad']\n",
        "femaleage = df[df['Sexo']==\"M\"]['Edad']\n",
        "print('male age\\n',maleage.describe())\n",
        "print('female age\\n',femaleage.describe())"
      ],
      "metadata": {
        "id": "I1rf5SROem_z"
      },
      "execution_count": null,
      "outputs": []
    },
    {
      "cell_type": "code",
      "source": [
        "sns.boxplot(data=df,y='Edad', x='Sexo')"
      ],
      "metadata": {
        "id": "5pLgZu9Lf1gF"
      },
      "execution_count": null,
      "outputs": []
    },
    {
      "cell_type": "code",
      "source": [
        "# Marital status:\n",
        "maritaldf=df['Estado'].value_counts(normalize=True) * 100\n",
        "maritaldf"
      ],
      "metadata": {
        "id": "-eX_FP-Ag5uk"
      },
      "execution_count": null,
      "outputs": []
    },
    {
      "cell_type": "code",
      "source": [
        "plt.pie(maritaldf,labels=maritaldf.index)"
      ],
      "metadata": {
        "id": "nFMIvsvjhXuY"
      },
      "execution_count": null,
      "outputs": []
    },
    {
      "cell_type": "markdown",
      "source": [
        "### 2. Descriptive statistics of clinical outcome\n",
        "\n",
        "We have four measures of anxiety:\n",
        "<ul>\n",
        "  <li> ansiedad.rasgo (are you an anxious person?) continuous:0-100 </li>\n",
        "  <li> ansiedad.estado (are you currently feeling anxious?) continuous:0-100 </li>\n",
        "  <li> ansiedad.medicada (have you been diagnosed with an anxiety disorder?) binary (si, no) </li>\n",
        "  <li> ansiedad.dif (difference between ansiedad.estado and ansiedad.rasgo) </li>\n",
        "</ul>"
      ],
      "metadata": {
        "id": "x8RidpecjpY-"
      }
    },
    {
      "cell_type": "markdown",
      "source": [
        "#### Anxiety trait \n",
        "are you an anxious person?\n",
        "continuous:0-100"
      ],
      "metadata": {
        "id": "s4Agdyh3lAyw"
      }
    },
    {
      "cell_type": "code",
      "source": [
        "df['ansiedad.rasgo'].describe()"
      ],
      "metadata": {
        "id": "AblRKr7_jtr4"
      },
      "execution_count": null,
      "outputs": []
    },
    {
      "cell_type": "code",
      "source": [
        "sns.distplot(df['ansiedad.rasgo'])"
      ],
      "metadata": {
        "id": "gZGPYHxhkBMT"
      },
      "execution_count": null,
      "outputs": []
    },
    {
      "cell_type": "code",
      "source": [
        "fig, ax = plt.subplots()\n",
        "fig.set_size_inches(3, 5)\n",
        "sns.boxplot(data=df,y='ansiedad.rasgo',ax=ax)"
      ],
      "metadata": {
        "id": "DyQbC2uckMhn"
      },
      "execution_count": null,
      "outputs": []
    },
    {
      "cell_type": "code",
      "source": [],
      "metadata": {
        "id": "wlkSNAz3kz25"
      },
      "execution_count": null,
      "outputs": []
    },
    {
      "cell_type": "markdown",
      "source": [
        "#### Anxiety state\n",
        "are you currently feeling anxious? \n",
        "*continuous*:0-100"
      ],
      "metadata": {
        "id": "nL5l7eBAk0Bq"
      }
    },
    {
      "cell_type": "code",
      "source": [
        "df['ansiedad.estado'].describe()"
      ],
      "metadata": {
        "id": "eSndujOykcHb"
      },
      "execution_count": null,
      "outputs": []
    },
    {
      "cell_type": "code",
      "source": [
        "sns.distplot(df['ansiedad.estado'])"
      ],
      "metadata": {
        "id": "K5x7UEJkkizN"
      },
      "execution_count": null,
      "outputs": []
    },
    {
      "cell_type": "code",
      "source": [
        "fig, ax = plt.subplots()\n",
        "fig.set_size_inches(3, 5)\n",
        "sns.boxplot(data=df,y='ansiedad.estado',ax=ax)"
      ],
      "metadata": {
        "id": "d9BJkRuUklWT"
      },
      "execution_count": null,
      "outputs": []
    },
    {
      "cell_type": "markdown",
      "source": [
        "#### Diagnosed\n",
        "have you been diagnosed with an anxiety disorder? binary (si, no)\n"
      ],
      "metadata": {
        "id": "SAb7e72uW_Dn"
      }
    },
    {
      "cell_type": "code",
      "source": [
        "# plot the counts using seaborn\n",
        "fig, ax = plt.subplots()\n",
        "sns.countplot(data=df,x='ansiedad.medicada')"
      ],
      "metadata": {
        "id": "GSogQHPokr-O"
      },
      "execution_count": null,
      "outputs": []
    },
    {
      "cell_type": "markdown",
      "source": [
        "#### Relationships between outcomes"
      ],
      "metadata": {
        "id": "I5nNMh-mY_pj"
      }
    },
    {
      "cell_type": "code",
      "source": [
        "fig, ax = plt.subplots()\n",
        "ax.scatter(df['ansiedad.rasgo'],df['ansiedad.estado'])\n",
        "ax.set_xlabel('ansiedad.rasgo')\n",
        "ax.set_ylabel('ansiedad.estado')\n"
      ],
      "metadata": {
        "id": "S959kVttY-3C"
      },
      "execution_count": null,
      "outputs": []
    },
    {
      "cell_type": "code",
      "source": [
        "sns.regplot(data=df,x='ansiedad.rasgo',y='ansiedad.estado')"
      ],
      "metadata": {
        "id": "y0kpMhvEZbFh"
      },
      "execution_count": null,
      "outputs": []
    },
    {
      "cell_type": "code",
      "source": [
        "sns.relplot(data=df,x='ansiedad.rasgo',y='ansiedad.estado',hue='ansiedad.medicada')"
      ],
      "metadata": {
        "id": "XBnGHZWpZwPw"
      },
      "execution_count": null,
      "outputs": []
    },
    {
      "cell_type": "markdown",
      "source": [
        "#### Relationships between explanatory and outcome variables"
      ],
      "metadata": {
        "id": "xvJDR0U2aSiQ"
      }
    },
    {
      "cell_type": "code",
      "source": [
        "# Trait by sex\n",
        "fig, ax = plt.subplots()\n",
        "fig.set_size_inches(3, 5)\n",
        "sns.boxplot(data=df, x='ansiedad.medicada', y='Edad',ax=ax)"
      ],
      "metadata": {
        "id": "ipjR7OzibIZg"
      },
      "execution_count": null,
      "outputs": []
    },
    {
      "cell_type": "code",
      "source": [
        "# State by sex\n",
        "fig, ax = plt.subplots()\n",
        "fig.set_size_inches(3, 5)\n",
        "sns.boxplot(data=df, x='Sexo', y='ansiedad.estado', ax=ax)"
      ],
      "metadata": {
        "id": "4LWC9TSJadVE"
      },
      "execution_count": null,
      "outputs": []
    },
    {
      "cell_type": "code",
      "source": [
        "# Diagnosed by sex\n",
        "# State by sex\n",
        "fig, ax = plt.subplots()\n",
        "fig.set_size_inches(3, 5)\n",
        "sns.boxplot(data=df, x='Sexo', y='ansiedad.estado', hue='ansiedad.medicada', ax=ax)"
      ],
      "metadata": {
        "id": "4ysG3HN1a5EZ"
      },
      "execution_count": null,
      "outputs": []
    },
    {
      "cell_type": "code",
      "source": [
        "# plot the percentages using seaborn\n",
        "\n",
        "x, y, hue = \"ansiedad.medicada\", \"proportion\", \"Sexo\"\n",
        "hue_order = [\"M\", \"H\"]\n",
        "\n",
        "(df[x]\n",
        " .groupby(df[hue])\n",
        " .value_counts(normalize=True)\n",
        " .rename(y)\n",
        " .reset_index()\n",
        " .pipe((sns.barplot, \"data\"), x=x, y=y, hue=hue))"
      ],
      "metadata": {
        "id": "p1jMprADBCot"
      },
      "execution_count": null,
      "outputs": []
    },
    {
      "cell_type": "code",
      "source": [
        "#conditional frequencies by sex\n",
        "pd.crosstab(df['Sexo'],df['ansiedad.medicada'],normalize='index')\n"
      ],
      "metadata": {
        "id": "rsv8uO3Zgh2j"
      },
      "execution_count": null,
      "outputs": []
    },
    {
      "cell_type": "code",
      "source": [
        "#Trait Vs age\n",
        "sns.scatterplot(df['Edad'], df['ansiedad.rasgo'])"
      ],
      "metadata": {
        "id": "r7TbWiCBSr3G"
      },
      "execution_count": null,
      "outputs": []
    },
    {
      "cell_type": "code",
      "source": [
        "#State Vs age\n",
        "sns.scatterplot(df['Edad'], df['ansiedad.estado'])"
      ],
      "metadata": {
        "id": "vnHtsH04TO12"
      },
      "execution_count": null,
      "outputs": []
    },
    {
      "cell_type": "code",
      "source": [
        "#age by diagnosis\n",
        "sns.boxplot(data=df,y='Edad',x='ansiedad.medicada')"
      ],
      "metadata": {
        "id": "FXj2WNDaTfFO"
      },
      "execution_count": null,
      "outputs": []
    }
  ],
  "metadata": {
    "colab": {
      "name": "07_misophonia_I.ipynb",
      "provenance": [],
      "collapsed_sections": [],
      "toc_visible": true,
      "include_colab_link": true
    },
    "kernelspec": {
      "display_name": "Python 3 (ipykernel)",
      "language": "python",
      "name": "python3"
    },
    "language_info": {
      "codemirror_mode": {
        "name": "ipython",
        "version": 3
      },
      "file_extension": ".py",
      "mimetype": "text/x-python",
      "name": "python",
      "nbconvert_exporter": "python",
      "pygments_lexer": "ipython3",
      "version": "3.8.8"
    }
  },
  "nbformat": 4,
  "nbformat_minor": 0
}