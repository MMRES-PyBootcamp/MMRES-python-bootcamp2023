{
 "cells": [
  {
   "cell_type": "markdown",
   "metadata": {
    "colab_type": "text",
    "id": "view-in-github"
   },
   "source": [
    "<a href=\"https://colab.research.google.com/github/MMRES-PyBootcamp/MMRES-python-bootcamp2023/blob/main/01_Intro.ipynb\" target=\"_parent\"><img src=\"https://colab.research.google.com/assets/colab-badge.svg\" alt=\"Open In Colab\"/></a>"
   ]
  },
  {
   "cell_type": "markdown",
   "metadata": {
    "id": "1Fk29gAa8T8x",
    "tags": []
   },
   "source": [
    "# Session 1 - Introduction (First part - 10' + 30')\n",
    "> A basic introduction to work with Python in Jupyter Notebooks. First, you will become familiar with *Jupyter Notebooks* interface. In addition, you will start to hear a bit of Python slang such as *variable*, *comment*, *built-in function*, *integer*, *float*, *string*, *boolean*... Finally, you will be introduced to some of the most fundamental Python operators, in particular to *arithmetic*, *comparison* and *logical* operators."
   ]
  },
  {
   "cell_type": "markdown",
   "metadata": {},
   "source": [
    "## Outline\n",
    " * [What is Python?](#What-is-Python?)\n",
    " * [What is a Jupyter Notebook?](#What-is-a-Jupyter-Notebook?)\n",
    " * [Define variables](#Define-variables)\n",
    " * [Code comments](#Code-comments)\n",
    " * [Built-in function `type()`](#Built-in-function-type())\n",
    " * [Built-in function `print()`](#Built-in-function-print())\n",
    " * [Arithmetic operators](#Arithmetic-operators)\n",
    " * [Comparison operators](#Comparison-operators)\n",
    " * [Logical operators](#Logical-operators)"
   ]
  },
  {
   "cell_type": "markdown",
   "metadata": {},
   "source": [
    "This document is devised as a tool to enable your **self-learning process**. If you get stuck at some step or need any kind of help, please don't hesitate to raise your hand and ask for the teacher's guidance. Along it, you will some some **special blocks** (known as *cells* in jupyter slang):"
   ]
  },
  {
   "cell_type": "markdown",
   "metadata": {},
   "source": [
    "<div class=\"alert alert-block alert-success\"><b>Practice:</b> Practice cells announce exercises that you should try during the current boot camp session. Usually, solutions are provided using hidden cells (look for the dot dot dot symbol \"...\" and unravel it by clicking to check that your try is correct). \n",
    "</div>"
   ]
  },
  {
   "cell_type": "markdown",
   "metadata": {},
   "source": [
    "<div class=\"alert alert-block alert-warning\"><b>Extension:</b> Extension cells correspond to exercises (or links to contents) that are a bit more advanced. We recommend to try them after the current boot camp session.\n",
    "</div>"
   ]
  },
  {
   "cell_type": "markdown",
   "metadata": {},
   "source": [
    "<div class=\"alert alert-block alert-info\"><b>Tip:</b> Tip cells just give some advice or complementary information.\n",
    "</div>"
   ]
  },
  {
   "cell_type": "markdown",
   "metadata": {},
   "source": [
    "<div class=\"alert alert-block alert-danger\"><b>Caveat:</b> Caveat cells warn you about the most common pitfalls one founds when starts his/her path learning Python.\n",
    "\n",
    "</div>"
   ]
  },
  {
   "cell_type": "markdown",
   "metadata": {},
   "source": [
    "---"
   ]
  },
  {
   "cell_type": "markdown",
   "metadata": {
    "id": "2tTMHeWl8T8z"
   },
   "source": [
    "## What is Python?\n",
    "\n",
    "Python is a high-level, interpreted, general-purpose programming language created by [Guido van Rossum](https://en.wikipedia.org/wiki/Guido_van_Rossum) in 1991. These are some Python traits:\n",
    "\n",
    "- High code readability and easy to learn.\n",
    "- Widely used in science and engineering.\n",
    "- Huge community of users with lots of packages."
   ]
  },
  {
   "cell_type": "markdown",
   "metadata": {
    "id": "IPC3ml3A8T80"
   },
   "source": [
    "## What is a Jupyter Notebook?\n",
    "\n",
    "Jupyter Notebook is a web-based interactive computational environment for creating documents that combine executable calculations and formatted text (for example, the document you are looking at right now). As we will see throughout the course, in a Jupyter Notebook we can combine code cells (with executable snippets and figures) and [Markdown](https://en.wikipedia.org/wiki/Markdown) cells (with text content), making them pretty handy (in fact, the whole [MMRES Python boot camp](https://github.com/MMRES-PyBootcamp/MMRES-python-bootcamp2023) is made out of notebooks)."
   ]
  },
  {
   "cell_type": "markdown",
   "metadata": {},
   "source": [
    "This is a *code cell*:"
   ]
  },
  {
   "cell_type": "code",
   "execution_count": 1,
   "metadata": {
    "tags": []
   },
   "outputs": [
    {
     "data": {
      "text/plain": [
       "4"
      ]
     },
     "execution_count": 1,
     "metadata": {},
     "output_type": "execute_result"
    }
   ],
   "source": [
    "2 + 2"
   ]
  },
  {
   "cell_type": "markdown",
   "metadata": {},
   "source": [
    "This is a *Markdown cell*:"
   ]
  },
  {
   "cell_type": "markdown",
   "metadata": {},
   "source": [
    "2 + 2"
   ]
  },
  {
   "cell_type": "markdown",
   "metadata": {},
   "source": [
    "The first thing to know when working with notebooks is that there are two modes:\n",
    "\n",
    "+ **Command mode**: This mode is used to navigate or manipulate **whole cells**. We enter this mode with `Esc`. For example, we can take these actions just by hovering over notebook cells:\n",
    "  - Move from cell to cell with the `↑`/`↓` keys.\n",
    "  - Add a cell above/below the current one with `a`/`b`.\n",
    "  - Copy, cut and paste cell with `c`/`x`/`v`.\n",
    "  - Change cell type to code or markdown with `y`/`m`.\n",
    "  - Delete and undo with `d + d`/`z`.\n",
    "\n",
    "\n",
    "+ **Edit mode**: This mode is used to edit **cells source content**. We enter this mode with `Enter`. We can also enter edit mode just by double-clicking on any cell and then just clicking again (you will see the typical prompt just where this last click happened).\n",
    "\n",
    "Regardless of the mode, we can always run the cell with `Ctrl + Enter`, run and select the cell below with `Shift + Enter` and run and create a cell below with `Alt + Enter`."
   ]
  },
  {
   "cell_type": "markdown",
   "metadata": {},
   "source": [
    "<div class=\"alert alert-block alert-success\"><b>Practice 1:</b>\n",
    "\n",
    "1) Select this cell and try hitting `Enter` to see the source of this text (note how background changes from green to white).\n",
    "\n",
    "In edit mode we can write and format the text. Changing to command mode with `Esc` will prevent us from editing but, now, the markdown source is visible (note how background changes again but now white green to gray).\n",
    "    \n",
    "2) In order to see the text as it was before we need to execute this cell: try with `Ctrl + Enter`.\n",
    "3) Get some practice with the Jupyter Notebook shortcuts. For instance, in command mode:\n",
    "    1) Create a cell below this one.\n",
    "    2) Switch to edit mode and type your name.\n",
    "    3) Execute it. What happened?\n",
    "    4) Change the cell from *Code* to *Markdown*.\n",
    "    5) Execute it again.\n",
    "\n",
    "</div>"
   ]
  },
  {
   "cell_type": "markdown",
   "metadata": {},
   "source": [
    "<div class=\"alert alert-block alert-success\"><b>Practice 1 ends here.</b>\n",
    "\n",
    "</div>"
   ]
  },
  {
   "cell_type": "markdown",
   "metadata": {
    "id": "VBcnyjfB8T82"
   },
   "source": [
    "## Define variables"
   ]
  },
  {
   "cell_type": "markdown",
   "metadata": {
    "id": "1iwsZUmH8T83"
   },
   "source": [
    "You can use code cells to make mathematical operations and return the corresponding output:"
   ]
  },
  {
   "cell_type": "code",
   "execution_count": 2,
   "metadata": {
    "id": "ZtsGWJ8l8T83",
    "outputId": "a4cbe23c-b6ff-40e3-9b00-4dd667ae5ab0"
   },
   "outputs": [
    {
     "data": {
      "text/plain": [
       "2"
      ]
     },
     "execution_count": 2,
     "metadata": {},
     "output_type": "execute_result"
    }
   ],
   "source": [
    "# Compute a sum and return the output\n",
    "1 + 1"
   ]
  },
  {
   "cell_type": "markdown",
   "metadata": {},
   "source": [
    "Sometimes you might need to store the output in a *variable* to use it later:"
   ]
  },
  {
   "cell_type": "code",
   "execution_count": 3,
   "metadata": {},
   "outputs": [],
   "source": [
    "# Compute a sum and store the output in a variable called \"integer_2\"\n",
    "integer_2 = 1 + 1"
   ]
  },
  {
   "cell_type": "markdown",
   "metadata": {
    "id": "R-5JcYJh8T86"
   },
   "source": [
    "To recover the value of the stored variable:"
   ]
  },
  {
   "cell_type": "code",
   "execution_count": 4,
   "metadata": {},
   "outputs": [
    {
     "data": {
      "text/plain": [
       "2"
      ]
     },
     "execution_count": 4,
     "metadata": {},
     "output_type": "execute_result"
    }
   ],
   "source": [
    "# Recover the value of \"integer_2\"\n",
    "integer_2"
   ]
  },
  {
   "cell_type": "markdown",
   "metadata": {
    "tags": []
   },
   "source": [
    "## Code comments\n",
    "\n",
    "Did you noticed the code lines from the code cell above starting with an hash symbol (`#`)? They are *code comments*. The Python interpreter will skip all code lines starting with `#`. Comments are also handy to *temporarily* turn some lines off."
   ]
  },
  {
   "cell_type": "code",
   "execution_count": 5,
   "metadata": {},
   "outputs": [],
   "source": [
    "# This is just a comment"
   ]
  },
  {
   "cell_type": "markdown",
   "metadata": {},
   "source": [
    "<div class=\"alert alert-block alert-info\"><b>Tip:</b>\n",
    "\n",
    "A well-commented code is always something to be thankful for. Try to keep your code nicely commented as far as possible. Anyone diving in your code will be very grateful (specially if that person is your future yourself). Jupyter Notebooks users can also devote Markdown cells to this aim.\n",
    "</div>"
   ]
  },
  {
   "cell_type": "markdown",
   "metadata": {},
   "source": [
    "## Built-in function `type()`"
   ]
  },
  {
   "cell_type": "markdown",
   "metadata": {},
   "source": [
    "There are many variable types in Python: numerical types (such as [integer](https://docs.python.org/3/library/functions.html#int), [float](https://docs.python.org/3/library/functions.html#float), [complex](https://docs.python.org/3/library/functions.html#complex)), text types ([string](https://docs.python.org/3/library/stdtypes.html#text-sequence-type-str)), sequence types ([list](https://docs.python.org/3/library/stdtypes.html#list), [tuple](https://docs.python.org/3/library/stdtypes.html#tuple), [range](https://docs.python.org/3/library/stdtypes.html#range)), set types ([set](https://docs.python.org/3/library/stdtypes.html#set), [frozenset](https://docs.python.org/3/library/stdtypes.html#frozenset)), mapping types ([dictionary](https://docs.python.org/3/library/stdtypes.html#dict)) and some other (for example [boolean](https://docs.python.org/3/library/stdtypes.html#boolean-values)). You can use the [buit-in Python function](https://docs.python.org/3/library/functions.html) [`type()`](https://docs.python.org/3/library/functions.html#type) to get the type of any variable:"
   ]
  },
  {
   "cell_type": "code",
   "execution_count": 6,
   "metadata": {
    "tags": []
   },
   "outputs": [
    {
     "data": {
      "text/plain": [
       "int"
      ]
     },
     "execution_count": 6,
     "metadata": {},
     "output_type": "execute_result"
    }
   ],
   "source": [
    "# Get the variable type of `integer_2`\n",
    "type(integer_2)"
   ]
  },
  {
   "cell_type": "markdown",
   "metadata": {},
   "source": [
    "<div class=\"alert alert-block alert-success\"><b>Practice 2:</b>\n",
    "\n",
    "1) In the 1<sup>st</sup> code cell below, store the result of the sum `1.0 + 1.0` in a variable called `float_2`.\n",
    "2) In the 2<sup>nd</sup> one, get the type of the variable `float_2`.\n",
    "3) In the 3<sup>rd</sup> one, get the type of the sum `integer_2 + float_2`. Whats yields a sum of an integer and a float?\n",
    "\n",
    "</div>"
   ]
  },
  {
   "cell_type": "code",
   "execution_count": 7,
   "metadata": {},
   "outputs": [],
   "source": [
    "# Compute a sum and store the output in `float_2`\n"
   ]
  },
  {
   "cell_type": "code",
   "execution_count": 8,
   "metadata": {
    "tags": []
   },
   "outputs": [],
   "source": [
    "# Compute a sum and store the output in `float_2`\n",
    "float_2 = 1.0 + 1.0"
   ]
  },
  {
   "cell_type": "code",
   "execution_count": 9,
   "metadata": {},
   "outputs": [],
   "source": [
    "# Get the variable type of `float_2`\n"
   ]
  },
  {
   "cell_type": "code",
   "execution_count": 10,
   "metadata": {
    "tags": []
   },
   "outputs": [
    {
     "data": {
      "text/plain": [
       "float"
      ]
     },
     "execution_count": 10,
     "metadata": {},
     "output_type": "execute_result"
    }
   ],
   "source": [
    "# Get the variable type of `float_2`\n",
    "type(float_2)"
   ]
  },
  {
   "cell_type": "code",
   "execution_count": 11,
   "metadata": {},
   "outputs": [],
   "source": [
    "# Get the variable type of the sum of `integer_2 + float_2`\n"
   ]
  },
  {
   "cell_type": "code",
   "execution_count": 12,
   "metadata": {
    "id": "OSUIb0wC8T87",
    "tags": []
   },
   "outputs": [
    {
     "data": {
      "text/plain": [
       "float"
      ]
     },
     "execution_count": 12,
     "metadata": {},
     "output_type": "execute_result"
    }
   ],
   "source": [
    "# Compute the sum of `integer_2 + float_2`\n",
    "type(integer_2 + float_2)"
   ]
  },
  {
   "cell_type": "markdown",
   "metadata": {},
   "source": [
    "<div class=\"alert alert-block alert-success\"><b>Practice 2 ends here.</b>\n",
    "\n",
    "</div>"
   ]
  },
  {
   "cell_type": "markdown",
   "metadata": {},
   "source": [
    "String variables are always surrounded by single `'` or double `\"` apostrophe marks."
   ]
  },
  {
   "cell_type": "code",
   "execution_count": 13,
   "metadata": {},
   "outputs": [],
   "source": [
    "# Store a string value in the \"string_2\" variable\n",
    "string_2 = \"2\""
   ]
  },
  {
   "cell_type": "markdown",
   "metadata": {},
   "source": [
    "As you might guess, you can't mix numerical (integer or float) with string data types:"
   ]
  },
  {
   "cell_type": "code",
   "execution_count": 14,
   "metadata": {},
   "outputs": [],
   "source": [
    "# Try adding integers and strings gives an error (uncomment line below and check it!)\n",
    "# integer_2 + string_2"
   ]
  },
  {
   "cell_type": "markdown",
   "metadata": {},
   "source": [
    "<div class=\"alert alert-block alert-warning\"><b>Extension:</b>\n",
    "\n",
    "There are some built-in Python functions that can be used to change the data type of a variable (if possible). Have a look to [`int()`](https://docs.python.org/3/library/functions.html#int), [`float()`](https://docs.python.org/3/library/functions.html#float) and [`str()`](https://docs.python.org/3/library/functions.html#func-str) buit-ins (follow the hyperlinks provided).\n",
    "\n",
    "</div>"
   ]
  },
  {
   "cell_type": "markdown",
   "metadata": {},
   "source": [
    "We will cover some of the remaining data types mentioned above in upcoming sessions. List, dictionary and boolean data types are ubiquitously used in Python."
   ]
  },
  {
   "cell_type": "markdown",
   "metadata": {},
   "source": [
    "## Built-in function `print()`"
   ]
  },
  {
   "cell_type": "markdown",
   "metadata": {},
   "source": [
    "To recover the value of multiple variables in a single code cell, you might need the [`print()`](https://docs.python.org/3/library/functions.html#print) built-in."
   ]
  },
  {
   "cell_type": "code",
   "execution_count": 15,
   "metadata": {},
   "outputs": [
    {
     "data": {
      "text/plain": [
       "'2'"
      ]
     },
     "execution_count": 15,
     "metadata": {},
     "output_type": "execute_result"
    }
   ],
   "source": [
    "# This cell only returns the value stored in `string_2` (the last one we called)\n",
    "integer_2\n",
    "string_2"
   ]
  },
  {
   "cell_type": "code",
   "execution_count": 16,
   "metadata": {},
   "outputs": [
    {
     "name": "stdout",
     "output_type": "stream",
     "text": [
      "2\n",
      "2\n"
     ]
    }
   ],
   "source": [
    "# This cell instead returns both values\n",
    "print(integer_2)\n",
    "print(string_2)"
   ]
  },
  {
   "cell_type": "code",
   "execution_count": 17,
   "metadata": {},
   "outputs": [
    {
     "name": "stdout",
     "output_type": "stream",
     "text": [
      "2 2\n"
     ]
    }
   ],
   "source": [
    "# Or alternatively...\n",
    "print(integer_2, string_2)"
   ]
  },
  {
   "cell_type": "code",
   "execution_count": 18,
   "metadata": {},
   "outputs": [
    {
     "name": "stdout",
     "output_type": "stream",
     "text": [
      "2 and 2."
     ]
    }
   ],
   "source": [
    "# And maybe in a more readable way...\n",
    "print(integer_2, string_2, sep=' and ', end='.')"
   ]
  },
  {
   "cell_type": "markdown",
   "metadata": {},
   "source": [
    "<div class=\"alert alert-block alert-info\"><b>Tip:</b>\n",
    "\n",
    "We just used our first two *function arguments*: `sep=` and `end=`. Arguments are just variables passed to a function that the function will use internally. Don't worry about this at the moment, just try to understand what arguments `sep=` and `end=` do.\n",
    "\n",
    "</div>"
   ]
  },
  {
   "cell_type": "markdown",
   "metadata": {},
   "source": [
    "The `print()` built-in is essential when we want a program to give an easy readable text messages to the human in front the screen. In this context you should know how to use [formatted strings](https://docs.python.org/3/tutorial/inputoutput.html#tut-f-strings) (AKA f-strings).\n",
    "\n",
    "To use f-strings you just have to precede your string with the letter `f`. Once this fancy `f` is in place, you can use braces `{}` to allocate any variable you wish in your sentence:"
   ]
  },
  {
   "cell_type": "code",
   "execution_count": 19,
   "metadata": {},
   "outputs": [
    {
     "name": "stdout",
     "output_type": "stream",
     "text": [
      "I have two twos. An integer two: 2; and an string two: 2.\n"
     ]
    }
   ],
   "source": [
    "# Give a nicely formatted text message\n",
    "print(f'I have two twos. An integer two: {integer_2}; and an string two: {string_2}.')"
   ]
  },
  {
   "cell_type": "markdown",
   "metadata": {},
   "source": [
    "<div class=\"alert alert-block alert-warning\"><b>Extension:</b>\n",
    "\n",
    "Have a look on how to properly format numerical variables when using [f-strings](https://docs.python.org/3/reference/lexical_analysis.html#f-strings) and, if you seek a full control over how numerical values are formatted, check the [Format Specification Mini-Language](https://docs.python.org/3/library/string.html#formatspec) as well.\n",
    "\n",
    "</div>"
   ]
  },
  {
   "cell_type": "markdown",
   "metadata": {},
   "source": [
    "## Arithmetic operators"
   ]
  },
  {
   "cell_type": "markdown",
   "metadata": {},
   "source": [
    "The seven arithmetic operators available in Python are: \n",
    "+ `+`: Addition.\n",
    "+ `-`: Subtraction.\n",
    "+ `*`: Multiplication.\n",
    "+ `/`: Division.\n",
    "+ `**`: Exponentiation.\n",
    "+ `//`: Floor division. Returns the result of dividing the left hand operand by right hand operand rounded down to the nearest whole number.\n",
    "+ `%`: Modulus. Returns the remainder of dividing the left hand operand by right hand operand."
   ]
  },
  {
   "cell_type": "code",
   "execution_count": 20,
   "metadata": {},
   "outputs": [
    {
     "name": "stdout",
     "output_type": "stream",
     "text": [
      "Floor division example: 9 // 4 = 2\n",
      "Modulus example: 9 % 4 = 1\n"
     ]
    }
   ],
   "source": [
    "# Get the floor division between 9 and 4\n",
    "floor_division = 9 // 4\n",
    "print(f'Floor division example: 9 // 4 = {floor_division}')\n",
    "\n",
    "# Get the modulus between 9 and 4\n",
    "modulus = 9 % 4\n",
    "print(f'Modulus example: 9 % 4 = {modulus}')"
   ]
  },
  {
   "cell_type": "markdown",
   "metadata": {},
   "source": [
    "## Comparison operators"
   ]
  },
  {
   "cell_type": "markdown",
   "metadata": {},
   "source": [
    "The six comparison operators available in Python are: \n",
    "+ `==`: Equal.\n",
    "+ `!=`: Not equal.\n",
    "+ `>`: Greater than.\n",
    "+ `<`: Less than.\n",
    "+ `>=`: Greater than or equal to.\n",
    "+ `<=`: Less than or equal to.\n",
    "\n",
    "When we compare two items by means of a comparison operator we create a *conditional statement*. The outcome of a conditional statement can only be `True` or `False` (you can rethink such conditional statements as questions whose outcomes are \"black or white\" answers)."
   ]
  },
  {
   "cell_type": "markdown",
   "metadata": {},
   "source": [
    "<div class=\"alert alert-block alert-warning\"><b>Extension:</b>\n",
    "\n",
    "Have a look at the membership (`in`, `not in`) and identity operators (`is`, `is not`).\n",
    "\n",
    "</div>"
   ]
  },
  {
   "cell_type": "code",
   "execution_count": 21,
   "metadata": {
    "tags": []
   },
   "outputs": [
    {
     "name": "stdout",
     "output_type": "stream",
     "text": [
      "2\n",
      "2.0\n",
      "2\n"
     ]
    }
   ],
   "source": [
    "# Remember the values of the variables `integer_2`, `float_2` and `string_2`\n",
    "print(integer_2)\n",
    "print(float_2)\n",
    "print(string_2)"
   ]
  },
  {
   "cell_type": "code",
   "execution_count": 22,
   "metadata": {},
   "outputs": [
    {
     "data": {
      "text/plain": [
       "True"
      ]
     },
     "execution_count": 22,
     "metadata": {},
     "output_type": "execute_result"
    }
   ],
   "source": [
    "# Check if `integer_2` is equal to `float_2`\n",
    "integer_2 == float_2"
   ]
  },
  {
   "cell_type": "code",
   "execution_count": 23,
   "metadata": {},
   "outputs": [
    {
     "data": {
      "text/plain": [
       "False"
      ]
     },
     "execution_count": 23,
     "metadata": {},
     "output_type": "execute_result"
    }
   ],
   "source": [
    "# Check if `integer_2` is equal to `string_2`\n",
    "integer_2 == string_2"
   ]
  },
  {
   "cell_type": "markdown",
   "metadata": {},
   "source": [
    "Python is clever enough to conclude that `2` is equal to `2.0` and discern that `2` (numerical) is not equal than `'2'` (text). Remember that the output of such questions is always *boolean*. This means that it can only take two possible outcomes: `True` or `False`:"
   ]
  },
  {
   "cell_type": "code",
   "execution_count": 24,
   "metadata": {},
   "outputs": [
    {
     "data": {
      "text/plain": [
       "bool"
      ]
     },
     "execution_count": 24,
     "metadata": {},
     "output_type": "execute_result"
    }
   ],
   "source": [
    "# Store the answer of check if `integer_2` is `string_2` in a variable called `answer`\n",
    "answer = integer_2 == string_2\n",
    "\n",
    "# Get the variable type of `answer`\n",
    "type(answer)"
   ]
  },
  {
   "cell_type": "code",
   "execution_count": 25,
   "metadata": {},
   "outputs": [
    {
     "data": {
      "text/plain": [
       "False"
      ]
     },
     "execution_count": 25,
     "metadata": {},
     "output_type": "execute_result"
    }
   ],
   "source": [
    "# Check if a boolean True is equal to a string True\n",
    "True == 'True'"
   ]
  },
  {
   "cell_type": "markdown",
   "metadata": {},
   "source": [
    "<div class=\"alert alert-block alert-success\"><b>Practice 3:</b>\n",
    "\n",
    "Remember the floor division and the modulus arithmetic operators we talk about a while ago. Being $a$ and $b$ two arbitrary numbers, $f_{ab}$ their floor division and $m_{ab}$ their modulus, then the following expression is verified:\n",
    "$$ a = m_{ab} + b  f_{ab}$$\n",
    "\n",
    "1) In the 1<sup>st</sup> code cell below, check that the expression is verified by any $a$ and $b$.\n",
    "2) Only in case of the expression above not being verified, in the 2<sup>nd</sup> code cell below, check the value of $ m_{ab} + b  f_{ab}$ that you computed. What happened?    \n",
    "    \n",
    "</div>"
   ]
  },
  {
   "cell_type": "code",
   "execution_count": 26,
   "metadata": {},
   "outputs": [],
   "source": [
    "# Define a couple of arbitrary values `a` and `b`\n",
    "\n",
    "\n",
    "\n",
    "# Compute floor and modulus `f_ab` and `m_ab`\n",
    "\n",
    "\n",
    "\n",
    "# Check if we can recover the value of `a` from the values of `b`, `f_ab` and `m_ab`\n"
   ]
  },
  {
   "cell_type": "code",
   "execution_count": 27,
   "metadata": {
    "jupyter": {
     "source_hidden": true
    },
    "tags": []
   },
   "outputs": [
    {
     "data": {
      "text/plain": [
       "True"
      ]
     },
     "execution_count": 27,
     "metadata": {},
     "output_type": "execute_result"
    }
   ],
   "source": [
    "# Define a couple of arbitrary values values `a` and `b`\n",
    "a = 9\n",
    "b = 4\n",
    "\n",
    "# Compute floor and modulus `f_ab` and `m_ab`\n",
    "f_ab = a // b\n",
    "m_ab = a % b\n",
    "\n",
    "# Check if we can recover the value of `a` from the values of `b`, `f_ab` and `m_ab`\n",
    "a == m_ab + b * f_ab"
   ]
  },
  {
   "cell_type": "code",
   "execution_count": 28,
   "metadata": {},
   "outputs": [],
   "source": [
    "# Return the `a` value that you computed\n"
   ]
  },
  {
   "cell_type": "code",
   "execution_count": 29,
   "metadata": {
    "jupyter": {
     "source_hidden": true
    },
    "tags": []
   },
   "outputs": [
    {
     "data": {
      "text/plain": [
       "9"
      ]
     },
     "execution_count": 29,
     "metadata": {},
     "output_type": "execute_result"
    }
   ],
   "source": [
    "# Return the `a` value that you computed\n",
    "a"
   ]
  },
  {
   "cell_type": "markdown",
   "metadata": {},
   "source": [
    "<div class=\"alert alert-block alert-success\"><b>Practice 3 ends here.</b>\n",
    "\n",
    "</div>"
   ]
  },
  {
   "cell_type": "markdown",
   "metadata": {},
   "source": [
    "## Logical operators\n",
    "\n",
    "Logical operators are used to combine conditional statements. The three logical operators available in Python are: \n",
    "+ `and`: Returns `True` if both statements are `True`.\n",
    "+ `or`:  Returns `True` if one of the statements is `True`.\n",
    "+ `not`: Reverse the result, returns `False` if the result is `True` and vice versa."
   ]
  },
  {
   "cell_type": "code",
   "execution_count": 30,
   "metadata": {
    "tags": []
   },
   "outputs": [
    {
     "data": {
      "text/plain": [
       "False"
      ]
     },
     "execution_count": 30,
     "metadata": {},
     "output_type": "execute_result"
    }
   ],
   "source": [
    "# Check if `integer_2` is equal to `float_2` AND `integer_2` is equal to `string_2`\n",
    "(integer_2 == float_2) and (integer_2 == string_2)"
   ]
  },
  {
   "cell_type": "code",
   "execution_count": 31,
   "metadata": {},
   "outputs": [
    {
     "data": {
      "text/plain": [
       "True"
      ]
     },
     "execution_count": 31,
     "metadata": {},
     "output_type": "execute_result"
    }
   ],
   "source": [
    "# Check if `integer_2` is equal to `float_2` OR `integer_2` is equal to `string_2`\n",
    "(integer_2 == float_2) or (integer_2 == string_2)"
   ]
  },
  {
   "cell_type": "code",
   "execution_count": 32,
   "metadata": {},
   "outputs": [
    {
     "data": {
      "text/plain": [
       "False"
      ]
     },
     "execution_count": 32,
     "metadata": {},
     "output_type": "execute_result"
    }
   ],
   "source": [
    "# Check again if `integer_2` is equal to `float_2` OR `integer_2` is equal to `string_2` and NOT the outcome\n",
    "not ((integer_2 == float_2) or (integer_2 == string_2))"
   ]
  }
 ],
 "metadata": {
  "colab": {
   "include_colab_link": true,
   "name": "01_Introduction.ipynb",
   "provenance": []
  },
  "kernelspec": {
   "display_name": "Python 3 (ipykernel)",
   "language": "python",
   "name": "python3"
  },
  "language_info": {
   "codemirror_mode": {
    "name": "ipython",
    "version": 3
   },
   "file_extension": ".py",
   "mimetype": "text/x-python",
   "name": "python",
   "nbconvert_exporter": "python",
   "pygments_lexer": "ipython3",
   "version": "3.11.4"
  }
 },
 "nbformat": 4,
 "nbformat_minor": 4
}
