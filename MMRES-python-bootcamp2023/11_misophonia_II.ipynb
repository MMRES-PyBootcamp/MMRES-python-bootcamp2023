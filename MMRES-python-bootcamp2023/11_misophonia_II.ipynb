{
  "cells": [
    {
      "cell_type": "markdown",
      "metadata": {
        "id": "view-in-github",
        "colab_type": "text"
      },
      "source": [
        "<a href=\"https://colab.research.google.com/github/MMRES-PyBootcamp/MMRES-python-bootcamp2022/blob/main/11_misophonia_II.ipynb\" target=\"_parent\"><img src=\"https://colab.research.google.com/assets/colab-badge.svg\" alt=\"Open In Colab\"/></a>"
      ]
    },
    {
      "cell_type": "markdown",
      "metadata": {
        "id": "iBiTnm-2Rwq9"
      },
      "source": [
        "# Session 11 - Misophonia (second part)\n",
        "When reporting the results of a study, we first describe the variables of interest in tables and figures.\n",
        "\n",
        "We describe demographics (sex, age, marital status, etc..)\n",
        "\n",
        "We describe outcome variables (misophonia)\n",
        "\n",
        "We describe explanatory variables (cephalometric measures, anxiety, depression)\n",
        "\n",
        "We then test the main hypotheses of the study.\n",
        "\n",
        "We state the main relationships we want to study and formulate the statistical hypothesis (Introduction)\n",
        "\n",
        "We describe how the study was performed and the statistical methods to test the hypothesis (Methods)\n",
        "\n",
        "We describe the results of the hypothesis tests with statistics, and significance measures.\n",
        "\n",
        "We illustrate the results with figures.\n",
        "\n",
        "\n",
        "\n",
        "\n",
        "Are the state and trait correlated?"
      ]
    },
    {
      "cell_type": "markdown",
      "source": [
        "<div class=\"alert alert-block alert-success\"><b>Practice:</b> \n",
        "Imagine we want to study the anxiety of participants in the misophonia study. We formulate the following hypothesis:\n",
        "\n",
        "> Participants who enrolled in the study had an increased level of anxiety from their baseline (trait) that is related to their:\n",
        "<ul>\n",
        "  <li> age\n",
        "  <li> sex\n",
        "  <li> misophonia state.\n",
        "</ul>\n",
        "</div>"
      ],
      "metadata": {
        "id": "fxWsg4OnWYCL"
      }
    },
    {
      "cell_type": "markdown",
      "metadata": {
        "id": "77XC87TbRwrE"
      },
      "source": [
        "**This document is devised as a tool to enable your self-learning process. If you get stuck at some step or need any kind of help, please don't hesitate to raise your hand and ask for the teacher's guidance.**\n",
        "\n",
        "---"
      ]
    },
    {
      "cell_type": "code",
      "source": [
        "import matplotlib.pyplot as plt\n",
        "import seaborn as sns\n",
        "import numpy as np\n",
        "from scipy import stats\n",
        "\n"
      ],
      "metadata": {
        "id": "xTJKZ1FK_w1L"
      },
      "execution_count": null,
      "outputs": []
    },
    {
      "cell_type": "markdown",
      "metadata": {
        "id": "FATVWbEYRwrE"
      },
      "source": [
        "## Data loading\n",
        "\n",
        "Let's begin again by loading Pandas with the `pd` alias and by importing the misophonia dataset `misophonia_data.xlsx` from the `/MMRES-python-bootcamp2022/datasets` sub-folder:"
      ]
    },
    {
      "cell_type": "code",
      "execution_count": null,
      "metadata": {
        "id": "f-GEQ74bRwrF"
      },
      "outputs": [],
      "source": [
        "# Load package with its corresponding alias\n",
        "import pandas as pd\n",
        "\n",
        "# Reading an Excel SpreadSheet and storing it in as a DataFrame called `df`\n",
        "df = pd.read_excel('https://github.com/MMRES-PyBootcamp/MMRES-python-bootcamp2022/blob/main/datasets/misophoinia_data.xlsx?raw=true')\n",
        "\n",
        "# Return the DataFrame\n",
        "df"
      ]
    },
    {
      "cell_type": "markdown",
      "metadata": {
        "id": "DicSHOp8RwrH"
      },
      "source": [
        "## Data description\n",
        "\n",
        "Here is the description of the variables\n",
        "\n",
        "[1] “Misofonia”: Binary (si: misophinic, no: no misophinic)\n",
        "\n",
        "[2] “Misofonia.dic”: Categorical (0: no misophinic, 1: severity 1, 2: severity 2, 3: severity 3, 4: severity 4)\n",
        "\n",
        "[3] “Estado”: Marital status (casado: married, soltero: single, viuda: widow, divorciado:divorced)\n",
        "\n",
        "[4] “Estado.dic”: Numeric Marital status\n",
        "\n",
        "[5] “ansiedad.rasgo”: Score from 0-100 with anxiety personality trait\n",
        "\n",
        "[6] “ansiedad.rasgo.dic”: Binary score (0,1) of anxiety personality trait\n",
        "\n",
        "[7] “ansiedad.estado”: Score from 0-100 with current state of anxiety\n",
        "\n",
        "[8] “ansiedad.estado.dic”: Binary score (0,1) with current state of anxiety\n",
        "\n",
        "[9] “ansiedad.medicada”: Diagnosed with anxiety disorder (si, no)\n",
        "\n",
        "[10] “ansiedad.medicada.dic”: Diagnosed with anxiety disorder (1, 0)\n",
        "\n",
        "[11] “depresion”: Score from 0-50 with current state of depression\n",
        "\n",
        "[12] “depresion.dic” : Binary score (0,1) with current state of depression\n",
        "\n",
        "[13] “Sexo”: Male=H, Female:M\n",
        "\n",
        "[14] “Edad”: Age\n",
        "\n",
        "[15] “CLASE”: Type of jaw\n",
        "\n",
        "[16] “Angulo_convexidad”: convexity angle\n",
        "\n",
        "[17] “protusion.mandibular”: Projection of the jaw [18] “Angulo_cuelloYtercio”: angle between jaw and neck [19] “Subnasal_H”: Nasal angle\n",
        "\n",
        "[20] “cambio.autoconcepto”: Whether people changed their self-concept after treatment.\n",
        "\n",
        "[21] “Misofonia.post”: Misophionia diagnosed (A-MISO) after an educational program, where patients were made aware of a condition called misophonia.\n",
        "\n",
        "[22] “Misofonia.pre”: Misophionia diagnosed (A-MISO) before an educational program, where patients were made aware of a condition called misophonia\n",
        "\n",
        "[23] “ansiedad.dif”: Difference between anxiety state and anxiety trait scores\n",
        "\n",
        "<br><br>\n",
        "\n",
        "When reporting the results of a study, we first describe the variables of interest in tables and figures.\n",
        "\n",
        "We describe demographics (sex, age, marital status, etc..)\n",
        "\n",
        "We describe outcome variables (misophonia)"
      ]
    },
    {
      "cell_type": "markdown",
      "source": [
        "## 1. Correlation\n",
        "\n",
        "Are the state and trait correlated?"
      ],
      "metadata": {
        "id": "JP2ZK7Kr0YqX"
      }
    },
    {
      "cell_type": "code",
      "execution_count": null,
      "metadata": {
        "id": "bcEtDgM3RwrI"
      },
      "outputs": [],
      "source": [
        "sns.scatterplot(df['ansiedad.estado'],df['ansiedad.rasgo'])"
      ]
    },
    {
      "cell_type": "code",
      "source": [
        "sns.regplot(df['ansiedad.estado'],df['ansiedad.rasgo'])"
      ],
      "metadata": {
        "id": "8kb4KL43hL7k"
      },
      "execution_count": null,
      "outputs": []
    },
    {
      "cell_type": "code",
      "source": [
        "df['ansiedad.estado'].corr(df['ansiedad.rasgo'],method='pearson')"
      ],
      "metadata": {
        "id": "unso4LN6dNL4"
      },
      "execution_count": null,
      "outputs": []
    },
    {
      "cell_type": "code",
      "source": [
        "# what happens here?\n",
        "stats.linregress(df['ansiedad.estado'],df['ansiedad.rasgo'])"
      ],
      "metadata": {
        "id": "K9B3bpxtgZBC"
      },
      "execution_count": null,
      "outputs": []
    },
    {
      "cell_type": "code",
      "source": [
        "# Let's remove NA values\n",
        "mask = ~np.isnan(df['ansiedad.estado']) & ~np.isnan(df['ansiedad.rasgo'])\n",
        "stats.linregress(df[mask]['ansiedad.estado'],df[mask]['ansiedad.rasgo'])"
      ],
      "metadata": {
        "id": "NQfqNMgfgn2a"
      },
      "execution_count": null,
      "outputs": []
    },
    {
      "cell_type": "code",
      "source": [
        "slope, intercept, r_value, pv, se = stats.linregress(df[mask]['ansiedad.estado'],df[mask]['ansiedad.rasgo'])\n",
        "sns.regplot(x=\"ansiedad.estado\", y=\"ansiedad.rasgo\", data=df[mask], \n",
        "      ci=None, label=\"y={0:.2f}x+{1:.2f}\".format(slope, intercept)).legend(loc=\"best\")"
      ],
      "metadata": {
        "id": "RSzgQQcmf73r"
      },
      "execution_count": null,
      "outputs": []
    },
    {
      "cell_type": "markdown",
      "source": [
        "## Student’s t-test\n",
        "We are interested in the variable misofonia.dif, that is the observed excess of anxiety from the trait (excess=state−trait)\n",
        "\n",
        "Is excess in anxiety higher than 0?"
      ],
      "metadata": {
        "id": "eoDF_0Q2h6vd"
      }
    },
    {
      "cell_type": "code",
      "source": [
        "df['excess']=df['ansiedad.estado']-df['ansiedad.rasgo']\n",
        "sns.distplot(df['excess'])\n",
        "plt.axvline(0,color='r')"
      ],
      "metadata": {
        "id": "o-8b9VQuieBm"
      },
      "execution_count": null,
      "outputs": []
    },
    {
      "cell_type": "code",
      "source": [
        "df['excess'].describe()"
      ],
      "metadata": {
        "id": "OVD-MmzYjDrl"
      },
      "execution_count": null,
      "outputs": []
    },
    {
      "cell_type": "markdown",
      "source": [
        "scipy.stats.ttest_1samp() tests if the population mean of data is likely to be equal to a given value (technically if observations are drawn from a Gaussian distributions of given population mean). It returns the T statistic, and the p-value:"
      ],
      "metadata": {
        "id": "Phwm3AfWjaG1"
      }
    },
    {
      "cell_type": "code",
      "source": [
        "res=stats.ttest_1samp(df['excess'], 0) \n",
        "print (res[0])\n",
        "\n",
        "# What's wrong?"
      ],
      "metadata": {
        "id": "Iw_XW6owjLWl"
      },
      "execution_count": null,
      "outputs": []
    },
    {
      "cell_type": "code",
      "source": [
        "# let's remove missing values\n",
        "res=stats.ttest_1samp(df['excess'].dropna(), 0) \n",
        "print (res)\n"
      ],
      "metadata": {
        "id": "_XZucKCljkfR"
      },
      "execution_count": null,
      "outputs": []
    },
    {
      "cell_type": "code",
      "source": [
        "# or let's just ignore missing values\n",
        "res=stats.ttest_1samp(df['excess'], 0,nan_policy='omit') \n",
        "print (res)"
      ],
      "metadata": {
        "id": "DFUnmxQGjrOI"
      },
      "execution_count": null,
      "outputs": []
    },
    {
      "cell_type": "markdown",
      "source": [
        "We do not see significant large values of the difference in anxiety; Enrollment in the study does not seem to detect individuals with an excess of anxiety.\n",
        "\n",
        "Is excess in anxiety higher than 0 for men and women separately?\n",
        "We first describe the conditional distributions\n",
        "\n"
      ],
      "metadata": {
        "id": "M66Owht9j65b"
      }
    },
    {
      "cell_type": "code",
      "source": [
        "sns.boxplot(data=df, y='excess',x='Sexo')\n"
      ],
      "metadata": {
        "id": "nPBV2WZEj0TF"
      },
      "execution_count": null,
      "outputs": []
    },
    {
      "cell_type": "markdown",
      "source": [
        "We perform the hypothesis test for each sex separately\n"
      ],
      "metadata": {
        "id": "OZVsqkV6kPOj"
      }
    },
    {
      "cell_type": "code",
      "source": [
        "# Males\n",
        "res=stats.ttest_1samp(df[df['Sexo']=='H']['excess'], 0,nan_policy='omit') \n",
        "print (res)\n"
      ],
      "metadata": {
        "id": "uNhfDCZVkOxu"
      },
      "execution_count": null,
      "outputs": []
    },
    {
      "cell_type": "code",
      "source": [
        "# Females\n",
        "res=stats.ttest_1samp(df[df['Sexo']=='M']['excess'], 0,nan_policy='omit') \n",
        "print (res)"
      ],
      "metadata": {
        "id": "lEYw693gkYyC"
      },
      "execution_count": null,
      "outputs": []
    },
    {
      "cell_type": "markdown",
      "source": [
        "## 2-sample t-test: testing for difference across populations"
      ],
      "metadata": {
        "id": "W14JDg5Jk3JG"
      }
    },
    {
      "cell_type": "markdown",
      "source": [
        "We see that women (M) have a reduction in the excess of anxiety (almost significant), while men (H) had an increase (no significant). Why? perhaps because females tend to consult doctors before men do.\n",
        "\n",
        "Is the excess of anxiety significantly different between the sexes?\n",
        "\n",
        "To test if this is significant, we do a 2-sample t-test with scipy.stats.ttest_ind():"
      ],
      "metadata": {
        "id": "PnKLaygzkn_z"
      }
    },
    {
      "cell_type": "code",
      "source": [
        "female_excess = df[df['Sexo']=='M']['excess']\n",
        "male_excess = df[df['Sexo']=='H']['excess']\n",
        "stats.ttest_ind(female_excess, male_excess) "
      ],
      "metadata": {
        "id": "Qje0mHX1lUoO"
      },
      "execution_count": null,
      "outputs": []
    },
    {
      "cell_type": "markdown",
      "source": [
        "We see that the difference between the group means is within the limit of significance with women having less excess anxiety than men.\n"
      ],
      "metadata": {
        "id": "B2D_-idolll5"
      }
    },
    {
      "cell_type": "code",
      "source": [
        "sns.distplot(female_excess,hist=False,color='purple')\n",
        "sns.distplot(male_excess,hist=False,color='blue')\n"
      ],
      "metadata": {
        "id": "ajFq0ZVDlGvs"
      },
      "execution_count": null,
      "outputs": []
    },
    {
      "cell_type": "markdown",
      "source": [
        "## Lineal model\n",
        "Given two sets of observations, sex and excess of anxiety, we want to test the hypothesis that excess of anxiety is a linear function of sex.\n",
        "\n"
      ],
      "metadata": {
        "id": "F4Qgv_TFkpkn"
      }
    },
    {
      "cell_type": "code",
      "source": [
        "from statsmodels.formula.api import ols\n",
        "model = ols(\"excess ~ Sexo\", df).fit()\n",
        "print(model.summary())"
      ],
      "metadata": {
        "id": "ab3VB-jkmBdk"
      },
      "execution_count": null,
      "outputs": []
    },
    {
      "cell_type": "markdown",
      "source": [
        "\n",
        "Is excess in anxiety higher in older people?\n"
      ],
      "metadata": {
        "id": "MDdba0KlmhcM"
      }
    },
    {
      "cell_type": "code",
      "source": [
        "sns.regplot(data=df, x='Edad', y='excess')"
      ],
      "metadata": {
        "id": "z_2BEVarm1ed"
      },
      "execution_count": null,
      "outputs": []
    },
    {
      "cell_type": "code",
      "source": [
        "# We fit the regression model\n",
        "model = ols(\"excess ~ Edad\", df).fit()\n",
        "print(model.summary())"
      ],
      "metadata": {
        "id": "p4hf9Op5nEhG"
      },
      "execution_count": null,
      "outputs": []
    },
    {
      "cell_type": "markdown",
      "source": [
        "The association, while positive it is not significant. What happens if we adjust by sex?\n",
        "\n"
      ],
      "metadata": {
        "id": "2YZy-26hnVNX"
      }
    },
    {
      "cell_type": "code",
      "source": [
        "model = ols(\"excess ~ Edad + Sexo\", df).fit()\n",
        "print(model.summary())"
      ],
      "metadata": {
        "id": "vuql0y7Znajf"
      },
      "execution_count": null,
      "outputs": []
    },
    {
      "cell_type": "markdown",
      "source": [
        "If we adjust by sex the association is a bit stronger but still not significant."
      ],
      "metadata": {
        "id": "alJYhM4Kna8A"
      }
    },
    {
      "cell_type": "code",
      "source": [
        "sns.lmplot(data=df, x='Edad', y='excess', hue='Sexo')"
      ],
      "metadata": {
        "id": "P6X9wzXDnmbN"
      },
      "execution_count": null,
      "outputs": []
    },
    {
      "cell_type": "markdown",
      "source": [
        "Is excess in anxiety different between monophonic grades?\n"
      ],
      "metadata": {
        "id": "pzCqUPNgn6gR"
      }
    },
    {
      "cell_type": "code",
      "source": [
        "sns.boxplot(data=df, y='excess',x= 'Misofonia.dic')"
      ],
      "metadata": {
        "id": "Kxp6yO0on_Pk"
      },
      "execution_count": null,
      "outputs": []
    },
    {
      "cell_type": "markdown",
      "source": [
        "We test the hypothesizes H0: means excess of anxiety are equal accross misophonic categories against H1: at least one of them is different"
      ],
      "metadata": {
        "id": "p_sFcauPoOim"
      }
    },
    {
      "cell_type": "code",
      "source": [
        "model = ols(\"excess ~ Misofonia.dic\", df).fit()\n",
        "print(model.summary())"
      ],
      "metadata": {
        "id": "ORUxV3jOofIf"
      },
      "execution_count": null,
      "outputs": []
    },
    {
      "cell_type": "code",
      "source": [
        "# what happened here!!??\n",
        "# OLS has some requirements regarding variable names... it is a bit picky...\n",
        "\n",
        "# let's rename this variable:\n",
        "df=df.rename(columns={'Misofonia.dic':'misophonic'})\n",
        "\n",
        "# or alternatively you can just create an additional column with a different name\n",
        "#df['misophonic']=df['Misophonia.dic']\n",
        "\n",
        "model = ols(\"excess ~ misophonic\", df).fit()\n",
        "print(model.summary())"
      ],
      "metadata": {
        "id": "9-c5ZlTKoy1Q"
      },
      "execution_count": null,
      "outputs": []
    },
    {
      "cell_type": "markdown",
      "source": [
        "Notice that misophonic variable was treated as a quantitative trait and not as a categorical factor"
      ],
      "metadata": {
        "id": "hbQMLaOmwG8A"
      }
    },
    {
      "cell_type": "code",
      "source": [
        "df['misophonic']=df['misophonic'].astype('category')\n",
        "model = ols(\"excess ~ misophonic\", df).fit()\n",
        "print(model.summary())"
      ],
      "metadata": {
        "id": "3MYq0_XrwCY7"
      },
      "execution_count": null,
      "outputs": []
    },
    {
      "cell_type": "code",
      "source": [
        "from statsmodels.stats import anova\n",
        "anova.anova_lm(model)"
      ],
      "metadata": {
        "id": "SWz7hFBFoqHi"
      },
      "execution_count": null,
      "outputs": []
    },
    {
      "cell_type": "markdown",
      "source": [
        "We see that anxiety excess of misophonia grade 1 is significantly higher than misophonia grade 0 (no misophonia), as it is grade 3. The ANOVA table shows that we accept the alternative hypothesis, where the differences between groups are significantly higher than within groups.\n",
        "\n",
        "Are the differences in excess in anxiety between monophonic grades modulated by sex?\n"
      ],
      "metadata": {
        "id": "b1J-GrVYxPm_"
      }
    },
    {
      "cell_type": "code",
      "source": [
        "sns.boxplot(data=df, y='excess',x='misophonic',hue='Sexo')\n",
        "#boxplot(excess ~ misophonic, subset = which(sex==\"H\"))"
      ],
      "metadata": {
        "id": "Q9sHChIbxPLN"
      },
      "execution_count": null,
      "outputs": []
    },
    {
      "cell_type": "code",
      "source": [
        "model = ols(\"excess ~ misophonic * Sexo\", df).fit()\n",
        "print(model.summary())\n",
        "#anova(mod)"
      ],
      "metadata": {
        "id": "MXxnZFwa3qz0"
      },
      "execution_count": null,
      "outputs": []
    },
    {
      "cell_type": "code",
      "source": [
        "anova.anova_lm(model)"
      ],
      "metadata": {
        "id": "0b-J8SIl4ANx"
      },
      "execution_count": null,
      "outputs": []
    },
    {
      "cell_type": "markdown",
      "source": [
        "We do not see a significant interaction (modulation) of the effect of sex on the group differences.\n",
        "\n",
        "We cannot say that the profiles of anxiety excess across misophonia grades are different between sexes."
      ],
      "metadata": {
        "id": "Spt9oHON4HDV"
      }
    }
  ],
  "metadata": {
    "colab": {
      "name": "11_misophonia_II.ipynb",
      "provenance": [],
      "collapsed_sections": [],
      "toc_visible": true,
      "include_colab_link": true
    },
    "kernelspec": {
      "display_name": "Python 3 (ipykernel)",
      "language": "python",
      "name": "python3"
    },
    "language_info": {
      "codemirror_mode": {
        "name": "ipython",
        "version": 3
      },
      "file_extension": ".py",
      "mimetype": "text/x-python",
      "name": "python",
      "nbconvert_exporter": "python",
      "pygments_lexer": "ipython3",
      "version": "3.8.8"
    }
  },
  "nbformat": 4,
  "nbformat_minor": 0
}