{
 "cells": [
  {
   "cell_type": "markdown",
   "metadata": {
    "colab_type": "text",
    "id": "view-in-github"
   },
   "source": [
    "<a href=\"https://colab.research.google.com/github/MMRES-PyBootcamp/MMRES-python-bootcamp2022/blob/master/06_Plotting.ipynb\" target=\"_parent\"><img src=\"https://colab.research.google.com/assets/colab-badge.svg\" alt=\"Open In Colab\"/></a>"
   ]
  },
  {
   "cell_type": "markdown",
   "metadata": {},
   "source": [
    "# Session 6 - Data visualization\n",
    "> An introduction on data visualization with Seaborn in a purely hands on approach. Here we will learn how to get beautiful plots using \"real life data\". In particular, we will try to reproduce some plots appearing in a Nature paper."
   ]
  },
  {
   "cell_type": "markdown",
   "metadata": {},
   "source": [
    "## Outline\n",
    " * [Introduction](#Introduction)\n",
    " * [Plotting firsts steps (with Prostate Cancer Metadata)](#Plotting-firsts-steps-(with-Prostate-Cancer-Metadata))\n",
    "   * [Basic data inspection (Metadata)](#Basic-data-inspection-(Metadata))\n",
    "   * [Visual data inspection: Matplotlib and Seaborn](#Visual-data-inspection:-Matplotlib-and-Seaborn) \n",
    " * [The gallery of Seaborn (with Prostate Cancer UMAP)](#The-gallery-of-Seaborn-(with-Prostate-Cancer-UMAP))\n",
    "   * [Basic data inspection (UMAP)](#Basic-data-inspection-(UMAP))\n",
    "   * [Visual data inspection: `countplot()` and `histplot()`](#Visual-data-inspection:-countplot()-and-histplot())\n",
    "   * [Visual data inspection: `boxplot()`, `violinplot()` and `stripplot()`](#Visual-data-inspection:-boxplot(),-violinplot()-and-stripplot())\n",
    "   * [Visual data inspection: `scatterplot()`](#Visual-data-inspection:-scatterplot())"
   ]
  },
  {
   "cell_type": "markdown",
   "metadata": {},
   "source": [
    "<div class=\"alert alert-block alert-success\"><b>Practice:</b> Practice cells announce exercises that you should try during the current boot camp session.\n",
    "</div>"
   ]
  },
  {
   "cell_type": "markdown",
   "metadata": {},
   "source": [
    "<div class=\"alert alert-block alert-warning\"><b>Extension:</b> Extension cells correspond to exercises (or links to contents) that are a bit more advanced. We recommend to try them after the current boot camp session.\n",
    "</div>"
   ]
  },
  {
   "cell_type": "markdown",
   "metadata": {},
   "source": [
    "<div class=\"alert alert-block alert-info\"><b>Tip:</b> Tip cells just give some advice or complementary information.\n",
    "</div>"
   ]
  },
  {
   "cell_type": "markdown",
   "metadata": {},
   "source": [
    "<div class=\"alert alert-block alert-danger\"><b>Caveat:</b> Caveat cells warn you about the most common pitfalls one founds when starts his/her path learning Python.\n",
    "\n",
    "</div>"
   ]
  },
  {
   "cell_type": "markdown",
   "metadata": {},
   "source": [
    "**This document is devised as a tool to enable your self-learning process. If you get stuck at some step or need any kind of help, please don't hesitate to raise your hand and ask for the teacher's guidance.**\n",
    "\n",
    "---"
   ]
  },
  {
   "cell_type": "markdown",
   "metadata": {},
   "source": [
    "## Introduction\n",
    "\n",
    "In this session, we will explore the tools that Python offers to visualize data. The *art* of making nice plots is something that takes some time, but getting our first plots is really simple. In this tutorial, we will focus in the libraries [Matplotlib](http://matplotlib.org/) and [Seaborn](https://seaborn.pydata.org/). Matplotlib provides an absolute control on what you are plotting but often requires more code lines and a pretty handicraft work. With Seaborn you can get really nice plots in just a couple code lines (that's the reason why we choose this package). Like many other Python plotting packages, Seaborn is based in Matplotlib, and at the end of the day, we will use both conjunction to make our plots."
   ]
  },
  {
   "cell_type": "markdown",
   "metadata": {},
   "source": [
    "<div class=\"alert alert-block alert-info\"><b>Tip:</b>\n",
    "\n",
    "Each Python user has its own favourite plotting packages. In my case, despite I started with Seaborn, I recently switched to [Plotnine](https://plotnine.readthedocs.io/en/stable/) as my default. When I need plots with some degree of interactivity, I love using [Bokeh](https://docs.bokeh.org/en/latest/) instead. Try to find the packages that better fits your needs.    \n",
    "</div>"
   ]
  },
  {
   "cell_type": "markdown",
   "metadata": {},
   "source": [
    "We think that working with a true data set using a hands-on approach is the best way to learn the basics on data visualization with Matplotlib and Seaborn. For this reason we will try to reproduce some plots from the [Extended Data Figure 1](https://www.ncbi.nlm.nih.gov/pmc/articles/PMC7960507/figure/Fig5/) appearing in a [Nature Medicine](https://www.nature.com/nm/) paper entitled [*Transcriptional mediators of treatment resistance in lethal prostate cancer*](https://www.ncbi.nlm.nih.gov/pmc/articles/PMC7960507/). The supplementary data of this publication is available at the [Broad Institute's Single Cell Portal](https://singlecell.broadinstitute.org/single_cell) (SCP). Let's have a look at the SCP entry for this project: [SCP1244](https://singlecell.broadinstitute.org/single_cell/study/SCP1244/transcriptional-mediators-of-treatment-resistance-in-lethal-prostate-cancer).\n",
    "\n",
    "For this boot camp, we have [uploaded the data in our GitHub repository](https://github.com/MMRES-PyBootcamp/MMRES-python-bootcamp2022/tree/main/datasets/prostate_cancer_data) so that you don't need to create an SCP account. However, we encourage you to explore this resource by your own because it contains lots of interesting data that you can use for your projects. In addition, the user interface is very intuitive and allows you to perform some exploratory visualizations."
   ]
  },
  {
   "cell_type": "markdown",
   "metadata": {},
   "source": [
    "## Plotting firsts steps (with Prostate Cancer Metadata)\n",
    "\n",
    "Before we start, let's make our first steps with Seaborn. To this aim we will work a bit with the Prostate Cancer data set metadata. We only need the `Seaborn` package and the *class* called `pyplot` from the `Matplotlib` package (which has most of what we usually need for plotting):"
   ]
  },
  {
   "cell_type": "code",
   "execution_count": null,
   "metadata": {},
   "outputs": [],
   "source": [
    "# Load packages with their corresponding alias\n",
    "import pandas as pd\n",
    "\n",
    "# Load plotting packages/classes with their corresponding alias\n",
    "import seaborn as sns\n",
    "import matplotlib.pyplot as plt"
   ]
  },
  {
   "cell_type": "markdown",
   "metadata": {},
   "source": [
    "### Basic data inspection (Metadata)\n",
    "\n",
    "Let's first import the [metadata of the prostate cancer data set](https://github.com/MMRES-PyBootcamp/MMRES-python-bootcamp2022/blob/main/datasets/prostate_cancer_data/scp_metadata.tsv):"
   ]
  },
  {
   "cell_type": "code",
   "execution_count": null,
   "metadata": {},
   "outputs": [],
   "source": [
    "# Define the GitHub url towards the metadata file\n",
    "url = 'https://raw.githubusercontent.com/MMRES-PyBootcamp/MMRES-python-bootcamp2022/main/datasets/prostate_cancer_data/'\n",
    "\n",
    "# Reading file and storing it as a DataFrame\n",
    "df_metadata = pd.read_csv(filepath_or_buffer=f'{url}scp_metadata.tsv', sep='\\t', index_col=0, skiprows=[1])"
   ]
  },
  {
   "cell_type": "markdown",
   "metadata": {},
   "source": [
    "Remember that it is always a good idea to get a bit familiar with the data you have between hands:"
   ]
  },
  {
   "cell_type": "code",
   "execution_count": null,
   "metadata": {},
   "outputs": [],
   "source": [
    "# DataFrame general information\n",
    "df_metadata.info()"
   ]
  },
  {
   "cell_type": "code",
   "execution_count": null,
   "metadata": {},
   "outputs": [],
   "source": [
    "# DataFrame head (five first rows)\n",
    "df_metadata.head()"
   ]
  },
  {
   "cell_type": "code",
   "execution_count": null,
   "metadata": {},
   "outputs": [],
   "source": [
    "# DataFrame tail (last first rows)\n",
    "df_metadata.tail()"
   ]
  },
  {
   "cell_type": "markdown",
   "metadata": {},
   "source": [
    "It seems that some columns in `df_metadata` (`species`, `species__ontology_label`, `disease`, `disease__ontology_label`...) have redundant values, let's check it out:"
   ]
  },
  {
   "cell_type": "code",
   "execution_count": null,
   "metadata": {},
   "outputs": [],
   "source": [
    "# Get `df_metadata` (whole DataFrame) unique values\n",
    "df_metadata.nunique()"
   ]
  },
  {
   "cell_type": "markdown",
   "metadata": {},
   "source": [
    "### Visual data inspection: Matplotlib and Seaborn\n",
    "\n",
    "We will begin with some histograms using the Seaborn function [`histplot()`](https://seaborn.pydata.org/generated/seaborn.histplot.html). Note how easy is to extract the information from our `df_metadata` DataFrame and visualize it:"
   ]
  },
  {
   "cell_type": "code",
   "execution_count": null,
   "metadata": {},
   "outputs": [],
   "source": [
    "# Plot histogram of 'organ__ontology_label' column from `df_metadata` DataFrame...\n",
    "sns.histplot(data=df_metadata, x='organ__ontology_label')"
   ]
  },
  {
   "cell_type": "code",
   "execution_count": null,
   "metadata": {},
   "outputs": [],
   "source": [
    "# ... add column 'organ__ontology_label' as hue\n",
    "sns.histplot(data=df_metadata, x='organ__ontology_label', hue='organ__ontology_label')"
   ]
  },
  {
   "cell_type": "code",
   "execution_count": null,
   "metadata": {},
   "outputs": [],
   "source": [
    "# ... raise alpha (opacity) to maximum\n",
    "sns.histplot(data=df_metadata, x='organ__ontology_label', hue='organ__ontology_label', alpha=1)"
   ]
  },
  {
   "cell_type": "markdown",
   "metadata": {},
   "source": [
    "<div class=\"alert alert-block alert-info\"><b>Tip:</b>\n",
    "\n",
    "The parameter *alpha* refers to [alpha compositing](https://en.wikipedia.org/wiki/Alpha_compositing). This parameter is ubiquitous across plotting packages and defines the *opacity*, `alpha=0` meaning fully transparent and `alpha=1` fully opaque. \n",
    "\n",
    "</div>"
   ]
  },
  {
   "cell_type": "code",
   "execution_count": null,
   "metadata": {},
   "outputs": [],
   "source": [
    "# ... change to column 'biosample_id' as hue\n",
    "sns.histplot(data=df_metadata, x='organ__ontology_label', hue='biosample_id', alpha=1)"
   ]
  },
  {
   "cell_type": "markdown",
   "metadata": {},
   "source": [
    "<div class=\"alert alert-block alert-danger\"><b>Caveat:</b>\n",
    " \n",
    "Note that Seaborn plots the bars one on top of the other.\n",
    "\n",
    "</div>"
   ]
  },
  {
   "cell_type": "code",
   "execution_count": null,
   "metadata": {},
   "outputs": [],
   "source": [
    "# ... decrease the alpha\n",
    "sns.histplot(data=df_metadata, x='organ__ontology_label', hue='biosample_id', alpha=0.25)"
   ]
  },
  {
   "cell_type": "markdown",
   "metadata": {},
   "source": [
    "In order to avoid this annoying superposition of bars, we could *stack* or *dodge* them:"
   ]
  },
  {
   "cell_type": "code",
   "execution_count": null,
   "metadata": {},
   "outputs": [],
   "source": [
    "# ... stack the bars (one on top the other)\n",
    "sns.histplot(data=df_metadata, x='organ__ontology_label', hue='biosample_id', alpha=0.5, multiple=\"stack\")"
   ]
  },
  {
   "cell_type": "code",
   "execution_count": null,
   "metadata": {},
   "outputs": [],
   "source": [
    "# ... dodge the bars (side by side) and raise the alpha again\n",
    "sns.histplot(data=df_metadata, x='organ__ontology_label', hue='biosample_id', alpha=1, multiple=\"dodge\")"
   ]
  },
  {
   "cell_type": "markdown",
   "metadata": {},
   "source": [
    "Finally, let's change the position of the legend using the Seaborn function [`move_legend()`](https://seaborn.pydata.org/generated/seaborn.move_legend.html), and also add a nice title using the [`.set()`](https://matplotlib.org/stable/api/_as_gen/matplotlib.axes.Axes.set.html) method available for matplotlib `axes` objects:"
   ]
  },
  {
   "cell_type": "code",
   "execution_count": null,
   "metadata": {},
   "outputs": [],
   "source": [
    "# Plot and store the output matplotlib axes object as `ax`\n",
    "ax = sns.histplot(data=df_metadata, x='organ__ontology_label', hue='biosample_id', alpha=1, multiple=\"dodge\")\n",
    "\n",
    "# Move the legend using a Seaborn function\n",
    "sns.move_legend(ax, \"upper left\", bbox_to_anchor=(1, 1))\n",
    "\n",
    "# Add title\n",
    "ax.set(title='Biosample count by organ')"
   ]
  },
  {
   "cell_type": "markdown",
   "metadata": {},
   "source": [
    "<div class=\"alert alert-block alert-success\"><b>Practice:</b>\n",
    "\n",
    "Visualize the data from `df_metadata`. Un-comment and fill only those code lines with underscores `___`.\n",
    "    \n",
    "1) In the 1<sup>st</sup> code cell below, use Seaborn `hist()` function to plot the `'biosample_id'` count (x-axis) by `'organ__ontology_label'` (hue-color).\n",
    "    \n",
    "2) Use dodging and maximum opacity to format the bars.\n",
    "\n",
    "3) Store the the output matplotlib axes object as `ax`.\n",
    "\n",
    "4) Use the axes method `.tick_params()` to rotate x labels 90 degress.\n",
    "\n",
    "</div>"
   ]
  },
  {
   "cell_type": "code",
   "execution_count": null,
   "metadata": {},
   "outputs": [],
   "source": [
    "# Plot histogram with Seaborn\n",
    "# ax = sns.histplot(\n",
    "#                   data=___,\n",
    "#                   x=___,\n",
    "#                   hue=___,\n",
    "#                   alpha=___,\n",
    "#                   multiple=___\n",
    "#                   )\n",
    "\n",
    "# Rotate xlabels 90 degrees\n",
    "# ax.tick_params(axis=___, rotation=___)"
   ]
  },
  {
   "cell_type": "code",
   "execution_count": null,
   "metadata": {
    "jupyter": {
     "source_hidden": true
    },
    "tags": []
   },
   "outputs": [],
   "source": [
    "# Plot histogram with Seaborn\n",
    "ax = sns.histplot(\n",
    "                   data=df_metadata,\n",
    "                   x=\"biosample_id\",\n",
    "                   hue='organ__ontology_label',\n",
    "                   alpha=1,\n",
    "                   multiple=\"dodge\"\n",
    "                  )\n",
    "\n",
    "# Rotate xlabels 90 degrees\n",
    "ax.tick_params(axis='x', rotation=90)"
   ]
  },
  {
   "cell_type": "markdown",
   "metadata": {
    "tags": []
   },
   "source": [
    "<div class=\"alert alert-block alert-warning\"><b>Extension:</b>\n",
    "\n",
    "A Matplotlib plot is an *object* comprising a hierarchical structure of components. Usually the top level it is an instance of the `figure` class. Going below in the hierarchy we found the area where you draw, which is technically called the `axes` class. Keep in mind that a `figure` class can contain multiple `axes` classes within (for example, if you have subplots or insets). Similarly, the `axes` class have `title` or  `xaxis` and `yaxis`, ... which in turn have their own `majorTicks` ``minorTicks``, `label`, ... and so on.\n",
    "  \n",
    "If you have a single `axes` class instantiated, like in the examples above, you can access and change most parts of the hierarchy like we did above with `ax0.title`. If you want to do anything non-trivial, you have to compose the figure and its components yourself."
   ]
  },
  {
   "cell_type": "code",
   "execution_count": null,
   "metadata": {},
   "outputs": [],
   "source": [
    "# Initiate a matplotlib 2x1 figure as `fig` with their corresponding (empty) axes\n",
    "fig, axes = plt.subplots(nrows=2, ncols=1, figsize=(5, 10))\n",
    "\n",
    "# Create a histogram in each subplot\n",
    "sns.histplot(data=df_metadata, x='organ__ontology_label', hue='biosample_id', alpha=1, multiple=\"dodge\", ax=axes[0])\n",
    "sns.histplot(data=df_metadata, x=\"biosample_id\", hue='organ__ontology_label', alpha=1, multiple=\"dodge\", ax=axes[1])\n",
    "\n",
    "# Move the legends in each subplot outside the plotting area\n",
    "sns.move_legend(fig.axes[0], \"upper left\", bbox_to_anchor=(1, 1))\n",
    "sns.move_legend(fig.axes[1], \"upper left\", bbox_to_anchor=(1, 1))\n",
    "\n",
    "# Rotate xlabels from the second ax 90 degrees\n",
    "fig.axes[1].tick_params(axis='x', rotation=90)"
   ]
  },
  {
   "cell_type": "markdown",
   "metadata": {},
   "source": [
    "## The gallery of Seaborn (with Prostate Cancer UMAP)\n",
    "\n",
    "Seaborn has many plotting functions (have a look to its [example gallery](https://seaborn.pydata.org/examples/index.html)). Here we will show several visualization examples in order to cover the most typical plotting functions from Seaborn."
   ]
  },
  {
   "cell_type": "markdown",
   "metadata": {},
   "source": [
    "<div class=\"alert alert-block alert-info\"><b>Tip:</b>\n",
    "\n",
    "As you can see, Seaborn offers a sundry of possible plotting functions. Not all visualizations suit equally good on all data, so it is recommended to devote some time devising this matter before trying random plotting functions in berserk mode.\n",
    "</div>"
   ]
  },
  {
   "cell_type": "markdown",
   "metadata": {},
   "source": [
    "### Basic data inspection (UMAP)\n",
    "\n",
    "This time, we will import the file with the estimates for the [Uniform Manifold Approximation and Projection](https://en.wikipedia.org/wiki/Nonlinear_dimensionality_reduction#Uniform_manifold_approximation_and_projection) (UMAP) space."
   ]
  },
  {
   "cell_type": "code",
   "execution_count": null,
   "metadata": {},
   "outputs": [],
   "source": [
    "# Define the GitHub url towards the metadata file\n",
    "url = 'https://raw.githubusercontent.com/MMRES-PyBootcamp/MMRES-python-bootcamp2022/main/datasets/prostate_cancer_data/'\n",
    "\n",
    "# Reading file and storing it as a DataFrame\n",
    "df_all = pd.read_csv(filepath_or_buffer=f'{url}scp_clustering.tsv', sep='\\t', index_col=0, skiprows=[1])"
   ]
  },
  {
   "cell_type": "code",
   "execution_count": null,
   "metadata": {},
   "outputs": [],
   "source": [
    "# DataFrame general information\n",
    "df_all.info()"
   ]
  },
  {
   "cell_type": "code",
   "execution_count": null,
   "metadata": {},
   "outputs": [],
   "source": [
    "# DataFrame head (five first rows)\n",
    "df_all.head()"
   ]
  },
  {
   "cell_type": "code",
   "execution_count": null,
   "metadata": {},
   "outputs": [],
   "source": [
    "# DataFrame head (five first rows)\n",
    "df_all.tail()"
   ]
  },
  {
   "cell_type": "code",
   "execution_count": null,
   "metadata": {},
   "outputs": [],
   "source": [
    "# Get `df_all` (whole DataFrame) unique values\n",
    "df_all.nunique()"
   ]
  },
  {
   "cell_type": "markdown",
   "metadata": {},
   "source": [
    "### Visual data inspection: `countplot()` and `histplot()`\n",
    "\n",
    "You can use [`countplot()`](https://seaborn.pydata.org/generated/seaborn.countplot.html), for example, to quickly get a first overview on how a categorical variable is distributed:"
   ]
  },
  {
   "cell_type": "code",
   "execution_count": null,
   "metadata": {},
   "outputs": [],
   "source": [
    "# Get countplot\n",
    "ax = sns.countplot(data=df_all, x='supercluster for LDSC-SEG')\n",
    "\n",
    "# Rotate xlabels 90 degrees\n",
    "ax.tick_params(axis='x', rotation=90)"
   ]
  },
  {
   "cell_type": "markdown",
   "metadata": {},
   "source": [
    "The function [`histplot()`](https://seaborn.pydata.org/generated/seaborn.histplot.html) can also be used to this aim:"
   ]
  },
  {
   "cell_type": "code",
   "execution_count": null,
   "metadata": {},
   "outputs": [],
   "source": [
    "# Get histplot\n",
    "ax = sns.histplot(data=df_all, x='supercluster for LDSC-SEG')\n",
    "\n",
    "# Rotate xlabels 90 degrees\n",
    "ax.tick_params(axis='x', rotation=90)"
   ]
  },
  {
   "cell_type": "markdown",
   "metadata": {},
   "source": [
    "If the variable to inspect is numerical, you should better use `histplot()` instead of `countplot()`:"
   ]
  },
  {
   "cell_type": "code",
   "execution_count": null,
   "metadata": {},
   "outputs": [],
   "source": [
    "# Melt 'X' and 'Y', keeping 'cluster dominant cell type', 'supercluster for LDSC-SEG'\n",
    "df_all_melt = pd.melt(frame=df_all,\n",
    "                      id_vars=['cluster dominant cell type', 'supercluster for LDSC-SEG'],\n",
    "                      value_vars=['X', 'Y'],\n",
    "                      var_name='Coordinate',\n",
    "                      value_name='UMAP value')"
   ]
  },
  {
   "cell_type": "code",
   "execution_count": null,
   "metadata": {},
   "outputs": [],
   "source": [
    "# DataFrame head (five first rows)\n",
    "df_all_melt.head()"
   ]
  },
  {
   "cell_type": "code",
   "execution_count": null,
   "metadata": {},
   "outputs": [],
   "source": [
    "# DataFrame tail (five last rows)\n",
    "df_all_melt.tail()"
   ]
  },
  {
   "cell_type": "code",
   "execution_count": null,
   "metadata": {},
   "outputs": [],
   "source": [
    "# Get histplot (you can try additional stat arguments, such as 'count', 'frequency', 'density', 'probability', 'proportion', 'percent')\n",
    "sns.histplot(data=df_all_melt, x='UMAP value', hue='Coordinate', stat='percent', kde=True, bins=50)"
   ]
  },
  {
   "cell_type": "markdown",
   "metadata": {},
   "source": [
    "### Visual data inspection: `boxplot()`, `violinplot()` and `stripplot()`\n",
    "\n",
    "We have seen that `histplot()` is recommended to inspect how a numerical variable is distributed. Sometimes we might need to know such distribution but splitting by a some categorical variable. In this case, Seaborn functions [`boxplot()`](https://seaborn.pydata.org/generated/seaborn.boxplot.html), [`violinplot()`](https://seaborn.pydata.org/generated/seaborn.violinplot.html) and [`stripplot()`](https://seaborn.pydata.org/generated/seaborn.stripplot.html)."
   ]
  },
  {
   "cell_type": "code",
   "execution_count": null,
   "metadata": {},
   "outputs": [],
   "source": [
    "# Initiate a matplotlib 2x1 figure as `fig` with their corresponding (empty) axes\n",
    "fig, axes = plt.subplots(nrows=1, ncols=3, figsize=(15, 5))\n",
    "\n",
    "# Get boxpot, violinplot and stripplot\n",
    "sns.boxplot(data=df_all_melt, x='supercluster for LDSC-SEG', y='UMAP value', hue='Coordinate', ax=axes[0])\n",
    "sns.violinplot(data=df_all_melt, x='supercluster for LDSC-SEG', y='UMAP value', hue='Coordinate', ax=axes[1])\n",
    "sns.stripplot(data=df_all_melt, x='supercluster for LDSC-SEG', y='UMAP value', hue='Coordinate', dodge=True, alpha=0.05, jitter=0.3, ax=axes[2])\n",
    "\n",
    "# TODO\n",
    "for i, ax in enumerate(axes):\n",
    "    print(i)\n",
    "    \n",
    "    # Rotate xlabels from the second ax 90 degrees\n",
    "    fig.axes[i].tick_params(axis='x', rotation=90)"
   ]
  },
  {
   "cell_type": "markdown",
   "metadata": {},
   "source": [
    "When looking at a *box plot* it is difficult to tell at a glance if the underlying data is normally distributed or not. Violin plots are more convenient to get a better insight on the true data distribution. Strip plots can also be useful to this aim if you adjust a bit with `alpha=` and `jitter=` arguments (don't forget to use `dodge=True` in strip plots if you pass a categorical variable to the `hue=` argument)."
   ]
  },
  {
   "cell_type": "markdown",
   "metadata": {},
   "source": [
    "<div class=\"alert alert-block alert-info\"><b>Tip:</b>\n",
    "\n",
    "The parameter *jitter* refers to lateral (vertical in the example above) random spreading of data points. Sometimes, increasing the jitter (by default `jitter=0.1`) is useful to have a better glimpse of the data we have between hands.\n",
    "\n",
    "</div>"
   ]
  },
  {
   "cell_type": "markdown",
   "metadata": {},
   "source": [
    "### Visual data inspection: `scatterplot()`\n",
    "\n",
    "The most straightforward way to visualize the relationship between two numerical magnitudes is the scatterplot:"
   ]
  },
  {
   "cell_type": "code",
   "execution_count": null,
   "metadata": {},
   "outputs": [],
   "source": [
    "# Get scatterplot\n",
    "sns.scatterplot(data=df_all, x='X', y='Y')"
   ]
  },
  {
   "cell_type": "markdown",
   "metadata": {},
   "source": [
    "Let's us go a step further with scatter plots and try to reproduce panel _d_ from the [Extended Data Figure 1](https://www.ncbi.nlm.nih.gov/pmc/articles/PMC7960507/figure/Fig5/) appearing in a [Nature Medicine](https://www.nature.com/nm/) paper entitled [*Transcriptional mediators of treatment resistance in lethal prostate cancer*](https://www.ncbi.nlm.nih.gov/pmc/articles/PMC7960507/). Since the data in such panel combines information from UMAP and metadata, we need first to get a DataFrame combining `df_all` and `df_metadata`:"
   ]
  },
  {
   "cell_type": "code",
   "execution_count": null,
   "metadata": {},
   "outputs": [],
   "source": [
    "# Merge `df_all` and `df_metadata` as `df_all_metadata`\n",
    "df_all_metadata = df_all.merge(df_metadata, right_index=True, left_index=True, how='inner')\n",
    "\n",
    "# DataFrame general information\n",
    "df_all_metadata.info()"
   ]
  },
  {
   "cell_type": "markdown",
   "metadata": {},
   "source": [
    "As desired, we just added the `df_metadata` columns to the `df_all` DataFrame. Let's tweak a bit more our first scatter plot from above:"
   ]
  },
  {
   "cell_type": "code",
   "execution_count": null,
   "metadata": {},
   "outputs": [],
   "source": [
    "# Get scatterplot\n",
    "ax = sns.scatterplot(data=df_all_metadata, x='X', y='Y', hue='biosample_id', linewidth=0, s=3)\n",
    "\n",
    "# Move the legend using a Seaborn function\n",
    "sns.move_legend(ax, \"upper left\", bbox_to_anchor=(1, 1))"
   ]
  },
  {
   "cell_type": "markdown",
   "metadata": {},
   "source": [
    "That's panel _d_ from the [Extended Data Figure 1](https://www.ncbi.nlm.nih.gov/pmc/articles/PMC7960507/figure/Fig5/), isn't it? And in just a couple Python code lines!"
   ]
  },
  {
   "cell_type": "markdown",
   "metadata": {},
   "source": [
    "<div class=\"alert alert-block alert-success\"><b>Practice:</b>\n",
    "\n",
    "Reproduce panel _e_ from the [Extended Data Figure 1](https://www.ncbi.nlm.nih.gov/pmc/articles/PMC7960507/figure/Fig5/) appearing in a [Nature Medicine](https://www.nature.com/nm/) paper entitled [*Transcriptional mediators of treatment resistance in lethal prostate cancer*](https://www.ncbi.nlm.nih.gov/pmc/articles/PMC7960507/).\n",
    "\n",
    "1) In the 1<sup>st</sup> code cell below, use Seaborn `scatterplot()` function to plot the relationship between UMAP coordinates `'X'` and `'Y'`.\n",
    "\n",
    "2) Remove the circles white coronas by specifying `linewidth=0`. \n",
    "\n",
    "3) Reduce circle size by specifying `s=3`.    \n",
    "\n",
    "4) Highlight from which organ each cell came from by specifying `hue='organ__ontology_label'`.\n",
    "\n",
    "Note how easy is to use a custom color palette (or predefined [Seaborn color palette](https://seaborn.pydata.org/tutorial/color_palettes.html)). You just need to define a list with the colors we want in HEX format and call the Seaborn function `color_palette()` to create your own palette.\n",
    "\n",
    "5) Change the color palette by specifying `palette=custom_palette`.\n",
    "\n",
    "</div>"
   ]
  },
  {
   "cell_type": "code",
   "execution_count": null,
   "metadata": {},
   "outputs": [],
   "source": [
    "# Create list with custom colors in HEX format\n",
    "list_colors = [\"#af635b\", \"#979c5f\", \"#624f74\"]\n",
    "\n",
    "# Create custom color palette\n",
    "custom_palette = sns.color_palette(list_colors)\n",
    "\n",
    "# Reproduce panel _e_ from the Extended Data Figure 1\n",
    "sns.scatterplot()"
   ]
  },
  {
   "cell_type": "code",
   "execution_count": null,
   "metadata": {
    "jupyter": {
     "source_hidden": true
    },
    "tags": []
   },
   "outputs": [],
   "source": [
    "# Create list with custom colors in HEX format\n",
    "list_colors = [\"#af635b\", \"#979c5f\", \"#624f74\"]\n",
    "\n",
    "# Create custom color palette\n",
    "custom_palette = sns.color_palette(list_colors)\n",
    "\n",
    "# Reproduce panel _e_ from the Extended Data Figure 1\n",
    "sns.scatterplot(\n",
    "                data=df_all_metadata,\n",
    "                y='Y',\n",
    "                x='X',\n",
    "                hue='organ__ontology_label',\n",
    "                linewidth=0,\n",
    "                s=3,\n",
    "                palette=custom_palette\n",
    "               )"
   ]
  },
  {
   "cell_type": "markdown",
   "metadata": {},
   "source": [
    "We did it again! That's panel _e_ from the [Extended Data Figure 1](https://www.ncbi.nlm.nih.gov/pmc/articles/PMC7960507/figure/Fig5/)!"
   ]
  }
 ],
 "metadata": {
  "colab": {
   "collapsed_sections": [],
   "include_colab_link": true,
   "name": "Exercise_Prostate_Cancer.ipynb",
   "provenance": [],
   "toc_visible": true
  },
  "kernelspec": {
   "display_name": "Python 3 (ipykernel)",
   "language": "python",
   "name": "python3"
  },
  "language_info": {
   "codemirror_mode": {
    "name": "ipython",
    "version": 3
   },
   "file_extension": ".py",
   "mimetype": "text/x-python",
   "name": "python",
   "nbconvert_exporter": "python",
   "pygments_lexer": "ipython3",
   "version": "3.8.5"
  }
 },
 "nbformat": 4,
 "nbformat_minor": 4
}
