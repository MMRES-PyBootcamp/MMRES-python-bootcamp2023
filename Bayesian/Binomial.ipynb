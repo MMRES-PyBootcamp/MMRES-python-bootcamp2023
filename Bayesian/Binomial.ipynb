{
  "cells": [
    {
      "cell_type": "markdown",
      "metadata": {
        "id": "view-in-github",
        "colab_type": "text"
      },
      "source": [
        "<a href=\"https://colab.research.google.com/github/MMRES-PyBootcamp/MMRES-python-bootcamp2023/blob/main/Bayesian/Binomial.ipynb\" target=\"_parent\"><img src=\"https://colab.research.google.com/assets/colab-badge.svg\" alt=\"Open In Colab\"/></a>"
      ]
    },
    {
      "cell_type": "code",
      "execution_count": null,
      "id": "b5c06ed3",
      "metadata": {
        "id": "b5c06ed3"
      },
      "outputs": [],
      "source": [
        "import numpy as np\n",
        "%matplotlib inline\n",
        "import matplotlib.pyplot as plt\n",
        "from scipy.stats import norm, binom\n",
        "from matplotlib import rc\n",
        "rc('font',**{'size':15,'family':'serif','serif':['Palatino']})\n",
        "rc('text', usetex=True)"
      ]
    },
    {
      "cell_type": "markdown",
      "id": "4749e2a8",
      "metadata": {
        "id": "4749e2a8"
      },
      "source": [
        "# Exercise: Simulating the posterior of a binomial experiment\n",
        "\n",
        "Given a binomial experiment, with $N$ trials and $n$ successes, we want to find the posterior of the parameter $\\theta$, the probability of success associated with each binomial experiment: $p(\\theta|n,N)$."
      ]
    },
    {
      "cell_type": "markdown",
      "id": "2ec870bd",
      "metadata": {
        "id": "2ec870bd"
      },
      "source": [
        "### First, let's simulate (Change/experiment with $n$ and $N$ for different outcomes)"
      ]
    },
    {
      "cell_type": "code",
      "execution_count": null,
      "id": "262cd705",
      "metadata": {
        "id": "262cd705"
      },
      "outputs": [],
      "source": [
        "NS = 10**7                                      # of simulations\n",
        "Ntrial, Nobs = 100, 60                         # of trials and successes in a binomial experiment\n",
        "nbin = 50                                       # of bins in histogram"
      ]
    },
    {
      "cell_type": "markdown",
      "id": "f7d56267",
      "metadata": {
        "id": "f7d56267"
      },
      "source": [
        "### Defining our prior and sampling"
      ]
    },
    {
      "cell_type": "code",
      "execution_count": null,
      "id": "8f760840",
      "metadata": {
        "id": "8f760840"
      },
      "outputs": [],
      "source": [
        "theta = np.random.random(NS)  # Sample theta uniformly between 0 and 1, NS times (this is our uniform prior)"
      ]
    },
    {
      "cell_type": "code",
      "execution_count": null,
      "id": "64932c60",
      "metadata": {
        "id": "64932c60",
        "outputId": "f3ed3870-4136-4e67-f800-92cff09a456d"
      },
      "outputs": [
        {
          "data": {
            "image/png": "[encoded data removed]",
            "text/plain": [
              "<Figure size 600x400 with 1 Axes>"
            ]
          },
          "metadata": {},
          "output_type": "display_data"
        }
      ],
      "source": [
        "# Check that prior is flat\n",
        "fig = plt.figure(figsize=(6,4))\n",
        "y, x, dum = plt.hist(theta, nbin, density=True, color='cornflowerblue',alpha=0.5, label='Uniform prior')\n",
        "plt.xlabel(r'$\\theta$')\n",
        "plt.ylabel(r'$p(\\theta)$')\n",
        "plt.show()"
      ]
    },
    {
      "cell_type": "code",
      "execution_count": null,
      "id": "4b8b85b2",
      "metadata": {
        "id": "4b8b85b2"
      },
      "outputs": [],
      "source": [
        "n = np.random.binomial(Ntrial, theta)\n",
        "mask = (n == Nobs)\n",
        "theta = theta[mask]  # Keep the theta's for which n = Nobs"
      ]
    },
    {
      "cell_type": "markdown",
      "id": "c5715648",
      "metadata": {
        "id": "c5715648"
      },
      "source": [
        "### Now we plot a histogram of the $\\theta$'s we kept, those that lead to the observed $n$: This is our simulated posterior!"
      ]
    },
    {
      "cell_type": "code",
      "execution_count": null,
      "id": "d4371206",
      "metadata": {
        "id": "d4371206"
      },
      "outputs": [],
      "source": [
        "fig = plt.figure(figsize=(6,4))\n",
        "y, x, dum = plt.hist(theta, nbin, density=True, color='cornflowerblue',alpha=0.5, label='Simulated')     # Fill histogram with kept values of theta: simulated posterior pdf for theta\n",
        "plt.xlabel(r'$\\theta$')\n",
        "plt.ylabel(r'$p(\\theta|n,N)$')\n",
        "plt.show()"
      ]
    },
    {
      "cell_type": "markdown",
      "id": "bd77aaf9",
      "metadata": {
        "id": "bd77aaf9"
      },
      "source": [
        "### Overlay the analytical posterior\n",
        "\n",
        "This is the simulated posterior, but we also know from theory how to write the posterior analytically, so let's add that too, for comparison. From the notes, Eq.(3.5), we know the posterior is $(N+1)$ times the binomial pmf.\n",
        "\n",
        "\n",
        "\n"
      ]
    },
    {
      "cell_type": "code",
      "execution_count": null,
      "id": "b14c48f8",
      "metadata": {
        "id": "b14c48f8"
      },
      "outputs": [],
      "source": [
        "fig.gca().plot(x, (Ntrial+1) * binom.pmf(Nobs, Ntrial, x), linewidth=3, color='darkslategrey',alpha=0.8, label='Analytical')\n",
        "fig"
      ]
    },
    {
      "cell_type": "markdown",
      "id": "00d0b0c7",
      "metadata": {
        "id": "00d0b0c7"
      },
      "source": [
        "### Compare to a Gaussian\n",
        "\n",
        "In some cases, we can approximate the binomial as a Gaussian, when $N$ is large and $n$ is not very close to 0 or $N$."
      ]
    },
    {
      "cell_type": "code",
      "execution_count": null,
      "id": "6b2cfc71",
      "metadata": {
        "id": "6b2cfc71"
      },
      "outputs": [],
      "source": [
        "mu, sigma = theta.mean(), theta.std(ddof=1)             # Overlay a Gaussian with mu = <p> and var = Var(p) (sample var, so ddof=1)\n",
        "fig.gca().plot(x, norm.pdf(x, mu, sigma), linewidth=2, ls='dashed', color='tomato', alpha=0.9, zorder=4, label='Gaussian')\n",
        "fig.gca().legend(frameon=False)\n",
        "fig"
      ]
    },
    {
      "cell_type": "markdown",
      "id": "c70b4b35",
      "metadata": {
        "id": "c70b4b35"
      },
      "source": [
        "### Try different values for $n$ and $N$ and see how things change!"
      ]
    }
  ],
  "metadata": {
    "kernelspec": {
      "display_name": "Python 3 (ipykernel)",
      "language": "python",
      "name": "python3"
    },
    "language_info": {
      "codemirror_mode": {
        "name": "ipython",
        "version": 3
      },
      "file_extension": ".py",
      "mimetype": "text/x-python",
      "name": "python",
      "nbconvert_exporter": "python",
      "pygments_lexer": "ipython3",
      "version": "3.9.6"
    },
    "colab": {
      "provenance": [],
      "include_colab_link": true
    }
  },
  "nbformat": 4,
  "nbformat_minor": 5
}