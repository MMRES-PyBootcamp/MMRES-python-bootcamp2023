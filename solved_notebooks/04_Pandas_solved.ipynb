{
 "cells": [
  {
   "cell_type": "markdown",
   "metadata": {
    "colab_type": "text",
    "id": "view-in-github"
   },
   "source": [
    "<a href=\"https://colab.research.google.com/github/MMRES-PyBootcamp/MMRES-python-bootcamp2021/blob/master/04_Pandas.ipynb\" target=\"_parent\"><img src=\"https://colab.research.google.com/assets/colab-badge.svg\" alt=\"Open In Colab\"/></a>"
   ]
  },
  {
   "cell_type": "markdown",
   "metadata": {},
   "source": [
    "# Session 4 - Pandas (First part)\n",
    "> An introduction on Pandas basic level concepts. First, you will become familiar with Pandas and its cornerstone variable types: the *Series* and the *DataFrame*. You will learn how to *import data* with Pandas and some tips to perform DataFrame *preliminary exploration* (including a very basic *visual inspection*). In addition, you will learn how to *access* the data stored in a DataFrame. Finally, you will be introduced to the concepts of DataFrame *boolean indexing* and DataFrame *filtering*."
   ]
  },
  {
   "cell_type": "markdown",
   "metadata": {},
   "source": [
    "## Outline\n",
    " * [What is Pandas?](#What-is-Pandas?)\n",
    " * [Series and DataFrames](#Series-and-DataFrames)\n",
    " * [Loading data as a DataFrame](#Loading-data-as-a-DataFrame)\n",
    " * [DataFrame basic inspection](#DataFrame-basic-inspection)\n",
    " * [DataFrame visual inspection](#DataFrame-visual-inspection)\n",
    " * [DataFrame access](#DataFrame-access)\n",
    "   * [Accessing whole columns](#Accessing-whole-columns)\n",
    "   * [Accessing whole rows](#Accessing-whole-rows)\n",
    "   * [Accessing columns and rows simultaneously](#Accessing-columns-and-rows-simultaneously)\n",
    " * [Series methods](#Series-methods)\n",
    " * [DataFrame boolean indexing](#DataFrame-boolean-indexing)\n",
    " * [Filtering DataFrames with boolean indexing](#Filtering-DataFrames-with-boolean-indexing)"
   ]
  },
  {
   "cell_type": "markdown",
   "metadata": {},
   "source": [
    "<div class=\"alert alert-block alert-success\"><b>Practice:</b> Practice cells announce exercises that you should try during the current boot camp session.\n",
    "</div>"
   ]
  },
  {
   "cell_type": "markdown",
   "metadata": {},
   "source": [
    "<div class=\"alert alert-block alert-warning\"><b>Extension:</b> Extension cells correspond to exercises (or links to contents) that are a bit more advanced. We recommend to try them after the current boot camp session.\n",
    "</div>"
   ]
  },
  {
   "cell_type": "markdown",
   "metadata": {},
   "source": [
    "<div class=\"alert alert-block alert-info\"><b>Tip:</b> Tip cells just give some advice or complementary information.\n",
    "</div>"
   ]
  },
  {
   "cell_type": "markdown",
   "metadata": {},
   "source": [
    "<div class=\"alert alert-block alert-danger\"><b>Caveat:</b> Caveat cells warn you about the most common pitfalls one founds when starts his/her path learning Python.\n",
    "\n",
    "</div>"
   ]
  },
  {
   "cell_type": "markdown",
   "metadata": {},
   "source": [
    "**This document is devised as a tool to enable your self-learning process. If you get stuck at some step or need any kind of help, please don't hesitate to raise your hand and ask for the teacher's guidance.**\n",
    "\n",
    "---"
   ]
  },
  {
   "cell_type": "markdown",
   "metadata": {
    "id": "jd6Y3hlZwe_y",
    "tags": []
   },
   "source": [
    "## What is Pandas?\n",
    "\n",
    "[NumPy](https://numpy.org/) makes life a lot easier when dealing with numeric matrices and vectors in Python. However, those used to work with dedicated languages like [R](https://www.r-project.org/), doing data analysis directly with NumPy feels like a step back. Fortunately, some nice folks have written the Python Data Analysis Library (a.k.a. [Pandas](http://pandas.pydata.org/)). Pandas provides Python with an R-like DataFrame object, produces high quality plots with [matplotlib](https://matplotlib.org/), and nicely integrates with other libraries that expect NumPy arrays such [seaborn](https://seaborn.pydata.org/), [scikit-learn](https://scikit-learn.org/stable/), ...\n",
    "\n",
    "<div class=\"alert alert-block alert-info\"><b>Tip:</b> We will devote a whole boot camp session to NumPy on October 4 <sup>th</sup> (15:00-16:00).\n",
    "</div>"
   ]
  },
  {
   "cell_type": "markdown",
   "metadata": {},
   "source": [
    "## Series and DataFrames\n",
    "\n",
    "Pandas works with [`Series`](https://pandas.pydata.org/docs/reference/api/pandas.Series.html) of data, that then are arranged in [`DataFrame`](https://pandas.pydata.org/docs/reference/frame.html) objects. A DataFrame is the object closest to an spreadsheet that we will see throughout the present session. DataFrames, though, given that they are integrated in Python and can be combined with so many different packages, are much more powerful than simple Excel spreadsheets. We use to load Pandas with the `pd` alias:"
   ]
  },
  {
   "cell_type": "code",
   "execution_count": 1,
   "metadata": {},
   "outputs": [],
   "source": [
    "# Load package with its corresponding alias\n",
    "import pandas as pd"
   ]
  },
  {
   "cell_type": "markdown",
   "metadata": {},
   "source": [
    "## Loading data as a DataFrame"
   ]
  },
  {
   "cell_type": "markdown",
   "metadata": {},
   "source": [
    "In order to load data with Pandas we use functions like [`pd.read_excel()`](https://pandas.pydata.org/pandas-docs/stable/reference/api/pandas.read_excel.html) and [`pd.read_csv()`](https://pandas.pydata.org/pandas-docs/stable/reference/api/pandas.read_csv.html). As you may have guessed, we choose depending on the format of our input data. For example, [`pd.read_excel()`](https://pandas.pydata.org/pandas-docs/stable/reference/api/pandas.read_excel.html) works with `xlsx`, `xls`... [`pd.read_csv()`](https://pandas.pydata.org/pandas-docs/stable/reference/api/pandas.read_csv.html) with `csv`, `tsv`, `txt`... These functions have multiple arguments providing great flexibility when importing data, like skipping some rows/columns, specifying the column delimiter or picking a particular sheet within a spreadsheet. Let's begin by importing `Spreadsheet.xlsx` from `/MMRES-python-bootcamp2022/datasets` sub-folder:"
   ]
  },
  {
   "cell_type": "code",
   "execution_count": 2,
   "metadata": {},
   "outputs": [
    {
     "data": {
      "text/html": [
       "<div>\n",
       "<style scoped>\n",
       "    .dataframe tbody tr th:only-of-type {\n",
       "        vertical-align: middle;\n",
       "    }\n",
       "\n",
       "    .dataframe tbody tr th {\n",
       "        vertical-align: top;\n",
       "    }\n",
       "\n",
       "    .dataframe thead th {\n",
       "        text-align: right;\n",
       "    }\n",
       "</style>\n",
       "<table border=\"1\" class=\"dataframe\">\n",
       "  <thead>\n",
       "    <tr style=\"text-align: right;\">\n",
       "      <th></th>\n",
       "      <th>Raw</th>\n",
       "      <th>Software</th>\n",
       "      <th>Node</th>\n",
       "      <th>RNA</th>\n",
       "      <th>Intensity</th>\n",
       "      <th>Amplitude</th>\n",
       "    </tr>\n",
       "  </thead>\n",
       "  <tbody>\n",
       "    <tr>\n",
       "      <th>0</th>\n",
       "      <td>1985-04-06_0123_GA_C_R1</td>\n",
       "      <td>PD</td>\n",
       "      <td>Amanda</td>\n",
       "      <td>CCUGAACCCACUAUUGAUGAG</td>\n",
       "      <td>142.294863</td>\n",
       "      <td>1.529504</td>\n",
       "    </tr>\n",
       "    <tr>\n",
       "      <th>1</th>\n",
       "      <td>1985-04-06_0123_GA_C_R2</td>\n",
       "      <td>PD</td>\n",
       "      <td>Amanda</td>\n",
       "      <td>CCUGAACCCACUAUUGAUGAG</td>\n",
       "      <td>72.714405</td>\n",
       "      <td>1.226853</td>\n",
       "    </tr>\n",
       "    <tr>\n",
       "      <th>2</th>\n",
       "      <td>1985-04-06_0123_GA_T_R3</td>\n",
       "      <td>PD</td>\n",
       "      <td>Amanda</td>\n",
       "      <td>CCUGAACCCACUAUUGAUGAG</td>\n",
       "      <td>133.493350</td>\n",
       "      <td>1.768732</td>\n",
       "    </tr>\n",
       "    <tr>\n",
       "      <th>3</th>\n",
       "      <td>1985-04-06_0123_GA_T_R4</td>\n",
       "      <td>PD</td>\n",
       "      <td>Amanda</td>\n",
       "      <td>CCUGAACCCACUAUUGAUGAG</td>\n",
       "      <td>62.007904</td>\n",
       "      <td>1.331619</td>\n",
       "    </tr>\n",
       "    <tr>\n",
       "      <th>4</th>\n",
       "      <td>1985-04-06_0123_GA_C_R1</td>\n",
       "      <td>PD</td>\n",
       "      <td>Sequest</td>\n",
       "      <td>CCUGAACCCACUAUUGAUGAG</td>\n",
       "      <td>112.643842</td>\n",
       "      <td>1.853473</td>\n",
       "    </tr>\n",
       "    <tr>\n",
       "      <th>5</th>\n",
       "      <td>1985-04-06_0123_GA_C_R2</td>\n",
       "      <td>PD</td>\n",
       "      <td>Sequest</td>\n",
       "      <td>CCUGAACCCACUAUUGAUGAG</td>\n",
       "      <td>116.570249</td>\n",
       "      <td>1.821342</td>\n",
       "    </tr>\n",
       "    <tr>\n",
       "      <th>6</th>\n",
       "      <td>1985-04-06_0123_GA_T_R3</td>\n",
       "      <td>PD</td>\n",
       "      <td>Sequest</td>\n",
       "      <td>CCUGAACCCACUAUUGAUGAG</td>\n",
       "      <td>NaN</td>\n",
       "      <td>1.406125</td>\n",
       "    </tr>\n",
       "    <tr>\n",
       "      <th>7</th>\n",
       "      <td>1985-04-06_0123_GA_T_R4</td>\n",
       "      <td>PD</td>\n",
       "      <td>Sequest</td>\n",
       "      <td>CCUGAACCCACUAUUGAUGAG</td>\n",
       "      <td>64.983534</td>\n",
       "      <td>1.903608</td>\n",
       "    </tr>\n",
       "    <tr>\n",
       "      <th>8</th>\n",
       "      <td>1985-04-06_0123_GA_C_R1</td>\n",
       "      <td>MQ</td>\n",
       "      <td>Andromeda</td>\n",
       "      <td>CCUGAACCCACUAUUGAUGAG</td>\n",
       "      <td>97.934919</td>\n",
       "      <td>1.437262</td>\n",
       "    </tr>\n",
       "    <tr>\n",
       "      <th>9</th>\n",
       "      <td>1985-04-06_0123_GA_C_R2</td>\n",
       "      <td>MQ</td>\n",
       "      <td>Andromeda</td>\n",
       "      <td>CCUGAACCCACUAUUGAUGAG</td>\n",
       "      <td>93.601301</td>\n",
       "      <td>1.647577</td>\n",
       "    </tr>\n",
       "    <tr>\n",
       "      <th>10</th>\n",
       "      <td>1985-04-06_0123_GA_T_R3</td>\n",
       "      <td>MQ</td>\n",
       "      <td>Andromeda</td>\n",
       "      <td>CCUGAACCCACUAUUGAUGAG</td>\n",
       "      <td>84.169260</td>\n",
       "      <td>1.981663</td>\n",
       "    </tr>\n",
       "    <tr>\n",
       "      <th>11</th>\n",
       "      <td>1985-04-06_0123_GA_T_R4</td>\n",
       "      <td>MQ</td>\n",
       "      <td>Andromeda</td>\n",
       "      <td>CCUGAACCCACUAUUGAUGAG</td>\n",
       "      <td>144.019781</td>\n",
       "      <td>1.671251</td>\n",
       "    </tr>\n",
       "  </tbody>\n",
       "</table>\n",
       "</div>"
      ],
      "text/plain": [
       "                        Raw Software       Node                    RNA  \\\n",
       "0   1985-04-06_0123_GA_C_R1       PD     Amanda  CCUGAACCCACUAUUGAUGAG   \n",
       "1   1985-04-06_0123_GA_C_R2       PD     Amanda  CCUGAACCCACUAUUGAUGAG   \n",
       "2   1985-04-06_0123_GA_T_R3       PD     Amanda  CCUGAACCCACUAUUGAUGAG   \n",
       "3   1985-04-06_0123_GA_T_R4       PD     Amanda  CCUGAACCCACUAUUGAUGAG   \n",
       "4   1985-04-06_0123_GA_C_R1       PD    Sequest  CCUGAACCCACUAUUGAUGAG   \n",
       "5   1985-04-06_0123_GA_C_R2       PD    Sequest  CCUGAACCCACUAUUGAUGAG   \n",
       "6   1985-04-06_0123_GA_T_R3       PD    Sequest  CCUGAACCCACUAUUGAUGAG   \n",
       "7   1985-04-06_0123_GA_T_R4       PD    Sequest  CCUGAACCCACUAUUGAUGAG   \n",
       "8   1985-04-06_0123_GA_C_R1       MQ  Andromeda  CCUGAACCCACUAUUGAUGAG   \n",
       "9   1985-04-06_0123_GA_C_R2       MQ  Andromeda  CCUGAACCCACUAUUGAUGAG   \n",
       "10  1985-04-06_0123_GA_T_R3       MQ  Andromeda  CCUGAACCCACUAUUGAUGAG   \n",
       "11  1985-04-06_0123_GA_T_R4       MQ  Andromeda  CCUGAACCCACUAUUGAUGAG   \n",
       "\n",
       "     Intensity  Amplitude  \n",
       "0   142.294863   1.529504  \n",
       "1    72.714405   1.226853  \n",
       "2   133.493350   1.768732  \n",
       "3    62.007904   1.331619  \n",
       "4   112.643842   1.853473  \n",
       "5   116.570249   1.821342  \n",
       "6          NaN   1.406125  \n",
       "7    64.983534   1.903608  \n",
       "8    97.934919   1.437262  \n",
       "9    93.601301   1.647577  \n",
       "10   84.169260   1.981663  \n",
       "11  144.019781   1.671251  "
      ]
     },
     "execution_count": 2,
     "metadata": {},
     "output_type": "execute_result"
    }
   ],
   "source": [
    "# Reading an Excel SpreadSheet and storing it as a DataFrame called `df_local`\n",
    "df_local = pd.read_excel(io='datasets/Spreadsheet.xlsx')\n",
    "\n",
    "# Return the DataFrame\n",
    "df_local"
   ]
  },
  {
   "cell_type": "code",
   "execution_count": 3,
   "metadata": {},
   "outputs": [
    {
     "name": "stdout",
     "output_type": "stream",
     "text": [
      "<class 'pandas.core.frame.DataFrame'>\n"
     ]
    }
   ],
   "source": [
    "# Get the data type of `df`\n",
    "print(type(df_local))"
   ]
  },
  {
   "cell_type": "markdown",
   "metadata": {},
   "source": [
    "Pandas functions `pd.read_excel()` and `pd.read_csv()` are able to load non-locally stored data. Let's import again `Spreadsheet.xlsx`, but this time straight from the [MMRES Python boot camp GitHub repository](https://github.com/MMRES-PyBootcamp/MMRES-python-bootcamp2022):"
   ]
  },
  {
   "cell_type": "code",
   "execution_count": 4,
   "metadata": {},
   "outputs": [
    {
     "data": {
      "text/html": [
       "<div>\n",
       "<style scoped>\n",
       "    .dataframe tbody tr th:only-of-type {\n",
       "        vertical-align: middle;\n",
       "    }\n",
       "\n",
       "    .dataframe tbody tr th {\n",
       "        vertical-align: top;\n",
       "    }\n",
       "\n",
       "    .dataframe thead th {\n",
       "        text-align: right;\n",
       "    }\n",
       "</style>\n",
       "<table border=\"1\" class=\"dataframe\">\n",
       "  <thead>\n",
       "    <tr style=\"text-align: right;\">\n",
       "      <th></th>\n",
       "      <th>Raw</th>\n",
       "      <th>Software</th>\n",
       "      <th>Node</th>\n",
       "      <th>RNA</th>\n",
       "      <th>Intensity</th>\n",
       "      <th>Amplitude</th>\n",
       "    </tr>\n",
       "  </thead>\n",
       "  <tbody>\n",
       "    <tr>\n",
       "      <th>0</th>\n",
       "      <td>1985-04-06_0123_GA_C_R1</td>\n",
       "      <td>PD</td>\n",
       "      <td>Amanda</td>\n",
       "      <td>CCUGAACCCACUAUUGAUGAG</td>\n",
       "      <td>142.294863</td>\n",
       "      <td>1.529504</td>\n",
       "    </tr>\n",
       "    <tr>\n",
       "      <th>1</th>\n",
       "      <td>1985-04-06_0123_GA_C_R2</td>\n",
       "      <td>PD</td>\n",
       "      <td>Amanda</td>\n",
       "      <td>CCUGAACCCACUAUUGAUGAG</td>\n",
       "      <td>72.714405</td>\n",
       "      <td>1.226853</td>\n",
       "    </tr>\n",
       "  </tbody>\n",
       "</table>\n",
       "</div>"
      ],
      "text/plain": [
       "                       Raw Software    Node                    RNA  \\\n",
       "0  1985-04-06_0123_GA_C_R1       PD  Amanda  CCUGAACCCACUAUUGAUGAG   \n",
       "1  1985-04-06_0123_GA_C_R2       PD  Amanda  CCUGAACCCACUAUUGAUGAG   \n",
       "\n",
       "    Intensity  Amplitude  \n",
       "0  142.294863   1.529504  \n",
       "1   72.714405   1.226853  "
      ]
     },
     "execution_count": 4,
     "metadata": {},
     "output_type": "execute_result"
    }
   ],
   "source": [
    "# Define the GitHub url towards the metadata file in xlsx format\n",
    "url_excel = 'https://github.com/MMRES-PyBootcamp/MMRES-python-bootcamp2022/blob/main/datasets/'\n",
    "\n",
    "# Reading an Excel SpreadSheet and storing it as a DataFrame called `df`\n",
    "df = pd.read_excel(io=f'{url_excel}Spreadsheet.xlsx?raw=true')\n",
    "\n",
    "# Return the DataFrame\n",
    "df.head(2)"
   ]
  },
  {
   "cell_type": "markdown",
   "metadata": {},
   "source": [
    "There is an important detail here when using `read_excel()` to directly load data from GitHub: you must pass the URL to the *raw view* of the file. Note the `?raw=true` we appended at the end of the URL. Similarly, when using `read_csv()` you need to pass the URL to the *raw view* of the file as well, but with an slightly different syntax:"
   ]
  },
  {
   "cell_type": "code",
   "execution_count": 5,
   "metadata": {},
   "outputs": [
    {
     "data": {
      "text/html": [
       "<div>\n",
       "<style scoped>\n",
       "    .dataframe tbody tr th:only-of-type {\n",
       "        vertical-align: middle;\n",
       "    }\n",
       "\n",
       "    .dataframe tbody tr th {\n",
       "        vertical-align: top;\n",
       "    }\n",
       "\n",
       "    .dataframe thead th {\n",
       "        text-align: right;\n",
       "    }\n",
       "</style>\n",
       "<table border=\"1\" class=\"dataframe\">\n",
       "  <thead>\n",
       "    <tr style=\"text-align: right;\">\n",
       "      <th></th>\n",
       "      <th>Raw</th>\n",
       "      <th>Software</th>\n",
       "      <th>Node</th>\n",
       "      <th>RNA</th>\n",
       "      <th>Intensity</th>\n",
       "      <th>Amplitude</th>\n",
       "    </tr>\n",
       "  </thead>\n",
       "  <tbody>\n",
       "    <tr>\n",
       "      <th>0</th>\n",
       "      <td>1985-04-06_0123_GA_C_R1</td>\n",
       "      <td>PD</td>\n",
       "      <td>Amanda</td>\n",
       "      <td>CCUGAACCCACUAUUGAUGAG</td>\n",
       "      <td>142.2949</td>\n",
       "      <td>1.5295</td>\n",
       "    </tr>\n",
       "    <tr>\n",
       "      <th>1</th>\n",
       "      <td>1985-04-06_0123_GA_C_R2</td>\n",
       "      <td>PD</td>\n",
       "      <td>Amanda</td>\n",
       "      <td>CCUGAACCCACUAUUGAUGAG</td>\n",
       "      <td>72.7144</td>\n",
       "      <td>1.2269</td>\n",
       "    </tr>\n",
       "  </tbody>\n",
       "</table>\n",
       "</div>"
      ],
      "text/plain": [
       "                       Raw Software    Node                    RNA  Intensity  \\\n",
       "0  1985-04-06_0123_GA_C_R1       PD  Amanda  CCUGAACCCACUAUUGAUGAG   142.2949   \n",
       "1  1985-04-06_0123_GA_C_R2       PD  Amanda  CCUGAACCCACUAUUGAUGAG    72.7144   \n",
       "\n",
       "   Amplitude  \n",
       "0     1.5295  \n",
       "1     1.2269  "
      ]
     },
     "execution_count": 5,
     "metadata": {},
     "output_type": "execute_result"
    }
   ],
   "source": [
    "# Define the GitHub url towards the metadata file in csv format\n",
    "# url_excel = 'https://github.com/MMRES-PyBootcamp/MMRES-python-bootcamp2022/blob/main/datasets/'\n",
    "url_csv =     'https://raw.githubusercontent.com/MMRES-PyBootcamp/MMRES-python-bootcamp2022/main/datasets/'\n",
    "\n",
    "# Reading an csv and storing it as a DataFrame called `df`\n",
    "df = pd.read_csv(filepath_or_buffer=f'{url_csv}Spreadsheet.csv')\n",
    "\n",
    "# Return the DataFrame\n",
    "df.head(2)"
   ]
  },
  {
   "cell_type": "markdown",
   "metadata": {},
   "source": [
    "Note that in this case there is no need of `?raw=true`, but `url_csv` is a bit different from `url_excel`."
   ]
  },
  {
   "cell_type": "markdown",
   "metadata": {},
   "source": [
    "<div class=\"alert alert-block alert-success\"><b>Practice:</b>\n",
    "\n",
    "Load the Misophoinia dataset stored in our [MMRES Python boot camp GitHub repository](https://github.com/MMRES-PyBootcamp/MMRES-python-bootcamp2022) directly from the its *raw view* URL: \n",
    "    \n",
    "1) Open the [link](https://github.com/MMRES-PyBootcamp/MMRES-python-bootcamp2022) towards MMRES Python boot camp GitHub repository and navigate to the file `misophoinia_data.xlsx`. You should see in your web browser a \"View raw\" text with a hyperlink defined.\n",
    "\n",
    "2) Get the *raw view* URL to `misophoinia_data.xlsx` by copying the \"View raw\" hyperlink: *Right click*,  *Copy Link*.\n",
    "\n",
    "3) In the 1<sup>st</sup> code cell below, load `misophoinia_data.xlsx` straight from GitHub using the \"View raw\" hyperlink. Store the data as a DataFrame called `df_misophoinia`.\n",
    "    \n",
    "Un-comment and fill only those code lines with underscores `___`.\n",
    "\n",
    "</div>"
   ]
  },
  {
   "cell_type": "code",
   "execution_count": 6,
   "metadata": {
    "tags": []
   },
   "outputs": [],
   "source": [
    "# Reading the Misophoinia data set and storing it as a DataFrame called `df_misophoinia`\n",
    "# df_misophoinia = pd.read_excel(io=___)\n",
    "\n",
    "# Return the Misophoinia DataFrame\n",
    "# df_misophoinia"
   ]
  },
  {
   "cell_type": "code",
   "execution_count": 7,
   "metadata": {
    "jupyter": {
     "source_hidden": true
    },
    "tags": []
   },
   "outputs": [
    {
     "data": {
      "text/html": [
       "<div>\n",
       "<style scoped>\n",
       "    .dataframe tbody tr th:only-of-type {\n",
       "        vertical-align: middle;\n",
       "    }\n",
       "\n",
       "    .dataframe tbody tr th {\n",
       "        vertical-align: top;\n",
       "    }\n",
       "\n",
       "    .dataframe thead th {\n",
       "        text-align: right;\n",
       "    }\n",
       "</style>\n",
       "<table border=\"1\" class=\"dataframe\">\n",
       "  <thead>\n",
       "    <tr style=\"text-align: right;\">\n",
       "      <th></th>\n",
       "      <th>Misofonia</th>\n",
       "      <th>Misofonia.dic</th>\n",
       "      <th>Estado</th>\n",
       "      <th>Estado.dic</th>\n",
       "      <th>ansiedad.rasgo</th>\n",
       "      <th>ansiedad.rasgo.dic</th>\n",
       "      <th>ansiedad.estado</th>\n",
       "      <th>ansiedad.estado.dic</th>\n",
       "      <th>ansiedad.medicada</th>\n",
       "      <th>ansiedad.medicada.dic</th>\n",
       "      <th>...</th>\n",
       "      <th>Edad</th>\n",
       "      <th>CLASE</th>\n",
       "      <th>Angulo_convexidad</th>\n",
       "      <th>protusion.mandibular</th>\n",
       "      <th>Angulo_cuelloYtercio</th>\n",
       "      <th>Subnasal_H</th>\n",
       "      <th>cambio.autoconcepto</th>\n",
       "      <th>Misofonia.post</th>\n",
       "      <th>Misofonia.pre</th>\n",
       "      <th>ansiedad.dif</th>\n",
       "    </tr>\n",
       "  </thead>\n",
       "  <tbody>\n",
       "    <tr>\n",
       "      <th>0</th>\n",
       "      <td>si</td>\n",
       "      <td>4.0</td>\n",
       "      <td>divorciado</td>\n",
       "      <td>2.0</td>\n",
       "      <td>99.0</td>\n",
       "      <td>1.0</td>\n",
       "      <td>99.0</td>\n",
       "      <td>1.0</td>\n",
       "      <td>no</td>\n",
       "      <td>0.0</td>\n",
       "      <td>...</td>\n",
       "      <td>44.0</td>\n",
       "      <td>III</td>\n",
       "      <td>7.97</td>\n",
       "      <td>13.0</td>\n",
       "      <td>89.6</td>\n",
       "      <td>1.5</td>\n",
       "      <td>1.0</td>\n",
       "      <td>21.0</td>\n",
       "      <td>14.0</td>\n",
       "      <td>0.0</td>\n",
       "    </tr>\n",
       "    <tr>\n",
       "      <th>1</th>\n",
       "      <td>si</td>\n",
       "      <td>2.0</td>\n",
       "      <td>casado</td>\n",
       "      <td>1.0</td>\n",
       "      <td>75.0</td>\n",
       "      <td>1.0</td>\n",
       "      <td>75.0</td>\n",
       "      <td>1.0</td>\n",
       "      <td>no</td>\n",
       "      <td>0.0</td>\n",
       "      <td>...</td>\n",
       "      <td>43.0</td>\n",
       "      <td>II</td>\n",
       "      <td>18.23</td>\n",
       "      <td>-5.0</td>\n",
       "      <td>107.2</td>\n",
       "      <td>7.3</td>\n",
       "      <td>0.0</td>\n",
       "      <td>14.0</td>\n",
       "      <td>13.0</td>\n",
       "      <td>0.0</td>\n",
       "    </tr>\n",
       "    <tr>\n",
       "      <th>2</th>\n",
       "      <td>no</td>\n",
       "      <td>0.0</td>\n",
       "      <td>divorciado</td>\n",
       "      <td>2.0</td>\n",
       "      <td>77.0</td>\n",
       "      <td>1.0</td>\n",
       "      <td>55.0</td>\n",
       "      <td>0.0</td>\n",
       "      <td>no</td>\n",
       "      <td>0.0</td>\n",
       "      <td>...</td>\n",
       "      <td>24.0</td>\n",
       "      <td>I</td>\n",
       "      <td>12.27</td>\n",
       "      <td>11.5</td>\n",
       "      <td>101.4</td>\n",
       "      <td>5.0</td>\n",
       "      <td>NaN</td>\n",
       "      <td>NaN</td>\n",
       "      <td>NaN</td>\n",
       "      <td>-22.0</td>\n",
       "    </tr>\n",
       "    <tr>\n",
       "      <th>3</th>\n",
       "      <td>si</td>\n",
       "      <td>3.0</td>\n",
       "      <td>casado</td>\n",
       "      <td>1.0</td>\n",
       "      <td>95.0</td>\n",
       "      <td>1.0</td>\n",
       "      <td>99.0</td>\n",
       "      <td>1.0</td>\n",
       "      <td>no</td>\n",
       "      <td>0.0</td>\n",
       "      <td>...</td>\n",
       "      <td>33.0</td>\n",
       "      <td>III</td>\n",
       "      <td>7.81</td>\n",
       "      <td>16.8</td>\n",
       "      <td>75.3</td>\n",
       "      <td>2.7</td>\n",
       "      <td>1.0</td>\n",
       "      <td>NaN</td>\n",
       "      <td>NaN</td>\n",
       "      <td>4.0</td>\n",
       "    </tr>\n",
       "    <tr>\n",
       "      <th>4</th>\n",
       "      <td>no</td>\n",
       "      <td>0.0</td>\n",
       "      <td>casado</td>\n",
       "      <td>1.0</td>\n",
       "      <td>30.0</td>\n",
       "      <td>0.0</td>\n",
       "      <td>40.0</td>\n",
       "      <td>0.0</td>\n",
       "      <td>no</td>\n",
       "      <td>0.0</td>\n",
       "      <td>...</td>\n",
       "      <td>41.0</td>\n",
       "      <td>I</td>\n",
       "      <td>9.81</td>\n",
       "      <td>33.0</td>\n",
       "      <td>105.5</td>\n",
       "      <td>6.0</td>\n",
       "      <td>NaN</td>\n",
       "      <td>NaN</td>\n",
       "      <td>NaN</td>\n",
       "      <td>10.0</td>\n",
       "    </tr>\n",
       "    <tr>\n",
       "      <th>...</th>\n",
       "      <td>...</td>\n",
       "      <td>...</td>\n",
       "      <td>...</td>\n",
       "      <td>...</td>\n",
       "      <td>...</td>\n",
       "      <td>...</td>\n",
       "      <td>...</td>\n",
       "      <td>...</td>\n",
       "      <td>...</td>\n",
       "      <td>...</td>\n",
       "      <td>...</td>\n",
       "      <td>...</td>\n",
       "      <td>...</td>\n",
       "      <td>...</td>\n",
       "      <td>...</td>\n",
       "      <td>...</td>\n",
       "      <td>...</td>\n",
       "      <td>...</td>\n",
       "      <td>...</td>\n",
       "      <td>...</td>\n",
       "      <td>...</td>\n",
       "    </tr>\n",
       "    <tr>\n",
       "      <th>133</th>\n",
       "      <td>NaN</td>\n",
       "      <td>NaN</td>\n",
       "      <td>NaN</td>\n",
       "      <td>NaN</td>\n",
       "      <td>NaN</td>\n",
       "      <td>NaN</td>\n",
       "      <td>NaN</td>\n",
       "      <td>NaN</td>\n",
       "      <td>NaN</td>\n",
       "      <td>NaN</td>\n",
       "      <td>...</td>\n",
       "      <td>NaN</td>\n",
       "      <td>NaN</td>\n",
       "      <td>NaN</td>\n",
       "      <td>NaN</td>\n",
       "      <td>NaN</td>\n",
       "      <td>NaN</td>\n",
       "      <td>NaN</td>\n",
       "      <td>17.0</td>\n",
       "      <td>15.0</td>\n",
       "      <td>NaN</td>\n",
       "    </tr>\n",
       "    <tr>\n",
       "      <th>134</th>\n",
       "      <td>NaN</td>\n",
       "      <td>NaN</td>\n",
       "      <td>NaN</td>\n",
       "      <td>NaN</td>\n",
       "      <td>NaN</td>\n",
       "      <td>NaN</td>\n",
       "      <td>NaN</td>\n",
       "      <td>NaN</td>\n",
       "      <td>NaN</td>\n",
       "      <td>NaN</td>\n",
       "      <td>...</td>\n",
       "      <td>NaN</td>\n",
       "      <td>NaN</td>\n",
       "      <td>NaN</td>\n",
       "      <td>NaN</td>\n",
       "      <td>NaN</td>\n",
       "      <td>NaN</td>\n",
       "      <td>NaN</td>\n",
       "      <td>21.0</td>\n",
       "      <td>12.0</td>\n",
       "      <td>NaN</td>\n",
       "    </tr>\n",
       "    <tr>\n",
       "      <th>135</th>\n",
       "      <td>NaN</td>\n",
       "      <td>NaN</td>\n",
       "      <td>NaN</td>\n",
       "      <td>NaN</td>\n",
       "      <td>NaN</td>\n",
       "      <td>NaN</td>\n",
       "      <td>NaN</td>\n",
       "      <td>NaN</td>\n",
       "      <td>NaN</td>\n",
       "      <td>NaN</td>\n",
       "      <td>...</td>\n",
       "      <td>NaN</td>\n",
       "      <td>NaN</td>\n",
       "      <td>NaN</td>\n",
       "      <td>NaN</td>\n",
       "      <td>NaN</td>\n",
       "      <td>NaN</td>\n",
       "      <td>NaN</td>\n",
       "      <td>18.0</td>\n",
       "      <td>18.0</td>\n",
       "      <td>NaN</td>\n",
       "    </tr>\n",
       "    <tr>\n",
       "      <th>136</th>\n",
       "      <td>NaN</td>\n",
       "      <td>NaN</td>\n",
       "      <td>NaN</td>\n",
       "      <td>NaN</td>\n",
       "      <td>NaN</td>\n",
       "      <td>NaN</td>\n",
       "      <td>NaN</td>\n",
       "      <td>NaN</td>\n",
       "      <td>NaN</td>\n",
       "      <td>NaN</td>\n",
       "      <td>...</td>\n",
       "      <td>NaN</td>\n",
       "      <td>NaN</td>\n",
       "      <td>NaN</td>\n",
       "      <td>NaN</td>\n",
       "      <td>NaN</td>\n",
       "      <td>NaN</td>\n",
       "      <td>NaN</td>\n",
       "      <td>14.0</td>\n",
       "      <td>14.0</td>\n",
       "      <td>NaN</td>\n",
       "    </tr>\n",
       "    <tr>\n",
       "      <th>137</th>\n",
       "      <td>NaN</td>\n",
       "      <td>NaN</td>\n",
       "      <td>NaN</td>\n",
       "      <td>NaN</td>\n",
       "      <td>NaN</td>\n",
       "      <td>NaN</td>\n",
       "      <td>NaN</td>\n",
       "      <td>NaN</td>\n",
       "      <td>NaN</td>\n",
       "      <td>NaN</td>\n",
       "      <td>...</td>\n",
       "      <td>NaN</td>\n",
       "      <td>NaN</td>\n",
       "      <td>NaN</td>\n",
       "      <td>NaN</td>\n",
       "      <td>NaN</td>\n",
       "      <td>NaN</td>\n",
       "      <td>NaN</td>\n",
       "      <td>12.0</td>\n",
       "      <td>0.0</td>\n",
       "      <td>NaN</td>\n",
       "    </tr>\n",
       "  </tbody>\n",
       "</table>\n",
       "<p>138 rows × 23 columns</p>\n",
       "</div>"
      ],
      "text/plain": [
       "    Misofonia  Misofonia.dic      Estado  Estado.dic  ansiedad.rasgo  \\\n",
       "0          si            4.0  divorciado         2.0            99.0   \n",
       "1          si            2.0      casado         1.0            75.0   \n",
       "2          no            0.0  divorciado         2.0            77.0   \n",
       "3          si            3.0      casado         1.0            95.0   \n",
       "4          no            0.0      casado         1.0            30.0   \n",
       "..        ...            ...         ...         ...             ...   \n",
       "133       NaN            NaN         NaN         NaN             NaN   \n",
       "134       NaN            NaN         NaN         NaN             NaN   \n",
       "135       NaN            NaN         NaN         NaN             NaN   \n",
       "136       NaN            NaN         NaN         NaN             NaN   \n",
       "137       NaN            NaN         NaN         NaN             NaN   \n",
       "\n",
       "     ansiedad.rasgo.dic  ansiedad.estado  ansiedad.estado.dic  \\\n",
       "0                   1.0             99.0                  1.0   \n",
       "1                   1.0             75.0                  1.0   \n",
       "2                   1.0             55.0                  0.0   \n",
       "3                   1.0             99.0                  1.0   \n",
       "4                   0.0             40.0                  0.0   \n",
       "..                  ...              ...                  ...   \n",
       "133                 NaN              NaN                  NaN   \n",
       "134                 NaN              NaN                  NaN   \n",
       "135                 NaN              NaN                  NaN   \n",
       "136                 NaN              NaN                  NaN   \n",
       "137                 NaN              NaN                  NaN   \n",
       "\n",
       "    ansiedad.medicada  ansiedad.medicada.dic  ...  Edad  CLASE  \\\n",
       "0                  no                    0.0  ...  44.0    III   \n",
       "1                  no                    0.0  ...  43.0     II   \n",
       "2                  no                    0.0  ...  24.0      I   \n",
       "3                  no                    0.0  ...  33.0    III   \n",
       "4                  no                    0.0  ...  41.0      I   \n",
       "..                ...                    ...  ...   ...    ...   \n",
       "133               NaN                    NaN  ...   NaN    NaN   \n",
       "134               NaN                    NaN  ...   NaN    NaN   \n",
       "135               NaN                    NaN  ...   NaN    NaN   \n",
       "136               NaN                    NaN  ...   NaN    NaN   \n",
       "137               NaN                    NaN  ...   NaN    NaN   \n",
       "\n",
       "    Angulo_convexidad  protusion.mandibular Angulo_cuelloYtercio  Subnasal_H  \\\n",
       "0                7.97                  13.0                 89.6         1.5   \n",
       "1               18.23                  -5.0                107.2         7.3   \n",
       "2               12.27                  11.5                101.4         5.0   \n",
       "3                7.81                  16.8                 75.3         2.7   \n",
       "4                9.81                  33.0                105.5         6.0   \n",
       "..                ...                   ...                  ...         ...   \n",
       "133               NaN                   NaN                  NaN         NaN   \n",
       "134               NaN                   NaN                  NaN         NaN   \n",
       "135               NaN                   NaN                  NaN         NaN   \n",
       "136               NaN                   NaN                  NaN         NaN   \n",
       "137               NaN                   NaN                  NaN         NaN   \n",
       "\n",
       "     cambio.autoconcepto  Misofonia.post  Misofonia.pre  ansiedad.dif  \n",
       "0                    1.0            21.0           14.0           0.0  \n",
       "1                    0.0            14.0           13.0           0.0  \n",
       "2                    NaN             NaN            NaN         -22.0  \n",
       "3                    1.0             NaN            NaN           4.0  \n",
       "4                    NaN             NaN            NaN          10.0  \n",
       "..                   ...             ...            ...           ...  \n",
       "133                  NaN            17.0           15.0           NaN  \n",
       "134                  NaN            21.0           12.0           NaN  \n",
       "135                  NaN            18.0           18.0           NaN  \n",
       "136                  NaN            14.0           14.0           NaN  \n",
       "137                  NaN            12.0            0.0           NaN  \n",
       "\n",
       "[138 rows x 23 columns]"
      ]
     },
     "execution_count": 7,
     "metadata": {},
     "output_type": "execute_result"
    }
   ],
   "source": [
    "# Reading the Misophoinia data set and storing it as a DataFrame called `df_misophoinia`\n",
    "df_misophoinia = pd.read_excel(io='https://github.com/MMRES-PyBootcamp/MMRES-python-bootcamp2022/blob/main/datasets/misophoinia_data.xlsx?raw=true')\n",
    "\n",
    "# Return the Misophoinia DataFrame\n",
    "df_misophoinia"
   ]
  },
  {
   "cell_type": "markdown",
   "metadata": {
    "tags": []
   },
   "source": [
    "## DataFrame basic inspection\n",
    "\n",
    "Usually, the first thing one should do with a new DataFrame is getting familiar with its *Series* data. Pandas DataFrame objects have many *methods* to this aim, like [`.head()`](https://pandas.pydata.org/pandas-docs/stable/reference/api/pandas.DataFrame.head.html), [`.tail()`](https://pandas.pydata.org/pandas-docs/stable/reference/api/pandas.DataFrame.tail.html), [`.describe()`](https://pandas.pydata.org/pandas-docs/stable/reference/api/pandas.DataFrame.describe.html)...\n"
   ]
  },
  {
   "cell_type": "code",
   "execution_count": 8,
   "metadata": {},
   "outputs": [
    {
     "data": {
      "text/html": [
       "<div>\n",
       "<style scoped>\n",
       "    .dataframe tbody tr th:only-of-type {\n",
       "        vertical-align: middle;\n",
       "    }\n",
       "\n",
       "    .dataframe tbody tr th {\n",
       "        vertical-align: top;\n",
       "    }\n",
       "\n",
       "    .dataframe thead th {\n",
       "        text-align: right;\n",
       "    }\n",
       "</style>\n",
       "<table border=\"1\" class=\"dataframe\">\n",
       "  <thead>\n",
       "    <tr style=\"text-align: right;\">\n",
       "      <th></th>\n",
       "      <th>Raw</th>\n",
       "      <th>Software</th>\n",
       "      <th>Node</th>\n",
       "      <th>RNA</th>\n",
       "      <th>Intensity</th>\n",
       "      <th>Amplitude</th>\n",
       "    </tr>\n",
       "  </thead>\n",
       "  <tbody>\n",
       "    <tr>\n",
       "      <th>0</th>\n",
       "      <td>1985-04-06_0123_GA_C_R1</td>\n",
       "      <td>PD</td>\n",
       "      <td>Amanda</td>\n",
       "      <td>CCUGAACCCACUAUUGAUGAG</td>\n",
       "      <td>142.2949</td>\n",
       "      <td>1.5295</td>\n",
       "    </tr>\n",
       "    <tr>\n",
       "      <th>1</th>\n",
       "      <td>1985-04-06_0123_GA_C_R2</td>\n",
       "      <td>PD</td>\n",
       "      <td>Amanda</td>\n",
       "      <td>CCUGAACCCACUAUUGAUGAG</td>\n",
       "      <td>72.7144</td>\n",
       "      <td>1.2269</td>\n",
       "    </tr>\n",
       "    <tr>\n",
       "      <th>2</th>\n",
       "      <td>1985-04-06_0123_GA_T_R3</td>\n",
       "      <td>PD</td>\n",
       "      <td>Amanda</td>\n",
       "      <td>CCUGAACCCACUAUUGAUGAG</td>\n",
       "      <td>133.4933</td>\n",
       "      <td>1.7687</td>\n",
       "    </tr>\n",
       "    <tr>\n",
       "      <th>3</th>\n",
       "      <td>1985-04-06_0123_GA_T_R4</td>\n",
       "      <td>PD</td>\n",
       "      <td>Amanda</td>\n",
       "      <td>CCUGAACCCACUAUUGAUGAG</td>\n",
       "      <td>62.0079</td>\n",
       "      <td>1.3316</td>\n",
       "    </tr>\n",
       "    <tr>\n",
       "      <th>4</th>\n",
       "      <td>1985-04-06_0123_GA_C_R1</td>\n",
       "      <td>PD</td>\n",
       "      <td>Sequest</td>\n",
       "      <td>CCUGAACCCACUAUUGAUGAG</td>\n",
       "      <td>112.6438</td>\n",
       "      <td>1.8535</td>\n",
       "    </tr>\n",
       "  </tbody>\n",
       "</table>\n",
       "</div>"
      ],
      "text/plain": [
       "                       Raw Software     Node                    RNA  \\\n",
       "0  1985-04-06_0123_GA_C_R1       PD   Amanda  CCUGAACCCACUAUUGAUGAG   \n",
       "1  1985-04-06_0123_GA_C_R2       PD   Amanda  CCUGAACCCACUAUUGAUGAG   \n",
       "2  1985-04-06_0123_GA_T_R3       PD   Amanda  CCUGAACCCACUAUUGAUGAG   \n",
       "3  1985-04-06_0123_GA_T_R4       PD   Amanda  CCUGAACCCACUAUUGAUGAG   \n",
       "4  1985-04-06_0123_GA_C_R1       PD  Sequest  CCUGAACCCACUAUUGAUGAG   \n",
       "\n",
       "   Intensity  Amplitude  \n",
       "0   142.2949     1.5295  \n",
       "1    72.7144     1.2269  \n",
       "2   133.4933     1.7687  \n",
       "3    62.0079     1.3316  \n",
       "4   112.6438     1.8535  "
      ]
     },
     "execution_count": 8,
     "metadata": {},
     "output_type": "execute_result"
    }
   ],
   "source": [
    "# DataFrame head (five first rows)\n",
    "df.head()"
   ]
  },
  {
   "cell_type": "code",
   "execution_count": 9,
   "metadata": {},
   "outputs": [
    {
     "data": {
      "text/html": [
       "<div>\n",
       "<style scoped>\n",
       "    .dataframe tbody tr th:only-of-type {\n",
       "        vertical-align: middle;\n",
       "    }\n",
       "\n",
       "    .dataframe tbody tr th {\n",
       "        vertical-align: top;\n",
       "    }\n",
       "\n",
       "    .dataframe thead th {\n",
       "        text-align: right;\n",
       "    }\n",
       "</style>\n",
       "<table border=\"1\" class=\"dataframe\">\n",
       "  <thead>\n",
       "    <tr style=\"text-align: right;\">\n",
       "      <th></th>\n",
       "      <th>Raw</th>\n",
       "      <th>Software</th>\n",
       "      <th>Node</th>\n",
       "      <th>RNA</th>\n",
       "      <th>Intensity</th>\n",
       "      <th>Amplitude</th>\n",
       "    </tr>\n",
       "  </thead>\n",
       "  <tbody>\n",
       "    <tr>\n",
       "      <th>7</th>\n",
       "      <td>1985-04-06_0123_GA_T_R4</td>\n",
       "      <td>PD</td>\n",
       "      <td>Sequest</td>\n",
       "      <td>CCUGAACCCACUAUUGAUGAG</td>\n",
       "      <td>64.9835</td>\n",
       "      <td>1.9036</td>\n",
       "    </tr>\n",
       "    <tr>\n",
       "      <th>8</th>\n",
       "      <td>1985-04-06_0123_GA_C_R1</td>\n",
       "      <td>MQ</td>\n",
       "      <td>Andromeda</td>\n",
       "      <td>CCUGAACCCACUAUUGAUGAG</td>\n",
       "      <td>97.9349</td>\n",
       "      <td>1.4373</td>\n",
       "    </tr>\n",
       "    <tr>\n",
       "      <th>9</th>\n",
       "      <td>1985-04-06_0123_GA_C_R2</td>\n",
       "      <td>MQ</td>\n",
       "      <td>Andromeda</td>\n",
       "      <td>CCUGAACCCACUAUUGAUGAG</td>\n",
       "      <td>93.6013</td>\n",
       "      <td>1.6476</td>\n",
       "    </tr>\n",
       "    <tr>\n",
       "      <th>10</th>\n",
       "      <td>1985-04-06_0123_GA_T_R3</td>\n",
       "      <td>MQ</td>\n",
       "      <td>Andromeda</td>\n",
       "      <td>CCUGAACCCACUAUUGAUGAG</td>\n",
       "      <td>84.1693</td>\n",
       "      <td>1.9817</td>\n",
       "    </tr>\n",
       "    <tr>\n",
       "      <th>11</th>\n",
       "      <td>1985-04-06_0123_GA_T_R4</td>\n",
       "      <td>MQ</td>\n",
       "      <td>Andromeda</td>\n",
       "      <td>CCUGAACCCACUAUUGAUGAG</td>\n",
       "      <td>144.0198</td>\n",
       "      <td>1.6713</td>\n",
       "    </tr>\n",
       "  </tbody>\n",
       "</table>\n",
       "</div>"
      ],
      "text/plain": [
       "                        Raw Software       Node                    RNA  \\\n",
       "7   1985-04-06_0123_GA_T_R4       PD    Sequest  CCUGAACCCACUAUUGAUGAG   \n",
       "8   1985-04-06_0123_GA_C_R1       MQ  Andromeda  CCUGAACCCACUAUUGAUGAG   \n",
       "9   1985-04-06_0123_GA_C_R2       MQ  Andromeda  CCUGAACCCACUAUUGAUGAG   \n",
       "10  1985-04-06_0123_GA_T_R3       MQ  Andromeda  CCUGAACCCACUAUUGAUGAG   \n",
       "11  1985-04-06_0123_GA_T_R4       MQ  Andromeda  CCUGAACCCACUAUUGAUGAG   \n",
       "\n",
       "    Intensity  Amplitude  \n",
       "7     64.9835     1.9036  \n",
       "8     97.9349     1.4373  \n",
       "9     93.6013     1.6476  \n",
       "10    84.1693     1.9817  \n",
       "11   144.0198     1.6713  "
      ]
     },
     "execution_count": 9,
     "metadata": {},
     "output_type": "execute_result"
    }
   ],
   "source": [
    "# DataFrame tail (last first rows)\n",
    "df.tail()"
   ]
  },
  {
   "cell_type": "code",
   "execution_count": 10,
   "metadata": {},
   "outputs": [
    {
     "data": {
      "text/html": [
       "<div>\n",
       "<style scoped>\n",
       "    .dataframe tbody tr th:only-of-type {\n",
       "        vertical-align: middle;\n",
       "    }\n",
       "\n",
       "    .dataframe tbody tr th {\n",
       "        vertical-align: top;\n",
       "    }\n",
       "\n",
       "    .dataframe thead th {\n",
       "        text-align: right;\n",
       "    }\n",
       "</style>\n",
       "<table border=\"1\" class=\"dataframe\">\n",
       "  <thead>\n",
       "    <tr style=\"text-align: right;\">\n",
       "      <th></th>\n",
       "      <th>Intensity</th>\n",
       "      <th>Amplitude</th>\n",
       "    </tr>\n",
       "  </thead>\n",
       "  <tbody>\n",
       "    <tr>\n",
       "      <th>count</th>\n",
       "      <td>11.000000</td>\n",
       "      <td>12.000000</td>\n",
       "    </tr>\n",
       "    <tr>\n",
       "      <th>mean</th>\n",
       "      <td>102.221209</td>\n",
       "      <td>1.631592</td>\n",
       "    </tr>\n",
       "    <tr>\n",
       "      <th>std</th>\n",
       "      <td>29.897234</td>\n",
       "      <td>0.244060</td>\n",
       "    </tr>\n",
       "    <tr>\n",
       "      <th>min</th>\n",
       "      <td>62.007900</td>\n",
       "      <td>1.226900</td>\n",
       "    </tr>\n",
       "    <tr>\n",
       "      <th>25%</th>\n",
       "      <td>78.441850</td>\n",
       "      <td>1.429500</td>\n",
       "    </tr>\n",
       "    <tr>\n",
       "      <th>50%</th>\n",
       "      <td>97.934900</td>\n",
       "      <td>1.659450</td>\n",
       "    </tr>\n",
       "    <tr>\n",
       "      <th>75%</th>\n",
       "      <td>125.031750</td>\n",
       "      <td>1.829350</td>\n",
       "    </tr>\n",
       "    <tr>\n",
       "      <th>max</th>\n",
       "      <td>144.019800</td>\n",
       "      <td>1.981700</td>\n",
       "    </tr>\n",
       "  </tbody>\n",
       "</table>\n",
       "</div>"
      ],
      "text/plain": [
       "        Intensity  Amplitude\n",
       "count   11.000000  12.000000\n",
       "mean   102.221209   1.631592\n",
       "std     29.897234   0.244060\n",
       "min     62.007900   1.226900\n",
       "25%     78.441850   1.429500\n",
       "50%     97.934900   1.659450\n",
       "75%    125.031750   1.829350\n",
       "max    144.019800   1.981700"
      ]
     },
     "execution_count": 10,
     "metadata": {},
     "output_type": "execute_result"
    }
   ],
   "source": [
    "# DataFrame (basic) statistical description (only for numeric columns!)\n",
    "df.describe()"
   ]
  },
  {
   "cell_type": "markdown",
   "metadata": {},
   "source": [
    "The [`.info()`](https://pandas.pydata.org/pandas-docs/stable/reference/api/pandas.DataFrame.info.html) method is particularly useful. It gives the name of each *DataFrame column* with their corresponding data. This method also shows the number of non-null values by *column*, from which we can easily estimate the number of *missing values* (`NaN`) by *column*, and the memory devoted to store the DataFrame."
   ]
  },
  {
   "cell_type": "code",
   "execution_count": 11,
   "metadata": {},
   "outputs": [
    {
     "name": "stdout",
     "output_type": "stream",
     "text": [
      "<class 'pandas.core.frame.DataFrame'>\n",
      "RangeIndex: 12 entries, 0 to 11\n",
      "Data columns (total 6 columns):\n",
      " #   Column     Non-Null Count  Dtype  \n",
      "---  ------     --------------  -----  \n",
      " 0   Raw        12 non-null     object \n",
      " 1   Software   12 non-null     object \n",
      " 2   Node       12 non-null     object \n",
      " 3   RNA        12 non-null     object \n",
      " 4   Intensity  11 non-null     float64\n",
      " 5   Amplitude  12 non-null     float64\n",
      "dtypes: float64(2), object(4)\n",
      "memory usage: 704.0+ bytes\n"
     ]
    }
   ],
   "source": [
    "# DataFrame general information\n",
    "df.info()"
   ]
  },
  {
   "cell_type": "markdown",
   "metadata": {},
   "source": [
    "In addition to these methods, Pandas DataFrame objects very useful have *attributes* like [`.shape`](https://pandas.pydata.org/pandas-docs/stable/reference/api/pandas.DataFrame.shape.html), [`.index`](https://pandas.pydata.org/pandas-docs/stable/reference/api/pandas.DataFrame.index.html) and \n",
    "[`.columns`](https://pandas.pydata.org/pandas-docs/stable/reference/api/pandas.DataFrame.columns.html):"
   ]
  },
  {
   "cell_type": "code",
   "execution_count": 12,
   "metadata": {},
   "outputs": [
    {
     "data": {
      "text/plain": [
       "(12, 6)"
      ]
     },
     "execution_count": 12,
     "metadata": {},
     "output_type": "execute_result"
    }
   ],
   "source": [
    "# DataFrame shape. Remember: (Rows first, Columns second)\n",
    "df.shape"
   ]
  },
  {
   "cell_type": "code",
   "execution_count": 13,
   "metadata": {},
   "outputs": [
    {
     "data": {
      "text/plain": [
       "RangeIndex(start=0, stop=12, step=1)"
      ]
     },
     "execution_count": 13,
     "metadata": {},
     "output_type": "execute_result"
    }
   ],
   "source": [
    "# DataFrame rows\n",
    "df.index"
   ]
  },
  {
   "cell_type": "code",
   "execution_count": 14,
   "metadata": {},
   "outputs": [
    {
     "data": {
      "text/plain": [
       "Index(['Raw', 'Software', 'Node', 'RNA', 'Intensity', 'Amplitude'], dtype='object')"
      ]
     },
     "execution_count": 14,
     "metadata": {},
     "output_type": "execute_result"
    }
   ],
   "source": [
    "# DataFrame columns\n",
    "df.columns"
   ]
  },
  {
   "cell_type": "markdown",
   "metadata": {},
   "source": [
    "<div class=\"alert alert-block alert-info\"><b>Tip:</b>\n",
    "\n",
    "Like *methods*, *attributes* are invoked with the dot `.` symbol. In general, *methods* include a parenthesis (like `.info()`) and *attributes* don't (like `.shape`). Intuitively, you can consider the *attributes* of a Python object as <ins>things it has</ins>, and *methods* as <ins>things it does</ins>. For example, we could imagine a Python object called `cat` with some of the following *attributes* and *methods*:\n",
    "+ Attributes: `cat.age`, `cat.weight`, `cat.gender`, `cat.personality`, `cat.eye_color`, `cat.coat_pattern`, ...\n",
    "+ Methods: `cat.purr()`, `cat.meow()`, `cat.chirp()`, `cat.eat()`, `cat.sleep()`, `cat.scratch()`, `cat.pee()`, `cat.poop()`...\n",
    "</div>"
   ]
  },
  {
   "cell_type": "markdown",
   "metadata": {},
   "source": [
    "## DataFrame visual inspection\n",
    "\n",
    "After a basic DataFrame inspection, we can start with a visual exploration. To this aim we can leverage the Pandas DataFrame method [`.plot`](https://pandas.pydata.org/pandas-docs/stable/reference/api/pandas.DataFrame.plot.html) and its related \"sub-methods\" [`.line()`](https://pandas.pydata.org/pandas-docs/stable/reference/api/pandas.DataFrame.plot.line.html), [`.bar()`](https://pandas.pydata.org/pandas-docs/stable/reference/api/pandas.DataFrame.plot.bar.html), [`.barh()`](https://pandas.pydata.org/pandas-docs/stable/reference/api/pandas.DataFrame.plot.barh.html), [`.hist()`](https://pandas.pydata.org/pandas-docs/stable/reference/api/pandas.DataFrame.plot.hist.html), [`.box()`](https://pandas.pydata.org/pandas-docs/stable/reference/api/pandas.DataFrame.plot.box.html), [`.density()`](https://pandas.pydata.org/pandas-docs/stable/reference/api/pandas.DataFrame.plot.density.html), [`.area()`](https://pandas.pydata.org/pandas-docs/stable/reference/api/pandas.DataFrame.plot.area.html), [`.pie()`](https://pandas.pydata.org/pandas-docs/stable/reference/api/pandas.DataFrame.plot.pie.html), [`.scatter()`](https://pandas.pydata.org/pandas-docs/stable/reference/api/pandas.DataFrame.plot.scatter.html), [`.hexbin()`](https://pandas.pydata.org/pandas-docs/stable/reference/api/pandas.DataFrame.plot.hexbin.html), ..."
   ]
  },
  {
   "cell_type": "code",
   "execution_count": 15,
   "metadata": {},
   "outputs": [
    {
     "data": {
      "text/plain": [
       "<AxesSubplot:>"
      ]
     },
     "execution_count": 15,
     "metadata": {},
     "output_type": "execute_result"
    },
    {
     "data": {
      "image/png": "[encoded data removed]",
      "text/plain": [
       "<Figure size 432x288 with 1 Axes>"
      ]
     },
     "metadata": {
      "needs_background": "light"
     },
     "output_type": "display_data"
    }
   ],
   "source": [
    "# DataFrame line plot\n",
    "df.plot.line()"
   ]
  },
  {
   "cell_type": "markdown",
   "metadata": {
    "tags": [
     "ejercicio"
    ]
   },
   "source": [
    "<div class=\"alert alert-block alert-success\"><b>Practice:</b>\n",
    "\n",
    "1) In the 1<sup>st</sup> code cell below, get a box plot for the DataFrame `df`.\n",
    "\n",
    "</div>"
   ]
  },
  {
   "cell_type": "code",
   "execution_count": 16,
   "metadata": {
    "tags": [
     "ejercicio"
    ]
   },
   "outputs": [],
   "source": [
    "# Generate a box plot for `df`\n"
   ]
  },
  {
   "cell_type": "code",
   "execution_count": 17,
   "metadata": {
    "jupyter": {
     "source_hidden": true
    },
    "tags": [
     "ejercicio",
     "solucion"
    ]
   },
   "outputs": [
    {
     "data": {
      "text/plain": [
       "<AxesSubplot:>"
      ]
     },
     "execution_count": 17,
     "metadata": {},
     "output_type": "execute_result"
    },
    {
     "data": {
      "image/png": "[encoded data removed]",
      "text/plain": [
       "<Figure size 432x288 with 1 Axes>"
      ]
     },
     "metadata": {
      "needs_background": "light"
     },
     "output_type": "display_data"
    }
   ],
   "source": [
    "# Generate a box plot for `df`\n",
    "df.plot.box()"
   ]
  },
  {
   "cell_type": "markdown",
   "metadata": {
    "tags": [
     "ejercicio"
    ]
   },
   "source": [
    "<div class=\"alert alert-block alert-success\"><b>Practice:</b>\n",
    "\n",
    "1) In the 1<sup>st</sup> code cell below, get a scatter plot for the DataFrame `df`. What happened?\n",
    "2) Try again buy this time declaring `x=` and `y=` parameters for the `.scatter()` method.\n",
    "\n",
    "</div>"
   ]
  },
  {
   "cell_type": "code",
   "execution_count": 18,
   "metadata": {
    "tags": [
     "ejercicio"
    ]
   },
   "outputs": [],
   "source": [
    "# Generate a scatter plot for `df`\n"
   ]
  },
  {
   "cell_type": "code",
   "execution_count": 19,
   "metadata": {
    "jupyter": {
     "source_hidden": true
    },
    "tags": [
     "ejercicio",
     "solucion"
    ]
   },
   "outputs": [
    {
     "data": {
      "text/plain": [
       "<AxesSubplot:xlabel='Intensity', ylabel='Amplitude'>"
      ]
     },
     "execution_count": 19,
     "metadata": {},
     "output_type": "execute_result"
    },
    {
     "data": {
      "image/png": "[encoded data removed]",
      "text/plain": [
       "<Figure size 432x288 with 1 Axes>"
      ]
     },
     "metadata": {
      "needs_background": "light"
     },
     "output_type": "display_data"
    }
   ],
   "source": [
    "# Generate a scatter plot for `df`\n",
    "df.plot.scatter(x='Intensity', y='Amplitude')"
   ]
  },
  {
   "cell_type": "markdown",
   "metadata": {},
   "source": [
    "## DataFrame access\n",
    "\n",
    "We can get the information stored in a DataFrame by multiple ways, here we will present the accession by brackets `[]` syntax."
   ]
  },
  {
   "cell_type": "markdown",
   "metadata": {},
   "source": [
    "### Accessing whole columns\n",
    "\n",
    "In order to access columns we use the brackets syntax: `df[]`. Passing a list of column names inside the brackets grants you access to such columns. Note that there are two pairs of brackets, one enclosing the list of column names (innermost) and one given access to DataFrame columns (outermost):"
   ]
  },
  {
   "cell_type": "code",
   "execution_count": 20,
   "metadata": {},
   "outputs": [
    {
     "data": {
      "text/html": [
       "<div>\n",
       "<style scoped>\n",
       "    .dataframe tbody tr th:only-of-type {\n",
       "        vertical-align: middle;\n",
       "    }\n",
       "\n",
       "    .dataframe tbody tr th {\n",
       "        vertical-align: top;\n",
       "    }\n",
       "\n",
       "    .dataframe thead th {\n",
       "        text-align: right;\n",
       "    }\n",
       "</style>\n",
       "<table border=\"1\" class=\"dataframe\">\n",
       "  <thead>\n",
       "    <tr style=\"text-align: right;\">\n",
       "      <th></th>\n",
       "      <th>Raw</th>\n",
       "      <th>Intensity</th>\n",
       "    </tr>\n",
       "  </thead>\n",
       "  <tbody>\n",
       "    <tr>\n",
       "      <th>0</th>\n",
       "      <td>1985-04-06_0123_GA_C_R1</td>\n",
       "      <td>142.2949</td>\n",
       "    </tr>\n",
       "    <tr>\n",
       "      <th>1</th>\n",
       "      <td>1985-04-06_0123_GA_C_R2</td>\n",
       "      <td>72.7144</td>\n",
       "    </tr>\n",
       "    <tr>\n",
       "      <th>2</th>\n",
       "      <td>1985-04-06_0123_GA_T_R3</td>\n",
       "      <td>133.4933</td>\n",
       "    </tr>\n",
       "    <tr>\n",
       "      <th>3</th>\n",
       "      <td>1985-04-06_0123_GA_T_R4</td>\n",
       "      <td>62.0079</td>\n",
       "    </tr>\n",
       "    <tr>\n",
       "      <th>4</th>\n",
       "      <td>1985-04-06_0123_GA_C_R1</td>\n",
       "      <td>112.6438</td>\n",
       "    </tr>\n",
       "    <tr>\n",
       "      <th>5</th>\n",
       "      <td>1985-04-06_0123_GA_C_R2</td>\n",
       "      <td>116.5702</td>\n",
       "    </tr>\n",
       "    <tr>\n",
       "      <th>6</th>\n",
       "      <td>1985-04-06_0123_GA_T_R3</td>\n",
       "      <td>NaN</td>\n",
       "    </tr>\n",
       "    <tr>\n",
       "      <th>7</th>\n",
       "      <td>1985-04-06_0123_GA_T_R4</td>\n",
       "      <td>64.9835</td>\n",
       "    </tr>\n",
       "    <tr>\n",
       "      <th>8</th>\n",
       "      <td>1985-04-06_0123_GA_C_R1</td>\n",
       "      <td>97.9349</td>\n",
       "    </tr>\n",
       "    <tr>\n",
       "      <th>9</th>\n",
       "      <td>1985-04-06_0123_GA_C_R2</td>\n",
       "      <td>93.6013</td>\n",
       "    </tr>\n",
       "    <tr>\n",
       "      <th>10</th>\n",
       "      <td>1985-04-06_0123_GA_T_R3</td>\n",
       "      <td>84.1693</td>\n",
       "    </tr>\n",
       "    <tr>\n",
       "      <th>11</th>\n",
       "      <td>1985-04-06_0123_GA_T_R4</td>\n",
       "      <td>144.0198</td>\n",
       "    </tr>\n",
       "  </tbody>\n",
       "</table>\n",
       "</div>"
      ],
      "text/plain": [
       "                        Raw  Intensity\n",
       "0   1985-04-06_0123_GA_C_R1   142.2949\n",
       "1   1985-04-06_0123_GA_C_R2    72.7144\n",
       "2   1985-04-06_0123_GA_T_R3   133.4933\n",
       "3   1985-04-06_0123_GA_T_R4    62.0079\n",
       "4   1985-04-06_0123_GA_C_R1   112.6438\n",
       "5   1985-04-06_0123_GA_C_R2   116.5702\n",
       "6   1985-04-06_0123_GA_T_R3        NaN\n",
       "7   1985-04-06_0123_GA_T_R4    64.9835\n",
       "8   1985-04-06_0123_GA_C_R1    97.9349\n",
       "9   1985-04-06_0123_GA_C_R2    93.6013\n",
       "10  1985-04-06_0123_GA_T_R3    84.1693\n",
       "11  1985-04-06_0123_GA_T_R4   144.0198"
      ]
     },
     "execution_count": 20,
     "metadata": {},
     "output_type": "execute_result"
    }
   ],
   "source": [
    "# Accessing DataFrame columns\n",
    "df[['Raw', 'Intensity']]"
   ]
  },
  {
   "cell_type": "markdown",
   "metadata": {},
   "source": [
    "When accessing a single column, we found some subtleties. Doing `df[['RNA']]` returns a single-column DataFrame..."
   ]
  },
  {
   "cell_type": "code",
   "execution_count": 21,
   "metadata": {},
   "outputs": [
    {
     "data": {
      "text/plain": [
       "pandas.core.frame.DataFrame"
      ]
     },
     "execution_count": 21,
     "metadata": {},
     "output_type": "execute_result"
    }
   ],
   "source": [
    "# Get the data type of `df[['RNA']]`\n",
    "type(df[['RNA']])"
   ]
  },
  {
   "cell_type": "markdown",
   "metadata": {},
   "source": [
    "... but sometimes it is better to get a Series instead of single-column DataFrame. That's because Series have specific methods that we might need. In order to access a DataFrame a get a Series we directly pass the label of the column we want to the outermost brackets:"
   ]
  },
  {
   "cell_type": "code",
   "execution_count": 22,
   "metadata": {},
   "outputs": [
    {
     "data": {
      "text/plain": [
       "pandas.core.series.Series"
      ]
     },
     "execution_count": 22,
     "metadata": {},
     "output_type": "execute_result"
    }
   ],
   "source": [
    "# Get the data type of `df['RNA']`\n",
    "type(df['RNA'])"
   ]
  },
  {
   "cell_type": "markdown",
   "metadata": {},
   "source": [
    "<div class=\"alert alert-block alert-danger\"><b>Caveat:</b>\n",
    "\n",
    "* Accessing a DataFrame by passing a *single-label list* to the `df[]` brackets returns a *single-column DataFrame*.\n",
    "* Accessing a DataFrame by passing a *single label* to the `df[]` brackets returns a *Series*.    \n",
    "\n",
    "</div>"
   ]
  },
  {
   "cell_type": "markdown",
   "metadata": {},
   "source": [
    "### Accessing whole rows\n",
    "\n",
    "In order to access rows we need to use [`.loc`](https://pandas.pydata.org/pandas-docs/stable/reference/api/pandas.DataFrame.loc.html) followed by the brackets syntax: `df.loc[]`. Passing a list of row indexes inside the brackets grants you access to such rows. Again, note that there are two pairs of brackets, one enclosing the list of row indexes (innermost) and one given access to DataFrame rows (outermost):"
   ]
  },
  {
   "cell_type": "code",
   "execution_count": 23,
   "metadata": {},
   "outputs": [
    {
     "data": {
      "text/html": [
       "<div>\n",
       "<style scoped>\n",
       "    .dataframe tbody tr th:only-of-type {\n",
       "        vertical-align: middle;\n",
       "    }\n",
       "\n",
       "    .dataframe tbody tr th {\n",
       "        vertical-align: top;\n",
       "    }\n",
       "\n",
       "    .dataframe thead th {\n",
       "        text-align: right;\n",
       "    }\n",
       "</style>\n",
       "<table border=\"1\" class=\"dataframe\">\n",
       "  <thead>\n",
       "    <tr style=\"text-align: right;\">\n",
       "      <th></th>\n",
       "      <th>Raw</th>\n",
       "      <th>Software</th>\n",
       "      <th>Node</th>\n",
       "      <th>RNA</th>\n",
       "      <th>Intensity</th>\n",
       "      <th>Amplitude</th>\n",
       "    </tr>\n",
       "  </thead>\n",
       "  <tbody>\n",
       "    <tr>\n",
       "      <th>4</th>\n",
       "      <td>1985-04-06_0123_GA_C_R1</td>\n",
       "      <td>PD</td>\n",
       "      <td>Sequest</td>\n",
       "      <td>CCUGAACCCACUAUUGAUGAG</td>\n",
       "      <td>112.6438</td>\n",
       "      <td>1.8535</td>\n",
       "    </tr>\n",
       "    <tr>\n",
       "      <th>1</th>\n",
       "      <td>1985-04-06_0123_GA_C_R2</td>\n",
       "      <td>PD</td>\n",
       "      <td>Amanda</td>\n",
       "      <td>CCUGAACCCACUAUUGAUGAG</td>\n",
       "      <td>72.7144</td>\n",
       "      <td>1.2269</td>\n",
       "    </tr>\n",
       "  </tbody>\n",
       "</table>\n",
       "</div>"
      ],
      "text/plain": [
       "                       Raw Software     Node                    RNA  \\\n",
       "4  1985-04-06_0123_GA_C_R1       PD  Sequest  CCUGAACCCACUAUUGAUGAG   \n",
       "1  1985-04-06_0123_GA_C_R2       PD   Amanda  CCUGAACCCACUAUUGAUGAG   \n",
       "\n",
       "   Intensity  Amplitude  \n",
       "4   112.6438     1.8535  \n",
       "1    72.7144     1.2269  "
      ]
     },
     "execution_count": 23,
     "metadata": {},
     "output_type": "execute_result"
    }
   ],
   "source": [
    "# Accessing DataFrame rows\n",
    "df.loc[[4, 1]]"
   ]
  },
  {
   "cell_type": "markdown",
   "metadata": {},
   "source": [
    "### Accessing columns and rows simultaneously\n",
    "\n",
    "If we want to access the intersection of some columns and rows, we use [`.loc`](https://pandas.pydata.org/pandas-docs/stable/reference/api/pandas.DataFrame.loc.html) followed by the brackets syntax with a comma inside: `df.loc[ , ]`. The list with the rows we want goes to the left of the comma and the list with the columns to the right:"
   ]
  },
  {
   "cell_type": "code",
   "execution_count": 24,
   "metadata": {},
   "outputs": [
    {
     "data": {
      "text/html": [
       "<div>\n",
       "<style scoped>\n",
       "    .dataframe tbody tr th:only-of-type {\n",
       "        vertical-align: middle;\n",
       "    }\n",
       "\n",
       "    .dataframe tbody tr th {\n",
       "        vertical-align: top;\n",
       "    }\n",
       "\n",
       "    .dataframe thead th {\n",
       "        text-align: right;\n",
       "    }\n",
       "</style>\n",
       "<table border=\"1\" class=\"dataframe\">\n",
       "  <thead>\n",
       "    <tr style=\"text-align: right;\">\n",
       "      <th></th>\n",
       "      <th>Raw</th>\n",
       "      <th>Intensity</th>\n",
       "    </tr>\n",
       "  </thead>\n",
       "  <tbody>\n",
       "    <tr>\n",
       "      <th>4</th>\n",
       "      <td>1985-04-06_0123_GA_C_R1</td>\n",
       "      <td>112.6438</td>\n",
       "    </tr>\n",
       "    <tr>\n",
       "      <th>1</th>\n",
       "      <td>1985-04-06_0123_GA_C_R2</td>\n",
       "      <td>72.7144</td>\n",
       "    </tr>\n",
       "  </tbody>\n",
       "</table>\n",
       "</div>"
      ],
      "text/plain": [
       "                       Raw  Intensity\n",
       "4  1985-04-06_0123_GA_C_R1   112.6438\n",
       "1  1985-04-06_0123_GA_C_R2    72.7144"
      ]
     },
     "execution_count": 24,
     "metadata": {},
     "output_type": "execute_result"
    }
   ],
   "source": [
    "# Accessing multiple DataFrame rows and columns simultaneously\n",
    "df.loc[[4, 1],  ['Raw', 'Intensity']]"
   ]
  },
  {
   "cell_type": "markdown",
   "metadata": {},
   "source": [
    "As usual, you can first put your lists into a variables before accessing:"
   ]
  },
  {
   "cell_type": "code",
   "execution_count": 25,
   "metadata": {},
   "outputs": [
    {
     "data": {
      "text/html": [
       "<div>\n",
       "<style scoped>\n",
       "    .dataframe tbody tr th:only-of-type {\n",
       "        vertical-align: middle;\n",
       "    }\n",
       "\n",
       "    .dataframe tbody tr th {\n",
       "        vertical-align: top;\n",
       "    }\n",
       "\n",
       "    .dataframe thead th {\n",
       "        text-align: right;\n",
       "    }\n",
       "</style>\n",
       "<table border=\"1\" class=\"dataframe\">\n",
       "  <thead>\n",
       "    <tr style=\"text-align: right;\">\n",
       "      <th></th>\n",
       "      <th>Raw</th>\n",
       "      <th>Intensity</th>\n",
       "    </tr>\n",
       "  </thead>\n",
       "  <tbody>\n",
       "    <tr>\n",
       "      <th>4</th>\n",
       "      <td>1985-04-06_0123_GA_C_R1</td>\n",
       "      <td>112.6438</td>\n",
       "    </tr>\n",
       "    <tr>\n",
       "      <th>1</th>\n",
       "      <td>1985-04-06_0123_GA_C_R2</td>\n",
       "      <td>72.7144</td>\n",
       "    </tr>\n",
       "  </tbody>\n",
       "</table>\n",
       "</div>"
      ],
      "text/plain": [
       "                       Raw  Intensity\n",
       "4  1985-04-06_0123_GA_C_R1   112.6438\n",
       "1  1985-04-06_0123_GA_C_R2    72.7144"
      ]
     },
     "execution_count": 25,
     "metadata": {},
     "output_type": "execute_result"
    }
   ],
   "source": [
    "# Accessing DataFrame columns specifying first the list of indices and columns we want\n",
    "list_rows = [4, 1]\n",
    "list_cols = ['Raw', 'Intensity']\n",
    "df.loc[list_rows, list_cols]"
   ]
  },
  {
   "cell_type": "markdown",
   "metadata": {},
   "source": [
    "## Series methods"
   ]
  },
  {
   "cell_type": "markdown",
   "metadata": {},
   "source": [
    "Like other Python objects, Pandas Series have very useful methods, for example [`.count()`](https://pandas.pydata.org/pandas-docs/stable/reference/api/pandas.Series.count.html), [`.sum()`](https://pandas.pydata.org/pandas-docs/stable/reference/api/pandas.Series.sum.html), [`.mean()`](https://pandas.pydata.org/pandas-docs/stable/reference/api/pandas.Series.mean.html), [`.median()`](https://pandas.pydata.org/pandas-docs/stable/reference/api/pandas.Series.median.html), [`.std()`](https://pandas.pydata.org/pandas-docs/stable/reference/api/pandas.Series.std.html), [`.min()`](https://pandas.pydata.org/pandas-docs/stable/reference/api/pandas.Series.min.html), [`.max()`](https://pandas.pydata.org/pandas-docs/stable/reference/api/pandas.Series.max.html)..."
   ]
  },
  {
   "cell_type": "code",
   "execution_count": 26,
   "metadata": {},
   "outputs": [
    {
     "name": "stdout",
     "output_type": "stream",
     "text": [
      "Count: 11\n",
      "Sum: 1124.4333\n",
      "Mean: 102.2212090909091\n",
      "Median: 97.9349\n",
      "Standard deviation: 29.897234329531372\n",
      "Minimum: 62.0079\n",
      "Maximum: 144.0198\n"
     ]
    }
   ],
   "source": [
    "# Count 'Intensity' (Series) values\n",
    "print(f\"Count: {df['Intensity'].count()}\")\n",
    "\n",
    "# Sum 'Intensity' (Series) values\n",
    "print(f\"Sum: {df['Intensity'].sum()}\")\n",
    "\n",
    "# Get 'Intensity' (Series) mean\n",
    "print(f\"Mean: {df['Intensity'].mean()}\")\n",
    "\n",
    "# Get 'Intensity' (Series) median\n",
    "print(f\"Median: {df['Intensity'].median()}\")\n",
    "\n",
    "# Get 'Intensity' (Series) standard deviation\n",
    "print(f\"Standard deviation: {df['Intensity'].std()}\")\n",
    "\n",
    "# Get 'Intensity' (Series) minimum value\n",
    "print(f\"Minimum: {df['Intensity'].min()}\")\n",
    "\n",
    "# Get 'Intensity' (Series) maximum value\n",
    "print(f\"Maximum: {df['Intensity'].max()}\")"
   ]
  },
  {
   "cell_type": "markdown",
   "metadata": {},
   "source": [
    "Another useful method is [`.quantile()`](https://pandas.pydata.org/pandas-docs/stable/reference/api/pandas.Series.quantile.html):"
   ]
  },
  {
   "cell_type": "code",
   "execution_count": 27,
   "metadata": {},
   "outputs": [
    {
     "name": "stdout",
     "output_type": "stream",
     "text": [
      "Percentile  50%: 97.9349\n",
      "Percentile  50%: 97.9349\n",
      "Percentile 100%: 144.0198\n",
      "Percentile   0%: 62.0079\n"
     ]
    }
   ],
   "source": [
    "# Get 'Intensity' (Series) 50% percentile value\n",
    "print(f\"Percentile  50%: {df['Intensity'].quantile()}\")\n",
    "\n",
    "# Get 'Intensity' (Series) 50% percentile value\n",
    "print(f\"Percentile  50%: {df['Intensity'].quantile(0.5)}\")\n",
    "\n",
    "# Get 'Intensity' (Series) 100% percentile value\n",
    "print(f\"Percentile 100%: {df['Intensity'].quantile(1)}\")\n",
    "\n",
    "# Get 'Intensity' (Series) 0% percentile value\n",
    "print(f\"Percentile   0%: {df['Intensity'].quantile(0)}\")"
   ]
  },
  {
   "cell_type": "markdown",
   "metadata": {},
   "source": [
    "Columns with non-numerical data also have cool methods, like: [`.unique()`](https://pandas.pydata.org/pandas-docs/stable/reference/api/pandas.Series.unique.html), [`.nunique()`](https://pandas.pydata.org/pandas-docs/stable/reference/api/pandas.Series.nunique.html), [`.value_counts()`](https://pandas.pydata.org/pandas-docs/stable/reference/api/pandas.Series.value_counts.html),..."
   ]
  },
  {
   "cell_type": "code",
   "execution_count": 28,
   "metadata": {},
   "outputs": [
    {
     "name": "stdout",
     "output_type": "stream",
     "text": [
      "Unique values: ['Amanda' 'Sequest' 'Andromeda']\n",
      "Number of unique values: 3\n",
      "Count of unique values:\n",
      "Amanda       4\n",
      "Sequest      4\n",
      "Andromeda    4\n",
      "Name: Node, dtype: int64\n"
     ]
    }
   ],
   "source": [
    "# Get 'Node' (Series) unique values\n",
    "print(f\"Unique values: {df['Node'].unique()}\")\n",
    "\n",
    "# Get 'Node' (Series) number of unique values\n",
    "print(f\"Number of unique values: {df['Node'].nunique()}\")\n",
    "\n",
    "# Get 'Node' (Series) count of each unique values\n",
    "print(f\"Count of unique values:\\n{df['Node'].value_counts()}\")"
   ]
  },
  {
   "cell_type": "markdown",
   "metadata": {
    "tags": []
   },
   "source": [
    "## DataFrame boolean indexing\n",
    "\n",
    "Do you remember the six *comparison operators*? \n",
    "+ `==`: Equal.\n",
    "+ `!=`: Not equal.\n",
    "+ `>`: Greater than.\n",
    "+ `<`: Less than.\n",
    "+ `>=`: Greater than or equal to.\n",
    "+ `<=`: Less than or equal to.\n",
    "\n",
    "We can use them to know which DataFrame rows affirmatively \"answer\" our \"question\":"
   ]
  },
  {
   "cell_type": "code",
   "execution_count": 29,
   "metadata": {},
   "outputs": [
    {
     "data": {
      "text/plain": [
       "0      True\n",
       "1     False\n",
       "2      True\n",
       "3     False\n",
       "4      True\n",
       "5      True\n",
       "6     False\n",
       "7     False\n",
       "8     False\n",
       "9     False\n",
       "10    False\n",
       "11     True\n",
       "Name: Intensity, dtype: bool"
      ]
     },
     "execution_count": 29,
     "metadata": {},
     "output_type": "execute_result"
    }
   ],
   "source": [
    "# Is the current index 'Intensity' greater than 100?\n",
    "df['Intensity'] > 100"
   ]
  },
  {
   "cell_type": "markdown",
   "metadata": {},
   "source": [
    "Furthermore, we can also use the *logical operators* `and`, `or`, `not`, but in their *bitwise* form (`&`, `|`, `~`, respectively) to link multiple \"questions\";"
   ]
  },
  {
   "cell_type": "code",
   "execution_count": 30,
   "metadata": {},
   "outputs": [
    {
     "data": {
      "text/plain": [
       "0      True\n",
       "1     False\n",
       "2     False\n",
       "3     False\n",
       "4     False\n",
       "5     False\n",
       "6     False\n",
       "7     False\n",
       "8     False\n",
       "9     False\n",
       "10    False\n",
       "11    False\n",
       "dtype: bool"
      ]
     },
     "execution_count": 30,
     "metadata": {},
     "output_type": "execute_result"
    }
   ],
   "source": [
    "# Is the current index 'Intensity' greater than 100 AND 'Amplitude' smaller than 1.6?\n",
    "(df['Intensity'] > 100) & (df['Amplitude'] < 1.6)"
   ]
  },
  {
   "cell_type": "code",
   "execution_count": 31,
   "metadata": {},
   "outputs": [
    {
     "data": {
      "text/plain": [
       "0      True\n",
       "1      True\n",
       "2      True\n",
       "3      True\n",
       "4     False\n",
       "5     False\n",
       "6     False\n",
       "7     False\n",
       "8      True\n",
       "9      True\n",
       "10     True\n",
       "11     True\n",
       "dtype: bool"
      ]
     },
     "execution_count": 31,
     "metadata": {},
     "output_type": "execute_result"
    }
   ],
   "source": [
    "# Is the current index 'Software' not equal to 'PD' OR 'Node' equal to 'Amanda'?\n",
    "(df['Software'] != 'PD') | (df['Node'] == 'Amanda')"
   ]
  },
  {
   "cell_type": "markdown",
   "metadata": {},
   "source": [
    "<div class=\"alert alert-block alert-danger\"><b>Caveat:</b>\n",
    "\n",
    "Keep in mind that DataFrame \"questions\" should be enclosed by parenthesis before linking them using `&`, `|`, `~`.\n",
    "\n",
    "</div>"
   ]
  },
  {
   "cell_type": "markdown",
   "metadata": {},
   "source": [
    "<div class=\"alert alert-block alert-success\"><b>Practice:</b>\n",
    "\n",
    "1) In the 1<sup>st</sup> code cell below, ask our DataFrame `df` to get which rows present an `'Intensity'` lower than `90` **or** higher than `140`, **and**, a `'Node'` named `'Andromeda'` **or** `'Amanda'`.\n",
    "2) Inspect the DataFrame `df` and verify that boolean indexation is giving the correct answers.    \n",
    "\n",
    "Un-comment and fill only those code lines with underscores `___`.\n",
    "</div>"
   ]
  },
  {
   "cell_type": "code",
   "execution_count": 32,
   "metadata": {
    "tags": [
     "ejercicio"
    ]
   },
   "outputs": [],
   "source": [
    "# Is the current index 'Software' not equal to 'PD' OR 'Node' equal to 'Amanda'?\n",
    "#print(( (df['Intensity'] _ ___) _ (df['Intensity'] _ ___) ) & ( (df['Node'] _ '___') _ (df['Node'] _ '___') ))\n",
    "\n",
    "# Return the DataFrame\n",
    "# df"
   ]
  },
  {
   "cell_type": "code",
   "execution_count": 33,
   "metadata": {
    "jupyter": {
     "source_hidden": true
    },
    "tags": [
     "ejercicio",
     "solucion"
    ]
   },
   "outputs": [
    {
     "name": "stdout",
     "output_type": "stream",
     "text": [
      "0      True\n",
      "1      True\n",
      "2     False\n",
      "3      True\n",
      "4     False\n",
      "5     False\n",
      "6     False\n",
      "7     False\n",
      "8     False\n",
      "9     False\n",
      "10     True\n",
      "11     True\n",
      "dtype: bool\n"
     ]
    },
    {
     "data": {
      "text/html": [
       "<div>\n",
       "<style scoped>\n",
       "    .dataframe tbody tr th:only-of-type {\n",
       "        vertical-align: middle;\n",
       "    }\n",
       "\n",
       "    .dataframe tbody tr th {\n",
       "        vertical-align: top;\n",
       "    }\n",
       "\n",
       "    .dataframe thead th {\n",
       "        text-align: right;\n",
       "    }\n",
       "</style>\n",
       "<table border=\"1\" class=\"dataframe\">\n",
       "  <thead>\n",
       "    <tr style=\"text-align: right;\">\n",
       "      <th></th>\n",
       "      <th>Raw</th>\n",
       "      <th>Software</th>\n",
       "      <th>Node</th>\n",
       "      <th>RNA</th>\n",
       "      <th>Intensity</th>\n",
       "      <th>Amplitude</th>\n",
       "    </tr>\n",
       "  </thead>\n",
       "  <tbody>\n",
       "    <tr>\n",
       "      <th>0</th>\n",
       "      <td>1985-04-06_0123_GA_C_R1</td>\n",
       "      <td>PD</td>\n",
       "      <td>Amanda</td>\n",
       "      <td>CCUGAACCCACUAUUGAUGAG</td>\n",
       "      <td>142.2949</td>\n",
       "      <td>1.5295</td>\n",
       "    </tr>\n",
       "    <tr>\n",
       "      <th>1</th>\n",
       "      <td>1985-04-06_0123_GA_C_R2</td>\n",
       "      <td>PD</td>\n",
       "      <td>Amanda</td>\n",
       "      <td>CCUGAACCCACUAUUGAUGAG</td>\n",
       "      <td>72.7144</td>\n",
       "      <td>1.2269</td>\n",
       "    </tr>\n",
       "    <tr>\n",
       "      <th>2</th>\n",
       "      <td>1985-04-06_0123_GA_T_R3</td>\n",
       "      <td>PD</td>\n",
       "      <td>Amanda</td>\n",
       "      <td>CCUGAACCCACUAUUGAUGAG</td>\n",
       "      <td>133.4933</td>\n",
       "      <td>1.7687</td>\n",
       "    </tr>\n",
       "    <tr>\n",
       "      <th>3</th>\n",
       "      <td>1985-04-06_0123_GA_T_R4</td>\n",
       "      <td>PD</td>\n",
       "      <td>Amanda</td>\n",
       "      <td>CCUGAACCCACUAUUGAUGAG</td>\n",
       "      <td>62.0079</td>\n",
       "      <td>1.3316</td>\n",
       "    </tr>\n",
       "    <tr>\n",
       "      <th>4</th>\n",
       "      <td>1985-04-06_0123_GA_C_R1</td>\n",
       "      <td>PD</td>\n",
       "      <td>Sequest</td>\n",
       "      <td>CCUGAACCCACUAUUGAUGAG</td>\n",
       "      <td>112.6438</td>\n",
       "      <td>1.8535</td>\n",
       "    </tr>\n",
       "    <tr>\n",
       "      <th>5</th>\n",
       "      <td>1985-04-06_0123_GA_C_R2</td>\n",
       "      <td>PD</td>\n",
       "      <td>Sequest</td>\n",
       "      <td>CCUGAACCCACUAUUGAUGAG</td>\n",
       "      <td>116.5702</td>\n",
       "      <td>1.8213</td>\n",
       "    </tr>\n",
       "    <tr>\n",
       "      <th>6</th>\n",
       "      <td>1985-04-06_0123_GA_T_R3</td>\n",
       "      <td>PD</td>\n",
       "      <td>Sequest</td>\n",
       "      <td>CCUGAACCCACUAUUGAUGAG</td>\n",
       "      <td>NaN</td>\n",
       "      <td>1.4061</td>\n",
       "    </tr>\n",
       "    <tr>\n",
       "      <th>7</th>\n",
       "      <td>1985-04-06_0123_GA_T_R4</td>\n",
       "      <td>PD</td>\n",
       "      <td>Sequest</td>\n",
       "      <td>CCUGAACCCACUAUUGAUGAG</td>\n",
       "      <td>64.9835</td>\n",
       "      <td>1.9036</td>\n",
       "    </tr>\n",
       "    <tr>\n",
       "      <th>8</th>\n",
       "      <td>1985-04-06_0123_GA_C_R1</td>\n",
       "      <td>MQ</td>\n",
       "      <td>Andromeda</td>\n",
       "      <td>CCUGAACCCACUAUUGAUGAG</td>\n",
       "      <td>97.9349</td>\n",
       "      <td>1.4373</td>\n",
       "    </tr>\n",
       "    <tr>\n",
       "      <th>9</th>\n",
       "      <td>1985-04-06_0123_GA_C_R2</td>\n",
       "      <td>MQ</td>\n",
       "      <td>Andromeda</td>\n",
       "      <td>CCUGAACCCACUAUUGAUGAG</td>\n",
       "      <td>93.6013</td>\n",
       "      <td>1.6476</td>\n",
       "    </tr>\n",
       "    <tr>\n",
       "      <th>10</th>\n",
       "      <td>1985-04-06_0123_GA_T_R3</td>\n",
       "      <td>MQ</td>\n",
       "      <td>Andromeda</td>\n",
       "      <td>CCUGAACCCACUAUUGAUGAG</td>\n",
       "      <td>84.1693</td>\n",
       "      <td>1.9817</td>\n",
       "    </tr>\n",
       "    <tr>\n",
       "      <th>11</th>\n",
       "      <td>1985-04-06_0123_GA_T_R4</td>\n",
       "      <td>MQ</td>\n",
       "      <td>Andromeda</td>\n",
       "      <td>CCUGAACCCACUAUUGAUGAG</td>\n",
       "      <td>144.0198</td>\n",
       "      <td>1.6713</td>\n",
       "    </tr>\n",
       "  </tbody>\n",
       "</table>\n",
       "</div>"
      ],
      "text/plain": [
       "                        Raw Software       Node                    RNA  \\\n",
       "0   1985-04-06_0123_GA_C_R1       PD     Amanda  CCUGAACCCACUAUUGAUGAG   \n",
       "1   1985-04-06_0123_GA_C_R2       PD     Amanda  CCUGAACCCACUAUUGAUGAG   \n",
       "2   1985-04-06_0123_GA_T_R3       PD     Amanda  CCUGAACCCACUAUUGAUGAG   \n",
       "3   1985-04-06_0123_GA_T_R4       PD     Amanda  CCUGAACCCACUAUUGAUGAG   \n",
       "4   1985-04-06_0123_GA_C_R1       PD    Sequest  CCUGAACCCACUAUUGAUGAG   \n",
       "5   1985-04-06_0123_GA_C_R2       PD    Sequest  CCUGAACCCACUAUUGAUGAG   \n",
       "6   1985-04-06_0123_GA_T_R3       PD    Sequest  CCUGAACCCACUAUUGAUGAG   \n",
       "7   1985-04-06_0123_GA_T_R4       PD    Sequest  CCUGAACCCACUAUUGAUGAG   \n",
       "8   1985-04-06_0123_GA_C_R1       MQ  Andromeda  CCUGAACCCACUAUUGAUGAG   \n",
       "9   1985-04-06_0123_GA_C_R2       MQ  Andromeda  CCUGAACCCACUAUUGAUGAG   \n",
       "10  1985-04-06_0123_GA_T_R3       MQ  Andromeda  CCUGAACCCACUAUUGAUGAG   \n",
       "11  1985-04-06_0123_GA_T_R4       MQ  Andromeda  CCUGAACCCACUAUUGAUGAG   \n",
       "\n",
       "    Intensity  Amplitude  \n",
       "0    142.2949     1.5295  \n",
       "1     72.7144     1.2269  \n",
       "2    133.4933     1.7687  \n",
       "3     62.0079     1.3316  \n",
       "4    112.6438     1.8535  \n",
       "5    116.5702     1.8213  \n",
       "6         NaN     1.4061  \n",
       "7     64.9835     1.9036  \n",
       "8     97.9349     1.4373  \n",
       "9     93.6013     1.6476  \n",
       "10    84.1693     1.9817  \n",
       "11   144.0198     1.6713  "
      ]
     },
     "execution_count": 33,
     "metadata": {},
     "output_type": "execute_result"
    }
   ],
   "source": [
    "# Is the current index 'Software' not equal to 'PD' OR 'Node' equal to 'Amanda'?\n",
    "print(( (df['Intensity'] > 140) | (df['Intensity'] < 90) ) & ( (df['Node'] == 'Andromeda') | (df['Node'] == 'Amanda') ))\n",
    "\n",
    "# Return the DataFrame\n",
    "df"
   ]
  },
  {
   "cell_type": "markdown",
   "metadata": {},
   "source": [
    "## Filtering DataFrames with boolean indexing\n",
    "\n",
    "You can store the output of a boolean indexing into a variable:"
   ]
  },
  {
   "cell_type": "code",
   "execution_count": 34,
   "metadata": {},
   "outputs": [
    {
     "data": {
      "text/plain": [
       "pandas.core.series.Series"
      ]
     },
     "execution_count": 34,
     "metadata": {},
     "output_type": "execute_result"
    }
   ],
   "source": [
    "# Create filter to get Proteome Discoverer software AND not to get Amanda search node\n",
    "series_bool = (df['Software'] == 'PD') & (df['Node'] != 'Amanda')\n",
    "\n",
    "# Get the variable type of `series_bool`\n",
    "type(series_bool)"
   ]
  },
  {
   "cell_type": "markdown",
   "metadata": {},
   "source": [
    "Note that the output of a boolean indexation (question) is a Pandas Series, in particular a Series full of boolean values, aka *boolean Series* (answer). We can use such *boolean Series* to easily filter *DataFrames* in a very flexible way:"
   ]
  },
  {
   "cell_type": "code",
   "execution_count": 35,
   "metadata": {},
   "outputs": [
    {
     "data": {
      "text/html": [
       "<div>\n",
       "<style scoped>\n",
       "    .dataframe tbody tr th:only-of-type {\n",
       "        vertical-align: middle;\n",
       "    }\n",
       "\n",
       "    .dataframe tbody tr th {\n",
       "        vertical-align: top;\n",
       "    }\n",
       "\n",
       "    .dataframe thead th {\n",
       "        text-align: right;\n",
       "    }\n",
       "</style>\n",
       "<table border=\"1\" class=\"dataframe\">\n",
       "  <thead>\n",
       "    <tr style=\"text-align: right;\">\n",
       "      <th></th>\n",
       "      <th>Raw</th>\n",
       "      <th>Software</th>\n",
       "      <th>Node</th>\n",
       "      <th>RNA</th>\n",
       "      <th>Intensity</th>\n",
       "      <th>Amplitude</th>\n",
       "    </tr>\n",
       "  </thead>\n",
       "  <tbody>\n",
       "    <tr>\n",
       "      <th>4</th>\n",
       "      <td>1985-04-06_0123_GA_C_R1</td>\n",
       "      <td>PD</td>\n",
       "      <td>Sequest</td>\n",
       "      <td>CCUGAACCCACUAUUGAUGAG</td>\n",
       "      <td>112.6438</td>\n",
       "      <td>1.8535</td>\n",
       "    </tr>\n",
       "    <tr>\n",
       "      <th>5</th>\n",
       "      <td>1985-04-06_0123_GA_C_R2</td>\n",
       "      <td>PD</td>\n",
       "      <td>Sequest</td>\n",
       "      <td>CCUGAACCCACUAUUGAUGAG</td>\n",
       "      <td>116.5702</td>\n",
       "      <td>1.8213</td>\n",
       "    </tr>\n",
       "    <tr>\n",
       "      <th>6</th>\n",
       "      <td>1985-04-06_0123_GA_T_R3</td>\n",
       "      <td>PD</td>\n",
       "      <td>Sequest</td>\n",
       "      <td>CCUGAACCCACUAUUGAUGAG</td>\n",
       "      <td>NaN</td>\n",
       "      <td>1.4061</td>\n",
       "    </tr>\n",
       "    <tr>\n",
       "      <th>7</th>\n",
       "      <td>1985-04-06_0123_GA_T_R4</td>\n",
       "      <td>PD</td>\n",
       "      <td>Sequest</td>\n",
       "      <td>CCUGAACCCACUAUUGAUGAG</td>\n",
       "      <td>64.9835</td>\n",
       "      <td>1.9036</td>\n",
       "    </tr>\n",
       "  </tbody>\n",
       "</table>\n",
       "</div>"
      ],
      "text/plain": [
       "                       Raw Software     Node                    RNA  \\\n",
       "4  1985-04-06_0123_GA_C_R1       PD  Sequest  CCUGAACCCACUAUUGAUGAG   \n",
       "5  1985-04-06_0123_GA_C_R2       PD  Sequest  CCUGAACCCACUAUUGAUGAG   \n",
       "6  1985-04-06_0123_GA_T_R3       PD  Sequest  CCUGAACCCACUAUUGAUGAG   \n",
       "7  1985-04-06_0123_GA_T_R4       PD  Sequest  CCUGAACCCACUAUUGAUGAG   \n",
       "\n",
       "   Intensity  Amplitude  \n",
       "4   112.6438     1.8535  \n",
       "5   116.5702     1.8213  \n",
       "6        NaN     1.4061  \n",
       "7    64.9835     1.9036  "
      ]
     },
     "execution_count": 35,
     "metadata": {},
     "output_type": "execute_result"
    }
   ],
   "source": [
    "# Applying my (first) filter to my DataFrame\n",
    "df[series_bool]"
   ]
  },
  {
   "cell_type": "markdown",
   "metadata": {},
   "source": [
    "<div class=\"alert alert-block alert-info\"><b>Tip:</b>\n",
    "\n",
    "You can rethink a *boolean Series* as a dataFrame \"mask\" that leaves uncovered only those rows of your interest.\n",
    "\n",
    "</div>"
   ]
  },
  {
   "cell_type": "markdown",
   "metadata": {},
   "source": [
    "<div class=\"alert alert-block alert-success\"><b>Practice:</b>\n",
    "\n",
    "In the 1<sup>st</sup> code cell below, we computed the 60% quantile of the 'Intensity' `I_quantile` and the 40% quantile of the 'Amplitude' `A_quantile`. Use this two variables that we have prepared for you to:\n",
    "    \n",
    "1) In the 2<sup>nd</sup> code cell below, create a boolean Series called `first_filter` to filter high intensity values (`> I_quantile`) **or** low amplitude values (`< A_quantile`) from the DataFrame `df`.\n",
    "2) In the 3<sup>rd</sup> code cell below, use `first_filter` to get your rows of interest from the *DataFrame* `df`.\n",
    "3) What you should change when creating `first_filter` if you would prefer high intensity values **and** low amplitude values. Create a boolean Series called `second_filter` for this purpose in the 3<sup>rd</sup> cell below, and get your new rows of interest from the *DataFrame* `df`.\n",
    "    \n",
    "Un-comment and fill only those code lines with underscores `___`.\n",
    "</div>"
   ]
  },
  {
   "cell_type": "code",
   "execution_count": 36,
   "metadata": {
    "tags": [
     "ejercicio"
    ]
   },
   "outputs": [
    {
     "name": "stdout",
     "output_type": "stream",
     "text": [
      "112.6438\n",
      "1.57674\n"
     ]
    }
   ],
   "source": [
    "# Retrieving the 60% quantile of the 'Intensity': I_quantile\n",
    "I_quantile = df['Intensity'].quantile(0.60)\n",
    "print(I_quantile)\n",
    "\n",
    "# Retrieving the 40% quantile of the 'Amplitude': A_quantile\n",
    "A_quantile = df['Amplitude'].quantile(0.40)\n",
    "print(A_quantile)"
   ]
  },
  {
   "cell_type": "code",
   "execution_count": 37,
   "metadata": {
    "tags": [
     "ejercicio"
    ]
   },
   "outputs": [],
   "source": [
    "# Create filter to get high peak intensity (first 60% quantile) OR low peak amplitude (last 40% quantile)\n",
    "#first_filter = \n",
    "\n",
    "# Applying first filter to DataFrame\n",
    "#df[___]"
   ]
  },
  {
   "cell_type": "code",
   "execution_count": 38,
   "metadata": {
    "jupyter": {
     "source_hidden": true
    },
    "lines_to_next_cell": 2,
    "tags": [
     "ejercicio",
     "solucion"
    ]
   },
   "outputs": [
    {
     "data": {
      "text/html": [
       "<div>\n",
       "<style scoped>\n",
       "    .dataframe tbody tr th:only-of-type {\n",
       "        vertical-align: middle;\n",
       "    }\n",
       "\n",
       "    .dataframe tbody tr th {\n",
       "        vertical-align: top;\n",
       "    }\n",
       "\n",
       "    .dataframe thead th {\n",
       "        text-align: right;\n",
       "    }\n",
       "</style>\n",
       "<table border=\"1\" class=\"dataframe\">\n",
       "  <thead>\n",
       "    <tr style=\"text-align: right;\">\n",
       "      <th></th>\n",
       "      <th>Raw</th>\n",
       "      <th>Software</th>\n",
       "      <th>Node</th>\n",
       "      <th>RNA</th>\n",
       "      <th>Intensity</th>\n",
       "      <th>Amplitude</th>\n",
       "    </tr>\n",
       "  </thead>\n",
       "  <tbody>\n",
       "    <tr>\n",
       "      <th>0</th>\n",
       "      <td>1985-04-06_0123_GA_C_R1</td>\n",
       "      <td>PD</td>\n",
       "      <td>Amanda</td>\n",
       "      <td>CCUGAACCCACUAUUGAUGAG</td>\n",
       "      <td>142.2949</td>\n",
       "      <td>1.5295</td>\n",
       "    </tr>\n",
       "    <tr>\n",
       "      <th>1</th>\n",
       "      <td>1985-04-06_0123_GA_C_R2</td>\n",
       "      <td>PD</td>\n",
       "      <td>Amanda</td>\n",
       "      <td>CCUGAACCCACUAUUGAUGAG</td>\n",
       "      <td>72.7144</td>\n",
       "      <td>1.2269</td>\n",
       "    </tr>\n",
       "    <tr>\n",
       "      <th>2</th>\n",
       "      <td>1985-04-06_0123_GA_T_R3</td>\n",
       "      <td>PD</td>\n",
       "      <td>Amanda</td>\n",
       "      <td>CCUGAACCCACUAUUGAUGAG</td>\n",
       "      <td>133.4933</td>\n",
       "      <td>1.7687</td>\n",
       "    </tr>\n",
       "    <tr>\n",
       "      <th>3</th>\n",
       "      <td>1985-04-06_0123_GA_T_R4</td>\n",
       "      <td>PD</td>\n",
       "      <td>Amanda</td>\n",
       "      <td>CCUGAACCCACUAUUGAUGAG</td>\n",
       "      <td>62.0079</td>\n",
       "      <td>1.3316</td>\n",
       "    </tr>\n",
       "    <tr>\n",
       "      <th>5</th>\n",
       "      <td>1985-04-06_0123_GA_C_R2</td>\n",
       "      <td>PD</td>\n",
       "      <td>Sequest</td>\n",
       "      <td>CCUGAACCCACUAUUGAUGAG</td>\n",
       "      <td>116.5702</td>\n",
       "      <td>1.8213</td>\n",
       "    </tr>\n",
       "    <tr>\n",
       "      <th>6</th>\n",
       "      <td>1985-04-06_0123_GA_T_R3</td>\n",
       "      <td>PD</td>\n",
       "      <td>Sequest</td>\n",
       "      <td>CCUGAACCCACUAUUGAUGAG</td>\n",
       "      <td>NaN</td>\n",
       "      <td>1.4061</td>\n",
       "    </tr>\n",
       "    <tr>\n",
       "      <th>8</th>\n",
       "      <td>1985-04-06_0123_GA_C_R1</td>\n",
       "      <td>MQ</td>\n",
       "      <td>Andromeda</td>\n",
       "      <td>CCUGAACCCACUAUUGAUGAG</td>\n",
       "      <td>97.9349</td>\n",
       "      <td>1.4373</td>\n",
       "    </tr>\n",
       "    <tr>\n",
       "      <th>11</th>\n",
       "      <td>1985-04-06_0123_GA_T_R4</td>\n",
       "      <td>MQ</td>\n",
       "      <td>Andromeda</td>\n",
       "      <td>CCUGAACCCACUAUUGAUGAG</td>\n",
       "      <td>144.0198</td>\n",
       "      <td>1.6713</td>\n",
       "    </tr>\n",
       "  </tbody>\n",
       "</table>\n",
       "</div>"
      ],
      "text/plain": [
       "                        Raw Software       Node                    RNA  \\\n",
       "0   1985-04-06_0123_GA_C_R1       PD     Amanda  CCUGAACCCACUAUUGAUGAG   \n",
       "1   1985-04-06_0123_GA_C_R2       PD     Amanda  CCUGAACCCACUAUUGAUGAG   \n",
       "2   1985-04-06_0123_GA_T_R3       PD     Amanda  CCUGAACCCACUAUUGAUGAG   \n",
       "3   1985-04-06_0123_GA_T_R4       PD     Amanda  CCUGAACCCACUAUUGAUGAG   \n",
       "5   1985-04-06_0123_GA_C_R2       PD    Sequest  CCUGAACCCACUAUUGAUGAG   \n",
       "6   1985-04-06_0123_GA_T_R3       PD    Sequest  CCUGAACCCACUAUUGAUGAG   \n",
       "8   1985-04-06_0123_GA_C_R1       MQ  Andromeda  CCUGAACCCACUAUUGAUGAG   \n",
       "11  1985-04-06_0123_GA_T_R4       MQ  Andromeda  CCUGAACCCACUAUUGAUGAG   \n",
       "\n",
       "    Intensity  Amplitude  \n",
       "0    142.2949     1.5295  \n",
       "1     72.7144     1.2269  \n",
       "2    133.4933     1.7687  \n",
       "3     62.0079     1.3316  \n",
       "5    116.5702     1.8213  \n",
       "6         NaN     1.4061  \n",
       "8     97.9349     1.4373  \n",
       "11   144.0198     1.6713  "
      ]
     },
     "execution_count": 38,
     "metadata": {},
     "output_type": "execute_result"
    }
   ],
   "source": [
    "# Create filter to get high peak intensity (first 60% quantile) OR low peak amplitude (last 40% quantile)\n",
    "first_filter = (df['Intensity'] > I_quantile) | (df['Amplitude'] < A_quantile)\n",
    "\n",
    "# Applying first filter to DataFrame\n",
    "df[first_filter]"
   ]
  },
  {
   "cell_type": "code",
   "execution_count": 39,
   "metadata": {
    "tags": [
     "ejercicio"
    ]
   },
   "outputs": [],
   "source": [
    "# Create filter to get high peak intensity (first 60% quantile) AND low peak amplitude (last 40% quantile)\n",
    "#second_filter = \n",
    "\n",
    "# Applying second filter to DataFrame\n",
    "#df[___]"
   ]
  },
  {
   "cell_type": "code",
   "execution_count": 40,
   "metadata": {
    "jupyter": {
     "source_hidden": true
    },
    "tags": [
     "ejercicio",
     "solucion"
    ]
   },
   "outputs": [
    {
     "data": {
      "text/html": [
       "<div>\n",
       "<style scoped>\n",
       "    .dataframe tbody tr th:only-of-type {\n",
       "        vertical-align: middle;\n",
       "    }\n",
       "\n",
       "    .dataframe tbody tr th {\n",
       "        vertical-align: top;\n",
       "    }\n",
       "\n",
       "    .dataframe thead th {\n",
       "        text-align: right;\n",
       "    }\n",
       "</style>\n",
       "<table border=\"1\" class=\"dataframe\">\n",
       "  <thead>\n",
       "    <tr style=\"text-align: right;\">\n",
       "      <th></th>\n",
       "      <th>Raw</th>\n",
       "      <th>Software</th>\n",
       "      <th>Node</th>\n",
       "      <th>RNA</th>\n",
       "      <th>Intensity</th>\n",
       "      <th>Amplitude</th>\n",
       "    </tr>\n",
       "  </thead>\n",
       "  <tbody>\n",
       "    <tr>\n",
       "      <th>0</th>\n",
       "      <td>1985-04-06_0123_GA_C_R1</td>\n",
       "      <td>PD</td>\n",
       "      <td>Amanda</td>\n",
       "      <td>CCUGAACCCACUAUUGAUGAG</td>\n",
       "      <td>142.2949</td>\n",
       "      <td>1.5295</td>\n",
       "    </tr>\n",
       "  </tbody>\n",
       "</table>\n",
       "</div>"
      ],
      "text/plain": [
       "                       Raw Software    Node                    RNA  Intensity  \\\n",
       "0  1985-04-06_0123_GA_C_R1       PD  Amanda  CCUGAACCCACUAUUGAUGAG   142.2949   \n",
       "\n",
       "   Amplitude  \n",
       "0     1.5295  "
      ]
     },
     "execution_count": 40,
     "metadata": {},
     "output_type": "execute_result"
    }
   ],
   "source": [
    "# Create filter to get high peak intensity (first 60% quantile) AND low peak amplitude (last 40% quantile)\n",
    "second_filter = (df['Intensity'] > I_quantile) & (df['Amplitude'] < A_quantile)\n",
    "\n",
    "# Applying second filter to DataFrame\n",
    "df[second_filter]"
   ]
  }
 ],
 "metadata": {
  "colab": {
   "include_colab_link": true,
   "name": "04_Pandas.ipynb",
   "provenance": []
  },
  "kernelspec": {
   "display_name": "Python 3 (ipykernel)",
   "language": "python",
   "name": "python3"
  },
  "language_info": {
   "codemirror_mode": {
    "name": "ipython",
    "version": 3
   },
   "file_extension": ".py",
   "mimetype": "text/x-python",
   "name": "python",
   "nbconvert_exporter": "python",
   "pygments_lexer": "ipython3",
   "version": "3.9.12"
  }
 },
 "nbformat": 4,
 "nbformat_minor": 4
}
