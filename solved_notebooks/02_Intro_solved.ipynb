{
 "cells": [
  {
   "cell_type": "markdown",
   "metadata": {
    "colab_type": "text",
    "id": "view-in-github"
   },
   "source": [
    "<a href=\"https://colab.research.google.com/github/MMRES-PyBootcamp/MMRES-python-bootcamp2022/blob/main/02_Intro.ipynb\" target=\"_parent\"><img src=\"https://colab.research.google.com/assets/colab-badge.svg\" alt=\"Open In Colab\"/></a>"
   ]
  },
  {
   "cell_type": "markdown",
   "metadata": {
    "id": "pEGkhX-nmFBf",
    "tags": []
   },
   "source": [
    "# Session 2 - Introduction (Second part)\n",
    "> An introduction on sequential and mapping data types, flow control and function definitions. Here you will hear (just a bit) about Python *packages* and *modules*. Then you will be introduced to *lists* and *dictionaries*, some of the most versatile data types in Python. Finally, you will become familiar with the concept of *flow control* and the definition of your own *functions*."
   ]
  },
  {
   "cell_type": "markdown",
   "metadata": {},
   "source": [
    "## Outline\n",
    " * [Importing packages](#Importing-packages)\n",
    " * [Lists](#Lists)\n",
    " * [Strings as sequential data types](#Strings-as-sequential-data-types)\n",
    " * [Dictionaries](#Dictionaries)\n",
    " * [Flow control](#Flow-control)\n",
    "   * [The `for` loop](#The-for-loop)\n",
    "   * [The `if`, `elif` and `else` clauses](#The-if,-elif-and-else-clauses)\n",
    " * [User defined functions](#User-defined-functions)"
   ]
  },
  {
   "cell_type": "markdown",
   "metadata": {},
   "source": [
    "<div class=\"alert alert-block alert-success\"><b>Practice:</b> Practice cells announce exercises that you should try during the current boot camp session.\n",
    "</div>"
   ]
  },
  {
   "cell_type": "markdown",
   "metadata": {},
   "source": [
    "<div class=\"alert alert-block alert-warning\"><b>Extension:</b> Extension cells correspond to exercises (or links to contents) that are a bit more advanced. We recommend to try them after the current boot camp session.\n",
    "</div>"
   ]
  },
  {
   "cell_type": "markdown",
   "metadata": {},
   "source": [
    "<div class=\"alert alert-block alert-info\"><b>Tip:</b> Tip cells just give some advice or complementary information.\n",
    "</div>"
   ]
  },
  {
   "cell_type": "markdown",
   "metadata": {},
   "source": [
    "<div class=\"alert alert-block alert-danger\"><b>Caveat:</b> Caveat cells warn you about the most common pitfalls one founds when starts his/her path learning Python.\n",
    "\n",
    "</div>"
   ]
  },
  {
   "cell_type": "markdown",
   "metadata": {},
   "source": [
    "**This document is devised as a tool to enable your self-learning process. If you get stuck at some step or need any kind of help, please don't hesitate to raise your hand and ask for the teacher's guidance.**\n",
    "\n",
    "---"
   ]
  },
  {
   "cell_type": "markdown",
   "metadata": {
    "id": "1r-fY6v2mFBi"
   },
   "source": [
    "## Importing packages\n",
    "\n",
    "\n",
    "\n",
    "\n"
   ]
  },
  {
   "cell_type": "markdown",
   "metadata": {},
   "source": [
    "Python is organized into *modules* and *packages*. Modules are files with a `.py` extension that contain *functions*, *variables*, and other *Python objects*. Packages are sets of modules. When we want to use objects that are defined within a package we have to import it first:"
   ]
  },
  {
   "cell_type": "code",
   "execution_count": 1,
   "metadata": {},
   "outputs": [],
   "source": [
    "# Load the numpy package\n",
    "import numpy"
   ]
  },
  {
   "cell_type": "markdown",
   "metadata": {
    "tags": []
   },
   "source": [
    "Once we have imported the package, we can use the dot `.` symbol to go down his hierarchy and access the particular object we need:"
   ]
  },
  {
   "cell_type": "code",
   "execution_count": 2,
   "metadata": {},
   "outputs": [
    {
     "data": {
      "text/plain": [
       "3.141592653589793"
      ]
     },
     "execution_count": 2,
     "metadata": {},
     "output_type": "execute_result"
    }
   ],
   "source": [
    "# Access the π constant stored in numpy\n",
    "numpy.pi"
   ]
  },
  {
   "cell_type": "code",
   "execution_count": 3,
   "metadata": {},
   "outputs": [
    {
     "data": {
      "text/plain": [
       "2.718281828459045"
      ]
     },
     "execution_count": 3,
     "metadata": {},
     "output_type": "execute_result"
    }
   ],
   "source": [
    "# Access the e constant stored in numpy\n",
    "numpy.e"
   ]
  },
  {
   "cell_type": "code",
   "execution_count": 4,
   "metadata": {},
   "outputs": [
    {
     "data": {
      "text/plain": [
       "1.0"
      ]
     },
     "execution_count": 4,
     "metadata": {},
     "output_type": "execute_result"
    }
   ],
   "source": [
    "# Access the sinus function stored in numpy and compute sin(π/2)\n",
    "numpy.sin(numpy.pi/2)"
   ]
  },
  {
   "cell_type": "markdown",
   "metadata": {},
   "source": [
    "Some famous Python packages are often imported with an *alias*:"
   ]
  },
  {
   "cell_type": "code",
   "execution_count": 5,
   "metadata": {},
   "outputs": [],
   "source": [
    "# Load package with its corresponding alias\n",
    "import numpy as np"
   ]
  },
  {
   "cell_type": "code",
   "execution_count": 6,
   "metadata": {},
   "outputs": [
    {
     "data": {
      "text/plain": [
       "1.0"
      ]
     },
     "execution_count": 6,
     "metadata": {},
     "output_type": "execute_result"
    }
   ],
   "source": [
    "# Access the sinus function stored in np and compute sin(π/2)\n",
    "np.sin(np.pi/2)"
   ]
  },
  {
   "cell_type": "markdown",
   "metadata": {},
   "source": [
    "<div class=\"alert alert-block alert-success\"><b>Practice:</b>\n",
    "\n",
    "1) In the 1<sup>st</sup> code cell below, use the `numpy` square root function called `sqrt()` to compute the [Golden Ratio](https://en.wikipedia.org/wiki/Golden_ratio) $\\varphi$:\n",
    "\n",
    "$$\\varphi = \\frac{1+\\sqrt{5}}{2}$$\n",
    "\n",
    "Keep in mind that we already imported `numpy` wity its typical `np` alias.\n",
    "    \n",
    "</div>"
   ]
  },
  {
   "cell_type": "code",
   "execution_count": 7,
   "metadata": {},
   "outputs": [],
   "source": [
    "# Compute the Golden Ratio\n"
   ]
  },
  {
   "cell_type": "code",
   "execution_count": 8,
   "metadata": {
    "jupyter": {
     "source_hidden": true
    },
    "tags": []
   },
   "outputs": [
    {
     "data": {
      "text/plain": [
       "1.618033988749895"
      ]
     },
     "execution_count": 8,
     "metadata": {},
     "output_type": "execute_result"
    }
   ],
   "source": [
    "# Compute the Golden Ratio\n",
    "(1 + np.sqrt(5)) / 2"
   ]
  },
  {
   "cell_type": "markdown",
   "metadata": {},
   "source": [
    "Remember you can always look at the documentation of any function with the [`help()`](https://docs.python.org/3/library/functions.html#helphttps://docs.python.org/3/library/functions.html#help) [buit-in](https://docs.python.org/3/library/functions.html)."
   ]
  },
  {
   "cell_type": "code",
   "execution_count": 9,
   "metadata": {
    "scrolled": true,
    "tags": []
   },
   "outputs": [
    {
     "name": "stdout",
     "output_type": "stream",
     "text": [
      "Help on ufunc:\n",
      "\n",
      "sqrt = <ufunc 'sqrt'>\n",
      "    sqrt(x, /, out=None, *, where=True, casting='same_kind', order='K', dtype=None, subok=True[, signature, extobj])\n",
      "    \n",
      "    Return the non-negative square-root of an array, element-wise.\n",
      "    \n",
      "    Parameters\n",
      "    ----------\n",
      "    x : array_like\n",
      "        The values whose square-roots are required.\n",
      "    out : ndarray, None, or tuple of ndarray and None, optional\n",
      "        A location into which the result is stored. If provided, it must have\n",
      "        a shape that the inputs broadcast to. If not provided or None,\n",
      "        a freshly-allocated array is returned. A tuple (possible only as a\n",
      "        keyword argument) must have length equal to the number of outputs.\n",
      "    where : array_like, optional\n",
      "        This condition is broadcast over the input. At locations where the\n",
      "        condition is True, the `out` array will be set to the ufunc result.\n",
      "        Elsewhere, the `out` array will retain its original value.\n",
      "        Note that if an uninitialized `out` array is created via the default\n",
      "        ``out=None``, locations within it where the condition is False will\n",
      "        remain uninitialized.\n",
      "    **kwargs\n",
      "        For other keyword-only arguments, see the\n",
      "        :ref:`ufunc docs <ufuncs.kwargs>`.\n",
      "    \n",
      "    Returns\n",
      "    -------\n",
      "    y : ndarray\n",
      "        An array of the same shape as `x`, containing the positive\n",
      "        square-root of each element in `x`.  If any element in `x` is\n",
      "        complex, a complex array is returned (and the square-roots of\n",
      "        negative reals are calculated).  If all of the elements in `x`\n",
      "        are real, so is `y`, with negative elements returning ``nan``.\n",
      "        If `out` was provided, `y` is a reference to it.\n",
      "        This is a scalar if `x` is a scalar.\n",
      "    \n",
      "    See Also\n",
      "    --------\n",
      "    lib.scimath.sqrt\n",
      "        A version which returns complex numbers when given negative reals.\n",
      "    \n",
      "    Notes\n",
      "    -----\n",
      "    *sqrt* has--consistent with common convention--as its branch cut the\n",
      "    real \"interval\" [`-inf`, 0), and is continuous from above on it.\n",
      "    A branch cut is a curve in the complex plane across which a given\n",
      "    complex function fails to be continuous.\n",
      "    \n",
      "    Examples\n",
      "    --------\n",
      "    >>> np.sqrt([1,4,9])\n",
      "    array([ 1.,  2.,  3.])\n",
      "    \n",
      "    >>> np.sqrt([4, -1, -3+4J])\n",
      "    array([ 2.+0.j,  0.+1.j,  1.+2.j])\n",
      "    \n",
      "    >>> np.sqrt([4, -1, np.inf])\n",
      "    array([ 2., nan, inf])\n",
      "\n"
     ]
    }
   ],
   "source": [
    "# Looking for help with numpy sqrt() function\n",
    "help(np.sqrt)"
   ]
  },
  {
   "cell_type": "markdown",
   "metadata": {},
   "source": [
    "## Lists\n",
    "\n",
    "In the [first part of Chapter 1](https://github.com/MMRES-PyBootcamp/MMRES-python-bootcamp2022/blob/main/01_Intro.ipynb) we introduced integer, float, string and boolean data types. Here we will introduce an extra Python data type that is particularly versatile, the sequential data type [list](https://docs.python.org/3/library/stdtypes.html#list). Briefly, a sequential data is an ordered collection of objects of any kind. \n",
    "\n",
    "START SPOILER ALERT --> We will also see that strings can also  be seen as immutable sequential objects <-- STOP SPOILER ALERT\n",
    "\n",
    "We create lists using brackets (`[]`) to enclose them, and commas (`,`) to separate the items within:"
   ]
  },
  {
   "cell_type": "code",
   "execution_count": 10,
   "metadata": {
    "tags": []
   },
   "outputs": [
    {
     "data": {
      "text/plain": [
       "[1, 2.0, 'Three', 4, 5.0, 'Six', 7, 8.0, 'Nine']"
      ]
     },
     "execution_count": 10,
     "metadata": {},
     "output_type": "execute_result"
    }
   ],
   "source": [
    "# Create a list from scratch\n",
    "[1, 2.0, \"Three\", 4, 5.0, \"Six\", 7, 8.0, \"Nine\"]"
   ]
  },
  {
   "cell_type": "markdown",
   "metadata": {},
   "source": [
    "Note that a list can store items no matter their data type. In the previous example we stored integers, floats and strings. Of course, we can put our list into a variable:"
   ]
  },
  {
   "cell_type": "code",
   "execution_count": 11,
   "metadata": {},
   "outputs": [
    {
     "data": {
      "text/plain": [
       "list"
      ]
     },
     "execution_count": 11,
     "metadata": {},
     "output_type": "execute_result"
    }
   ],
   "source": [
    "# Store list into \"list_example\" variable\n",
    "list_example = [1, 2.0, \"Three\", 4, 5.0, \"Six\", 7, 8.0, \"Nine\"]\n",
    "\n",
    "# Get the data type of `list_example`\n",
    "type(list_example)"
   ]
  },
  {
   "cell_type": "markdown",
   "metadata": {},
   "source": [
    "To retrieve the items within a list we use *indexing* with bracket notation `[]`. In Python, if a given collection has $n$ elements, the index of the first element is $0$ and the index of the last element is $n-1$. Thus, in order to access a given list item, we can start counting from the beginning of the list simply introducing the corresponding index (or from the end of the list if we use negative indexes)."
   ]
  },
  {
   "cell_type": "code",
   "execution_count": 12,
   "metadata": {},
   "outputs": [
    {
     "name": "stdout",
     "output_type": "stream",
     "text": [
      "1\n",
      "Nine\n"
     ]
    }
   ],
   "source": [
    "# Recover the first element from `list_example`\n",
    "print(list_example[0])\n",
    "\n",
    "# Recover the last element from `list_example`\n",
    "print(list_example[-1])"
   ]
  },
  {
   "cell_type": "markdown",
   "metadata": {
    "id": "tr8lSaaUmFCF"
   },
   "source": [
    "<div class=\"alert alert-block alert-danger\"><b>Caveat:</b> Remember that in Python indexing starts at 0. In other languages (such as R), indexing starts at 1.\n",
    "\n",
    "</div>"
   ]
  },
  {
   "cell_type": "markdown",
   "metadata": {},
   "source": [
    "An important concept to know when dealing with sequential variables like lists is *slicing*. Taking an `[i:j:k]` slice of a list (or any other sequential variable) means that we take elements from `i` (included) to `j` (excluded) using a `k` step. Keep in mind that:\n",
    "  + Omitting `i` in the slice, like `[:j:k]`, means \"from the beginning of the sequence (included) to `j` (excluded) in `k` steps\".\n",
    "  + Omitting `j` in the slice, like `[i::k]`, means \"from `i` (included) to the end of the sequence (included!) in `k` steps\".\n",
    "  + Omitting `k` in the slice, like `[i:j:]` or just `[i:j]`, means \"from `i` (included) to `j` (excluded) in one by one steps\"."
   ]
  },
  {
   "cell_type": "markdown",
   "metadata": {},
   "source": [
    "<div class=\"alert alert-block alert-success\"><b>Practice:</b>\n",
    "\n",
    "1) In the 1<sup>st</sup> code cell below, slice the three central elements of `list_example`.\n",
    "2) In the 2<sup>nd</sup> one, slice the first half of `list_example` (including `5.0`).\n",
    "3) In the 3<sup>rd</sup> one, slice the second half of `list_example` (including `5.0`). \n",
    "4) In the 4<sup>th</sup> one, slice three elements of a same data type from `list_example`.\n",
    "\n",
    "</div>"
   ]
  },
  {
   "cell_type": "code",
   "execution_count": 13,
   "metadata": {},
   "outputs": [],
   "source": [
    "# Slice the three central elements of `list_example`\n"
   ]
  },
  {
   "cell_type": "code",
   "execution_count": 14,
   "metadata": {
    "jupyter": {
     "source_hidden": true
    },
    "tags": []
   },
   "outputs": [
    {
     "data": {
      "text/plain": [
       "[4, 5.0, 'Six']"
      ]
     },
     "execution_count": 14,
     "metadata": {},
     "output_type": "execute_result"
    }
   ],
   "source": [
    "# Slice the three central elements of `list_example`\n",
    "list_example[3:6]"
   ]
  },
  {
   "cell_type": "code",
   "execution_count": 15,
   "metadata": {},
   "outputs": [],
   "source": [
    "# Slice the first five elements of `list_example`\n"
   ]
  },
  {
   "cell_type": "code",
   "execution_count": 16,
   "metadata": {
    "jupyter": {
     "source_hidden": true
    },
    "tags": []
   },
   "outputs": [
    {
     "data": {
      "text/plain": [
       "[1, 2.0, 'Three', 4, 5.0]"
      ]
     },
     "execution_count": 16,
     "metadata": {},
     "output_type": "execute_result"
    }
   ],
   "source": [
    "# Slice the first five elements of `list_example`\n",
    "list_example[:5]"
   ]
  },
  {
   "cell_type": "code",
   "execution_count": 17,
   "metadata": {
    "tags": []
   },
   "outputs": [],
   "source": [
    "# Slice the last five elements of `list_example`\n"
   ]
  },
  {
   "cell_type": "code",
   "execution_count": 18,
   "metadata": {
    "jupyter": {
     "source_hidden": true
    },
    "tags": []
   },
   "outputs": [
    {
     "data": {
      "text/plain": [
       "[5.0, 'Six', 7, 8.0, 'Nine']"
      ]
     },
     "execution_count": 18,
     "metadata": {},
     "output_type": "execute_result"
    }
   ],
   "source": [
    "# Slice the last five elements of `list_example`\n",
    "list_example[4:]"
   ]
  },
  {
   "cell_type": "code",
   "execution_count": 19,
   "metadata": {},
   "outputs": [],
   "source": [
    "# Slice the three ints, floats or strings from `list_example`\n"
   ]
  },
  {
   "cell_type": "code",
   "execution_count": 20,
   "metadata": {
    "jupyter": {
     "source_hidden": true
    },
    "tags": []
   },
   "outputs": [
    {
     "name": "stdout",
     "output_type": "stream",
     "text": [
      "The three integers are: [1, 4, 7]\n",
      "The three floats are: [2.0, 5.0, 8.0]\n",
      "The three strings are: ['Three', 'Six', 'Nine']\n"
     ]
    }
   ],
   "source": [
    "# Slice the three ints, floats or strings from `list_example`\n",
    "print(f'The three integers are: {list_example[0::3]}')\n",
    "print(f'The three floats are: {list_example[1::3]}')\n",
    "print(f'The three strings are: {list_example[2::3]}')"
   ]
  },
  {
   "cell_type": "markdown",
   "metadata": {},
   "source": [
    "Now that we know what a list is, we can introduce some additional Python buit-ins. First, let's create reversed list of integers going from 100 to 0:"
   ]
  },
  {
   "cell_type": "code",
   "execution_count": 21,
   "metadata": {},
   "outputs": [
    {
     "name": "stdout",
     "output_type": "stream",
     "text": [
      "[100, 99, 98, 97, 96, 95, 94, 93, 92, 91, 90, 89, 88, 87, 86, 85, 84, 83, 82, 81, 80, 79, 78, 77, 76, 75, 74, 73, 72, 71, 70, 69, 68, 67, 66, 65, 64, 63, 62, 61, 60, 59, 58, 57, 56, 55, 54, 53, 52, 51, 50, 49, 48, 47, 46, 45, 44, 43, 42, 41, 40, 39, 38, 37, 36, 35, 34, 33, 32, 31, 30, 29, 28, 27, 26, 25, 24, 23, 22, 21, 20, 19, 18, 17, 16, 15, 14, 13, 12, 11, 10, 9, 8, 7, 6, 5, 4, 3, 2, 1, 0]\n"
     ]
    }
   ],
   "source": [
    "# Create a 100 to 0 list of integers and store as a `list_100` variable \n",
    "list_100 = list(range(100, -1, -1))\n",
    "\n",
    "# Show the whole `list_100`\n",
    "print(list_100)"
   ]
  },
  {
   "cell_type": "markdown",
   "metadata": {},
   "source": [
    "<div class=\"alert alert-block alert-warning\"><b>Extension:</b>\n",
    "\n",
    "Check the documentation for the [`range()`](https://docs.python.org/3/library/functions.html#func-range) built-in. Try to understand how this built-in works and how we leverage it to get a reversed list of integers going from 100 to 0.\n",
    "</div>"
   ]
  },
  {
   "cell_type": "markdown",
   "metadata": {},
   "source": [
    "The [`len()`](https://docs.python.org/3/library/functions.html#func-range), [`max()`](https://docs.python.org/3/library/functions.html#max), [`min()`](https://docs.python.org/3/library/functions.html#min), [`sum()`](https://docs.python.org/3/library/functions.html#sum) and [`sorted()`](https://docs.python.org/3/library/functions.html#sorted) built-ins are quite self-explanatory:"
   ]
  },
  {
   "cell_type": "code",
   "execution_count": 22,
   "metadata": {},
   "outputs": [
    {
     "name": "stdout",
     "output_type": "stream",
     "text": [
      "Output of calling len() on list_100: 101\n",
      "\n",
      "Output of calling max() on list_100: 100\n",
      "\n",
      "Output of calling min() on list_100: 0\n",
      "\n",
      "Output of calling sum() on list_100: 5050\n",
      "\n",
      "Output of calling sorted() on list_100: [0, 1, 2, 3, 4, 5, 6, 7, 8, 9, 10, 11, 12, 13, 14, 15, 16, 17, 18, 19, 20, 21, 22, 23, 24, 25, 26, 27, 28, 29, 30, 31, 32, 33, 34, 35, 36, 37, 38, 39, 40, 41, 42, 43, 44, 45, 46, 47, 48, 49, 50, 51, 52, 53, 54, 55, 56, 57, 58, 59, 60, 61, 62, 63, 64, 65, 66, 67, 68, 69, 70, 71, 72, 73, 74, 75, 76, 77, 78, 79, 80, 81, 82, 83, 84, 85, 86, 87, 88, 89, 90, 91, 92, 93, 94, 95, 96, 97, 98, 99, 100]\n"
     ]
    }
   ],
   "source": [
    "# Get the length of `list_100`\n",
    "print(f'Output of calling len() on list_100: {len(list_100)}\\n')\n",
    "\n",
    "# Get the max value from `list_100`\n",
    "print(f'Output of calling max() on list_100: {max(list_100)}\\n')\n",
    "\n",
    "# Get the min value from `list_100`\n",
    "print(f'Output of calling min() on list_100: {min(list_100)}\\n')\n",
    "\n",
    "# Get the sum value from `list_100`\n",
    "print(f'Output of calling sum() on list_100: {sum(list_100)}\\n')\n",
    "\n",
    "# Sort `list_100`\n",
    "print(f'Output of calling sorted() on list_100: {sorted(list_100)}')"
   ]
  },
  {
   "cell_type": "markdown",
   "metadata": {},
   "source": [
    "In addition of using built-in functions, we can also use *methods* when working with lists. In Python, *methods* are like functions that some objects carry on \"as standard\". We can invoke the methods of a given Python object with a dot `.` symbol. For example, some useful [list methods](https://docs.python.org/3/tutorial/datastructures.html) are: `.reverse()`, `.append()`, `.remove()`, `.extend()`, `.count()`..."
   ]
  },
  {
   "cell_type": "code",
   "execution_count": 23,
   "metadata": {},
   "outputs": [
    {
     "name": "stdout",
     "output_type": "stream",
     "text": [
      "['Nine', 8.0, 7, 'Six', 5.0, 4, 'Three', 2.0, 1]\n"
     ]
    }
   ],
   "source": [
    "# Get the length of `list_example`\n",
    "list_example.reverse()\n",
    "\n",
    "print(list_example)"
   ]
  },
  {
   "cell_type": "code",
   "execution_count": 24,
   "metadata": {},
   "outputs": [
    {
     "name": "stdout",
     "output_type": "stream",
     "text": [
      "['Nine', 8.0, 7, 'Six', 5.0, 4, 'Three', 2.0, 1, 'Zero']\n"
     ]
    }
   ],
   "source": [
    "# Get the length of `list_example`\n",
    "list_example.append('Zero')\n",
    "\n",
    "print(list_example)"
   ]
  },
  {
   "cell_type": "code",
   "execution_count": 25,
   "metadata": {},
   "outputs": [
    {
     "name": "stdout",
     "output_type": "stream",
     "text": [
      "['Nine', 8.0, 7, 'Six', 5.0, 4, 'Three', 2.0, 1]\n"
     ]
    }
   ],
   "source": [
    "# Get the length of `list_example`\n",
    "list_example.remove('Zero')\n",
    "\n",
    "print(list_example)"
   ]
  },
  {
   "cell_type": "code",
   "execution_count": 26,
   "metadata": {},
   "outputs": [
    {
     "name": "stdout",
     "output_type": "stream",
     "text": [
      "['Nine', 8.0, 7, 'Six', 5.0, 4, 'Three', 2.0, 1, 'Nine', 8.0, 7, 'Six', 5.0, 4, 'Three', 2.0, 1]\n"
     ]
    }
   ],
   "source": [
    "# Get the length of `list_example`\n",
    "list_example.extend(list_example)\n",
    "\n",
    "print(list_example)"
   ]
  },
  {
   "cell_type": "code",
   "execution_count": 27,
   "metadata": {},
   "outputs": [
    {
     "data": {
      "text/plain": [
       "2"
      ]
     },
     "execution_count": 27,
     "metadata": {},
     "output_type": "execute_result"
    }
   ],
   "source": [
    "# Get the length of `list_example`\n",
    "list_example.count('Nine')"
   ]
  },
  {
   "cell_type": "markdown",
   "metadata": {},
   "source": [
    "<div class=\"alert alert-block alert-warning\"><b>Extension:</b>\n",
    "\n",
    "Did you noticed that methods update the list they were invoked from \"on the fly\"? This is because lists are *mutable* *ordered* sequential data types. In Python, there are other sequential data types that are *immutable* *ordered*, like [tuples](https://docs.python.org/3/library/stdtypes.html#tuples) and strings, or *mutable* *unordered*, like [sets](https://docs.python.org/3/library/stdtypes.html#set-types-set-frozenset), and *immutable* *unordered*, like [frozensets](https://docs.python.org/3/library/stdtypes.html#set-types-set-frozenset). In general, invoking methods from a *mutable* object \"alter-and-update\" such object, while doing it from *immutable* objects just return an altered version the object (keeping the original object unaltered). Remember that *unordered* objects connot be sliced.\n",
    "\n",
    "</div>"
   ]
  },
  {
   "cell_type": "markdown",
   "metadata": {},
   "source": [
    "## Strings as sequential data types"
   ]
  },
  {
   "cell_type": "markdown",
   "metadata": {},
   "source": [
    "In Python, strings can be alternatively seen as sequential data types. For example, you can slice a string just as we do with lists:"
   ]
  },
  {
   "cell_type": "code",
   "execution_count": 28,
   "metadata": {},
   "outputs": [
    {
     "data": {
      "text/plain": [
       "'cats'"
      ]
     },
     "execution_count": 28,
     "metadata": {},
     "output_type": "execute_result"
    }
   ],
   "source": [
    "# Recovering a Jean Cocteau's quote\n",
    "string_example = \"I prefer cats over dogs because police cats don't exist.\"\n",
    "\n",
    "# Slice the first \"cats\" word\n",
    "string_example[9:13]"
   ]
  },
  {
   "cell_type": "markdown",
   "metadata": {},
   "source": [
    "As any other Python object, strings carry their own methods. For example, some useful [string methods](https://docs.python.org/3/library/stdtypes.html#string-methods) are: `.count()`, `.find()`, `.upper()`, `.lower()`, `.replace()`, `.split()`, `.join()`..."
   ]
  },
  {
   "cell_type": "code",
   "execution_count": 29,
   "metadata": {},
   "outputs": [
    {
     "data": {
      "text/plain": [
       "2"
      ]
     },
     "execution_count": 29,
     "metadata": {},
     "output_type": "execute_result"
    }
   ],
   "source": [
    "# Count 'cats' occurrences \n",
    "string_example.count('cats')"
   ]
  },
  {
   "cell_type": "code",
   "execution_count": 30,
   "metadata": {},
   "outputs": [
    {
     "data": {
      "text/plain": [
       "9"
      ]
     },
     "execution_count": 30,
     "metadata": {},
     "output_type": "execute_result"
    }
   ],
   "source": [
    "# Find the index where the occurrence 'cats' first appears\n",
    "string_example.find('cats')"
   ]
  },
  {
   "cell_type": "code",
   "execution_count": 31,
   "metadata": {},
   "outputs": [
    {
     "data": {
      "text/plain": [
       "\"I PREFER CATS OVER DOGS BECAUSE POLICE CATS DON'T EXIST.\""
      ]
     },
     "execution_count": 31,
     "metadata": {},
     "output_type": "execute_result"
    }
   ],
   "source": [
    "# Change the whole string to upper-case\n",
    "string_example.upper()"
   ]
  },
  {
   "cell_type": "code",
   "execution_count": 32,
   "metadata": {},
   "outputs": [
    {
     "data": {
      "text/plain": [
       "\"i prefer cats over dogs because police cats don't exist.\""
      ]
     },
     "execution_count": 32,
     "metadata": {},
     "output_type": "execute_result"
    }
   ],
   "source": [
    "# Change the whole string to lower-case\n",
    "string_example.lower()"
   ]
  },
  {
   "cell_type": "code",
   "execution_count": 33,
   "metadata": {},
   "outputs": [
    {
     "data": {
      "text/plain": [
       "\"I prefer unicorns over dogs because police unicorns don't exist.\""
      ]
     },
     "execution_count": 33,
     "metadata": {},
     "output_type": "execute_result"
    }
   ],
   "source": [
    "# Replace 'cats' occurrences with 'unicorns'\n",
    "string_example.replace('cats', 'unicorns')"
   ]
  },
  {
   "cell_type": "code",
   "execution_count": 34,
   "metadata": {},
   "outputs": [
    {
     "data": {
      "text/plain": [
       "['I',\n",
       " 'prefer',\n",
       " 'cats',\n",
       " 'over',\n",
       " 'dogs',\n",
       " 'because',\n",
       " 'police',\n",
       " 'cats',\n",
       " \"don't\",\n",
       " 'exist.']"
      ]
     },
     "execution_count": 34,
     "metadata": {},
     "output_type": "execute_result"
    }
   ],
   "source": [
    "# Split the string each time a blanck ' ' space is found\n",
    "string_example.split(' ')"
   ]
  },
  {
   "cell_type": "code",
   "execution_count": 35,
   "metadata": {},
   "outputs": [
    {
     "data": {
      "text/plain": [
       "\"I_prefer_cats_over_dogs_because_police_cats_don't_exist.\""
      ]
     },
     "execution_count": 35,
     "metadata": {},
     "output_type": "execute_result"
    }
   ],
   "source": [
    "# Split the string each time a blanck ' ' space is found and re-join the pieces with underscores '_'\n",
    "'_'.join(string_example.split(' '))"
   ]
  },
  {
   "cell_type": "markdown",
   "metadata": {
    "id": "43lE2qnwmFCM",
    "tags": []
   },
   "source": [
    "## Dictionaries\n",
    "\n",
    "We are now familiar with several Python data types, such as integer, float, string, boolean and list. We have seen that strings could be even rethought as a sequential data type. Now we will introduce the mapping data type [dictionary](https://docs.python.org/3/library/stdtypes.html#mapping-types-dict), which is a set of `key: value` pairs. We create dictionaries using braces (`{}`) to enclose them, commas (`,`) to separate `key: value` pairs within the dictionary, and colons (`:`) to differentiate *keys* from *values* within a given `key: value` pair:"
   ]
  },
  {
   "cell_type": "code",
   "execution_count": 36,
   "metadata": {
    "id": "Wr0tcaSomFCM",
    "outputId": "2beb636b-da82-400e-f09f-623e314c0968"
   },
   "outputs": [
    {
     "data": {
      "text/plain": [
       "{'Javan rhino': 75, 'Amur Leopard': 100, 'Sunda Island Tiger': 600}"
      ]
     },
     "execution_count": 36,
     "metadata": {},
     "output_type": "execute_result"
    }
   ],
   "source": [
    "# Create a dictionary from scratch\n",
    "{'Javan rhino': 75, 'Amur Leopard': 100, 'Sunda Island Tiger': 600}"
   ]
  },
  {
   "cell_type": "markdown",
   "metadata": {},
   "source": [
    "Dictionaries allow a very flexible manner to store and access data. For example, a given dictionary key can contain any of the typical data types (integer, float, string, boolean) but also sequential data types (like list) and even other dictionaries. As usual, we can put our dictionary into a variable:"
   ]
  },
  {
   "cell_type": "code",
   "execution_count": 37,
   "metadata": {},
   "outputs": [
    {
     "data": {
      "text/plain": [
       "dict"
      ]
     },
     "execution_count": 37,
     "metadata": {},
     "output_type": "execute_result"
    }
   ],
   "source": [
    "# Store list into \"dict_example\" variable\n",
    "dict_example = {'Javan rhino': 75, 'Amur Leopard': 100, 'Sunda Island Tiger': 600}\n",
    "\n",
    "# Get the data type of `dict_example`\n",
    "type(dict_example)"
   ]
  },
  {
   "cell_type": "markdown",
   "metadata": {},
   "source": [
    "This example dictionary has three *items* or three `key: value` pairs. The three *keys* are `'Javan rhino'`, `'Amur Leopard'`, `'Sunda Island Tiger'` and the three *values* are `75`, `100`, `600`. We can use the dictionary methods `.keys()` and `.values()` to retrieve the keys or the values of the dictionary, respectively:"
   ]
  },
  {
   "cell_type": "code",
   "execution_count": 38,
   "metadata": {},
   "outputs": [
    {
     "name": "stdout",
     "output_type": "stream",
     "text": [
      "dict_keys(['Javan rhino', 'Amur Leopard', 'Sunda Island Tiger'])\n",
      "dict_values([75, 100, 600])\n"
     ]
    }
   ],
   "source": [
    "# Get dictionary keys\n",
    "print(dict_example.keys())\n",
    "\n",
    "# Get dictionary values\n",
    "print(dict_example.values())"
   ]
  },
  {
   "cell_type": "markdown",
   "metadata": {},
   "source": [
    "You can also get whole `key: value` pairs with the method `.items()`:"
   ]
  },
  {
   "cell_type": "code",
   "execution_count": 39,
   "metadata": {},
   "outputs": [
    {
     "name": "stdout",
     "output_type": "stream",
     "text": [
      "dict_items([('Javan rhino', 75), ('Amur Leopard', 100), ('Sunda Island Tiger', 600)])\n"
     ]
    }
   ],
   "source": [
    "# Get dictionary items (key: value pairs)\n",
    "print(dict_example.items())"
   ]
  },
  {
   "cell_type": "markdown",
   "metadata": {},
   "source": [
    "Similar to lists, you can retrieve dictionary values by *indexing* using `[]`. In contrasts with lists, dictionary indices can be strings (among others data types):"
   ]
  },
  {
   "cell_type": "code",
   "execution_count": 40,
   "metadata": {},
   "outputs": [
    {
     "data": {
      "text/plain": [
       "100"
      ]
     },
     "execution_count": 40,
     "metadata": {},
     "output_type": "execute_result"
    }
   ],
   "source": [
    "# Get the value for the key 'Amur Leopard'\n",
    "dict_example['Amur Leopard']"
   ]
  },
  {
   "cell_type": "markdown",
   "metadata": {},
   "source": [
    "You can add new dictionary entries just by assignment:"
   ]
  },
  {
   "cell_type": "code",
   "execution_count": 41,
   "metadata": {},
   "outputs": [
    {
     "name": "stdout",
     "output_type": "stream",
     "text": [
      "Keys: dict_keys(['Javan rhino', 'Amur Leopard', 'Sunda Island Tiger', 'Mountain Gorilla', 'Tapanuli Orangutan', 'Yangtze Finless Porpoise', 'Black Rhino', 'African Forest Elephant', 'Sumatran Orangutan', 'Hawksbill Turtle', 'Human'])\n",
      "\n",
      "Values: dict_values([75, 100, 600, 1000, 800, 1000, 5630, 30000, 14000, 20000, 7966000000])\n"
     ]
    }
   ],
   "source": [
    "# Add additional entries to `dict_example`\n",
    "dict_example['Mountain Gorilla'] = 1000\n",
    "dict_example['Tapanuli Orangutan'] = 800\n",
    "dict_example['Yangtze Finless Porpoise'] = 1000\n",
    "dict_example['Black Rhino'] = 5630\n",
    "dict_example['African Forest Elephant'] = 30000\n",
    "dict_example['Sumatran Orangutan'] = 14000\n",
    "dict_example['Hawksbill Turtle'] = 20000\n",
    "dict_example['Human'] = 7966000000\n",
    "\n",
    "# Get dictionary keys\n",
    "print(f'Keys: {dict_example.keys()}\\n')\n",
    "\n",
    "# Get dictionary values\n",
    "print(f'Values: {dict_example.values()}')"
   ]
  },
  {
   "cell_type": "markdown",
   "metadata": {},
   "source": [
    "Similarly, you can update (or overwrite) existing dictionary entries also by assignment:"
   ]
  },
  {
   "cell_type": "code",
   "execution_count": 42,
   "metadata": {},
   "outputs": [
    {
     "data": {
      "text/plain": [
       "74"
      ]
     },
     "execution_count": 42,
     "metadata": {},
     "output_type": "execute_result"
    }
   ],
   "source": [
    "# Update the value stored for the 'Amur Leopard' key\n",
    "dict_example['Javan rhino'] = 74\n",
    "\n",
    "# Get the new value for the key 'Amur Leopard'\n",
    "dict_example['Javan rhino']"
   ]
  },
  {
   "cell_type": "markdown",
   "metadata": {},
   "source": [
    "Finally, to remove a dictionary item, you can use the `.pop()` method:"
   ]
  },
  {
   "cell_type": "code",
   "execution_count": 43,
   "metadata": {},
   "outputs": [
    {
     "data": {
      "text/plain": [
       "dict_keys(['Javan rhino', 'Amur Leopard', 'Sunda Island Tiger', 'Mountain Gorilla', 'Tapanuli Orangutan', 'Yangtze Finless Porpoise', 'Black Rhino', 'African Forest Elephant', 'Sumatran Orangutan', 'Hawksbill Turtle'])"
      ]
     },
     "execution_count": 43,
     "metadata": {},
     "output_type": "execute_result"
    }
   ],
   "source": [
    "# Update the value stored for the 'Amur Leopard' key\n",
    "dict_example.pop('Human')\n",
    "\n",
    "# Get dictionary keys (after removing 'Amur Leopard')\n",
    "dict_example.keys()"
   ]
  },
  {
   "cell_type": "markdown",
   "metadata": {
    "id": "h4_8ymoimFCa"
   },
   "source": [
    "## Flow control\n",
    "\n",
    "In general, code lines in a Jupyter Notebook code cell, are executed sequentially (the first line is executed first, followed by the second, and so on). However, sometimes we want a program to run some lines under certain conditions and some other lines under other conditions. Another common situation is when we want a program to run some lines repeatedly or until some condition is met. [Control flow statements](https://docs.python.org/3/tutorial/controlflow.html) help you when dealing with these situations."
   ]
  },
  {
   "cell_type": "markdown",
   "metadata": {
    "id": "z6Z5KFoGmFCb",
    "tags": []
   },
   "source": [
    "### The `for` loop\n",
    "A *for loop* executes some code lines a given number of times. In a *for loop* there is \"running variable\" that changes on each loop *iteration*:"
   ]
  },
  {
   "cell_type": "code",
   "execution_count": 44,
   "metadata": {
    "id": "_ajynWKtmFCb",
    "outputId": "16ad43f2-1261-499d-c258-d20782089bc4"
   },
   "outputs": [
    {
     "name": "stdout",
     "output_type": "stream",
     "text": [
      "Hydrogen\n",
      "Helium\n",
      "Litium\n",
      "Beryllium\n",
      "Boron\n",
      "Carbon\n",
      "Nitrogen\n",
      "Oxygen\n",
      "Fluorine\n",
      "Neon\n"
     ]
    }
   ],
   "source": [
    "# Create a list from scratch and store it into \"list_example2\" variable\n",
    "list_example2 = ['Hydrogen', 'Helium', 'Litium', 'Beryllium', 'Boron', 'Carbon', 'Nitrogen', 'Oxygen', 'Fluorine', 'Neon']\n",
    "\n",
    "# For each element of our `list_example2`...\n",
    "for element in list_example2:\n",
    "    \n",
    "    #... print the running element\n",
    "    print(element)"
   ]
  },
  {
   "cell_type": "markdown",
   "metadata": {},
   "source": [
    "Here, the running variable `element` takes the value `'Hydrogen'` in the first iteration, `'Helium'` in the second, and so on until the last iteration is reached, when it takes the value `'Neon'`.\n",
    "\n",
    "Note that the for loop statement follows a very particular syntax (Look at the `for`, the `in` and the colon `:`). In addition, notice how the *block* of code lines that are executed in each for loop iteration present a uniform *four spaces indentation*. This is not something following a random aesthetic criterion, this is something mandatory in Python."
   ]
  },
  {
   "cell_type": "markdown",
   "metadata": {
    "id": "tr8lSaaUmFCF"
   },
   "source": [
    "<div class=\"alert alert-block alert-danger\"><b>Caveat:</b> Remember that in Python a code block must presents a common indentation of four spaces. In turn, a nested code block also must present a common indentation of eight spaces (and so on).\n",
    "\n",
    "</div>"
   ]
  },
  {
   "cell_type": "markdown",
   "metadata": {},
   "source": [
    "Sometimes one also needs to track the index of the running variable. The [`enumerate()`](https://docs.python.org/3/library/functions.html#enumerate) built-in provides a pretty readable solution to this:"
   ]
  },
  {
   "cell_type": "code",
   "execution_count": 45,
   "metadata": {},
   "outputs": [
    {
     "name": "stdout",
     "output_type": "stream",
     "text": [
      "0\n",
      "Hydrogen\n",
      "1\n",
      "Helium\n",
      "2\n",
      "Litium\n",
      "3\n",
      "Beryllium\n",
      "4\n",
      "Boron\n",
      "5\n",
      "Carbon\n",
      "6\n",
      "Nitrogen\n",
      "7\n",
      "Oxygen\n",
      "8\n",
      "Fluorine\n",
      "9\n",
      "Neon\n"
     ]
    }
   ],
   "source": [
    "# For each element of our `list_example2`...\n",
    "for i, element in enumerate(list_example2):\n",
    "    \n",
    "    #... print the running index\n",
    "    print(i)\n",
    "    \n",
    "    #... print the running element\n",
    "    print(element)"
   ]
  },
  {
   "cell_type": "markdown",
   "metadata": {},
   "source": [
    "Of course, we can nest a for loop inside another for loop:"
   ]
  },
  {
   "cell_type": "code",
   "execution_count": 46,
   "metadata": {},
   "outputs": [
    {
     "name": "stdout",
     "output_type": "stream",
     "text": [
      "0\n",
      "Hydrogen\n",
      "H\n",
      "y\n",
      "d\n",
      "r\n",
      "o\n",
      "g\n",
      "e\n",
      "n\n",
      "1\n",
      "Helium\n",
      "H\n",
      "e\n",
      "l\n",
      "i\n",
      "u\n",
      "m\n"
     ]
    }
   ],
   "source": [
    "# For each element of our `list_example2`...\n",
    "for i, element in enumerate(list_example2[0:2]):\n",
    "    \n",
    "    #... print the running index\n",
    "    print(i)\n",
    "    \n",
    "    #... print the running element\n",
    "    print(element)\n",
    "    \n",
    "    # For each character in the the running element...\n",
    "    for character in element:\n",
    "        \n",
    "        #... print the rurring such character\n",
    "        print(character)"
   ]
  },
  {
   "cell_type": "markdown",
   "metadata": {},
   "source": [
    "In addition to looping along sequential data types like lists, we can also loop along dictionaries very easily:"
   ]
  },
  {
   "cell_type": "code",
   "execution_count": 47,
   "metadata": {},
   "outputs": [
    {
     "name": "stdout",
     "output_type": "stream",
     "text": [
      "There are only 74 Javan rhino individuals left on Earth.\n",
      "There are only 100 Amur Leopard individuals left on Earth.\n",
      "There are only 600 Sunda Island Tiger individuals left on Earth.\n",
      "There are only 1000 Mountain Gorilla individuals left on Earth.\n",
      "There are only 800 Tapanuli Orangutan individuals left on Earth.\n",
      "There are only 1000 Yangtze Finless Porpoise individuals left on Earth.\n",
      "There are only 5630 Black Rhino individuals left on Earth.\n",
      "There are only 30000 African Forest Elephant individuals left on Earth.\n",
      "There are only 14000 Sumatran Orangutan individuals left on Earth.\n",
      "There are only 20000 Hawksbill Turtle individuals left on Earth.\n"
     ]
    }
   ],
   "source": [
    "# For key and value in our `dict_example` items...\n",
    "for k, v in dict_example.items():\n",
    "    \n",
    "    #... print a sentence leveraging the running key and value \n",
    "    print(f'There are only {v} {k} individuals left on Earth.')"
   ]
  },
  {
   "cell_type": "markdown",
   "metadata": {},
   "source": [
    "<div class=\"alert alert-block alert-success\"><b>Practice:</b>\n",
    "\n",
    "In the 1<sup>st</sup> code cell below, use a nested for loop to express $p$ as a sum, where $p$ is of the form: \n",
    "    \n",
    "$$p=(a+b+c+d)(x+y+x)$$\n",
    "\n",
    "Un-comment and fill only those code lines with underscores `___`.\n",
    "</div>"
   ]
  },
  {
   "cell_type": "code",
   "execution_count": 48,
   "metadata": {
    "tags": []
   },
   "outputs": [],
   "source": [
    "# Create two arbitrary lists (of four and three terms respectively)\n",
    "list_abcd = [2, 3, 5, 7]\n",
    "list_xyz = [11, 13, 17]\n",
    "\n",
    "# For item in `list_abcd`...\n",
    "#___\n",
    "\n",
    "    # For item in `list_xyz`...\n",
    "    #___\n",
    "        \n",
    "        # Print the product of both running items\n",
    "        #___"
   ]
  },
  {
   "cell_type": "code",
   "execution_count": 49,
   "metadata": {
    "jupyter": {
     "source_hidden": true
    },
    "tags": []
   },
   "outputs": [
    {
     "name": "stdout",
     "output_type": "stream",
     "text": [
      "22\n",
      "26\n",
      "34\n",
      "33\n",
      "39\n",
      "51\n",
      "55\n",
      "65\n",
      "85\n",
      "77\n",
      "91\n",
      "119\n"
     ]
    }
   ],
   "source": [
    "# Create two arbitrary lists (of four and three terms respectively)\n",
    "list_abcd = [2, 3, 5, 7]\n",
    "list_xyz = [11, 13, 17]\n",
    "\n",
    "# For item in `list_abcd`...\n",
    "for i in list_abcd:\n",
    "\n",
    "    # For item in `list_xyz`...\n",
    "    for j in list_xyz:\n",
    "        \n",
    "        # Print the product of both running items\n",
    "        print(i * j)"
   ]
  },
  {
   "cell_type": "markdown",
   "metadata": {},
   "source": [
    "<div class=\"alert alert-block alert-warning\"><b>Extension:</b>\n",
    "\n",
    "In Python, there is an alternative and pretty compact way of write for loops called [list-comprehension](https://docs.python.org/3/glossary.html#term-list-comprehension). You can nicely define the nested for loop above in just one-liner using a list-comprehension:\n",
    "</div>"
   ]
  },
  {
   "cell_type": "code",
   "execution_count": 50,
   "metadata": {},
   "outputs": [
    {
     "data": {
      "text/plain": [
       "[22, 26, 34, 33, 39, 51, 55, 65, 85, 77, 91, 119]"
      ]
     },
     "execution_count": 50,
     "metadata": {},
     "output_type": "execute_result"
    }
   ],
   "source": [
    "# For element in `list_abcd` and for element in `list_xyz` print the product of both running items\n",
    "[i*j for i in list_abcd for j in list_xyz]"
   ]
  },
  {
   "cell_type": "markdown",
   "metadata": {},
   "source": [
    "### The `if`, `elif` and `else` clauses\n",
    "The `if`, `elif` and `else` clauses are very useful when you want provide your code with some degree of automatic decision capability:"
   ]
  },
  {
   "cell_type": "code",
   "execution_count": 51,
   "metadata": {},
   "outputs": [
    {
     "name": "stdout",
     "output_type": "stream",
     "text": [
      "The Iberian lynx (Lynx pardinus) is a wild cat species endemic to the Iberian Peninsula.\n"
     ]
    }
   ],
   "source": [
    "# Define the number of iberian lynxs in the wild\n",
    "Iberian_lynxs = 10001 # <-- EDIT THIS NUMBER AND RE-RUN\n",
    "\n",
    "# If the number of iberian lynxs in the wild is less or equal to zero...\n",
    "if Iberian_lynxs <= 0:\n",
    "    \n",
    "    #... report the consevation status\n",
    "    print(f'The Iberian Lynx is extinct.')\n",
    "\n",
    "# Else if the number of iberian lynxs in the wild is less or equal to ten thousand...\n",
    "elif Iberian_lynxs <= 10000:\n",
    "    \n",
    "    #... report the consevation status\n",
    "    print(f'The Iberian Lynx is threatened.')\n",
    "\n",
    "# Else\n",
    "else:\n",
    "\n",
    "    #... just say something about the Iberian Lynx\n",
    "    print(f'The Iberian lynx (Lynx pardinus) is a wild cat species endemic to the Iberian Peninsula.')"
   ]
  },
  {
   "cell_type": "markdown",
   "metadata": {},
   "source": [
    "<div class=\"alert alert-block alert-success\"><b>Practice:</b>\n",
    "\n",
    "In the 1<sup>st</sup> code cell below, use a `for` loop with a nested `if`, `elif`, `else` clause to report the conservation status of the species present in `dict_example`. Use `species` and `individuals` as looping variable names for the dictionary keys and values, respectiely.\n",
    "\n",
    "+ a) Extinct: Zero or less individuals in the wild.\n",
    "+ b) Critically endangered: One hundred or less individuals in the wild.\n",
    "+ c) Endangered: One thousand or less individuals in the wild.\n",
    "+ d) Vulnerable: Ten thousand or less individuals in the wild.\n",
    "\n",
    "Un-comment and fill only those code lines with underscores `___`.\n",
    "</div>"
   ]
  },
  {
   "cell_type": "code",
   "execution_count": 52,
   "metadata": {
    "tags": []
   },
   "outputs": [
    {
     "name": "stdout",
     "output_type": "stream",
     "text": [
      "The Javan rhino is extinct.\n",
      "The Javan rhino is critically endangered.\n",
      "The Javan rhino is endangered.\n",
      "The Javan rhino is vulnerable.\n",
      "The Javan rhino is not vulnerable (yet).\n",
      "The Amur Leopard is extinct.\n",
      "The Amur Leopard is critically endangered.\n",
      "The Amur Leopard is endangered.\n",
      "The Amur Leopard is vulnerable.\n",
      "The Amur Leopard is not vulnerable (yet).\n",
      "The Sunda Island Tiger is extinct.\n",
      "The Sunda Island Tiger is critically endangered.\n",
      "The Sunda Island Tiger is endangered.\n",
      "The Sunda Island Tiger is vulnerable.\n",
      "The Sunda Island Tiger is not vulnerable (yet).\n",
      "The Mountain Gorilla is extinct.\n",
      "The Mountain Gorilla is critically endangered.\n",
      "The Mountain Gorilla is endangered.\n",
      "The Mountain Gorilla is vulnerable.\n",
      "The Mountain Gorilla is not vulnerable (yet).\n",
      "The Tapanuli Orangutan is extinct.\n",
      "The Tapanuli Orangutan is critically endangered.\n",
      "The Tapanuli Orangutan is endangered.\n",
      "The Tapanuli Orangutan is vulnerable.\n",
      "The Tapanuli Orangutan is not vulnerable (yet).\n",
      "The Yangtze Finless Porpoise is extinct.\n",
      "The Yangtze Finless Porpoise is critically endangered.\n",
      "The Yangtze Finless Porpoise is endangered.\n",
      "The Yangtze Finless Porpoise is vulnerable.\n",
      "The Yangtze Finless Porpoise is not vulnerable (yet).\n",
      "The Black Rhino is extinct.\n",
      "The Black Rhino is critically endangered.\n",
      "The Black Rhino is endangered.\n",
      "The Black Rhino is vulnerable.\n",
      "The Black Rhino is not vulnerable (yet).\n",
      "The African Forest Elephant is extinct.\n",
      "The African Forest Elephant is critically endangered.\n",
      "The African Forest Elephant is endangered.\n",
      "The African Forest Elephant is vulnerable.\n",
      "The African Forest Elephant is not vulnerable (yet).\n",
      "The Sumatran Orangutan is extinct.\n",
      "The Sumatran Orangutan is critically endangered.\n",
      "The Sumatran Orangutan is endangered.\n",
      "The Sumatran Orangutan is vulnerable.\n",
      "The Sumatran Orangutan is not vulnerable (yet).\n",
      "The Hawksbill Turtle is extinct.\n",
      "The Hawksbill Turtle is critically endangered.\n",
      "The Hawksbill Turtle is endangered.\n",
      "The Hawksbill Turtle is vulnerable.\n",
      "The Hawksbill Turtle is not vulnerable (yet).\n"
     ]
    }
   ],
   "source": [
    "# For `species` (key) and `individuals` (value) in our `dict_example` items...\n",
    "for species, individuals in dict_example.items():\n",
    "\n",
    "    # If the number of individuals is less or equal to zero...\n",
    "    #___\n",
    "\n",
    "        #... report the consevation status\n",
    "        print(f'The {species} is extinct.')\n",
    "\n",
    "    # Else if the number of individuals is less or equal to one hundred...\n",
    "    #___\n",
    "\n",
    "        #... report the consevation status\n",
    "        print(f'The {species} is critically endangered.')\n",
    "    \n",
    "    # Else if the number of individuals is less or equal to one thousand...\n",
    "    #___\n",
    "\n",
    "        #... report the consevation status\n",
    "        print(f'The {species} is endangered.')\n",
    "    \n",
    "    # Else if the number of individuals is less or equal to ten thousand...\n",
    "    #___\n",
    "\n",
    "        #... report the consevation status\n",
    "        print(f'The {species} is vulnerable.')\n",
    "\n",
    "    # Else\n",
    "    #___\n",
    "\n",
    "        #... report the consevation status\n",
    "        print(f'The {species} is not vulnerable (yet).')"
   ]
  },
  {
   "cell_type": "code",
   "execution_count": 53,
   "metadata": {
    "jupyter": {
     "source_hidden": true
    },
    "tags": []
   },
   "outputs": [
    {
     "name": "stdout",
     "output_type": "stream",
     "text": [
      "The Javan rhino is critically endangered.\n",
      "The Amur Leopard is critically endangered.\n",
      "The Sunda Island Tiger is endangered.\n",
      "The Mountain Gorilla is endangered.\n",
      "The Tapanuli Orangutan is endangered.\n",
      "The Yangtze Finless Porpoise is endangered.\n",
      "The Black Rhino is vulnerable.\n",
      "The African Forest Elephant is not vulnerable yet.\n",
      "The Sumatran Orangutan is not vulnerable yet.\n",
      "The Hawksbill Turtle is not vulnerable yet.\n"
     ]
    }
   ],
   "source": [
    "# For species (key) and individuals (value) in our `dict_example`...\n",
    "for species, individuals in dict_example.items():\n",
    "\n",
    "    # If the number of individuals is less or equal to zero...\n",
    "    if individuals <= 0:\n",
    "\n",
    "        #... report the consevation status\n",
    "        print(f'The {species} is extinct.')\n",
    "\n",
    "    # Else if the number of individuals is less or equal to one hundred...\n",
    "    elif individuals <= 100:\n",
    "\n",
    "        #... report the consevation status\n",
    "        print(f'The {species} is critically endangered.')\n",
    "    \n",
    "    # Else if the number of individuals is less or equal to one thousand...\n",
    "    elif individuals <= 1000:\n",
    "\n",
    "        #... report the consevation status\n",
    "        print(f'The {species} is endangered.')\n",
    "    \n",
    "    # Else if the number of individuals is less or equal to ten thousand...\n",
    "    elif individuals <= 10000:\n",
    "\n",
    "        #... report the consevation status\n",
    "        print(f'The {species} is vulnerable.')\n",
    "\n",
    "    # Else\n",
    "    else:\n",
    "\n",
    "        #... report the consevation status\n",
    "        print(f'The {species} is not vulnerable yet.')"
   ]
  },
  {
   "cell_type": "markdown",
   "metadata": {},
   "source": [
    "<div class=\"alert alert-block alert-warning\"><b>Extension:</b>\n",
    "\n",
    "A [list-comprehension](https://docs.python.org/3/glossary.html#term-list-comprehension) also can handle an `if` clause within:\n",
    "</div>"
   ]
  },
  {
   "cell_type": "code",
   "execution_count": 54,
   "metadata": {},
   "outputs": [
    {
     "data": {
      "text/plain": [
       "[77]"
      ]
     },
     "execution_count": 54,
     "metadata": {},
     "output_type": "execute_result"
    }
   ],
   "source": [
    "# Create two arbitrary lists (of four and three terms respectively)\n",
    "list_abcd = [2, 3, 5, 7]\n",
    "list_xyz = [11, 13, 17]\n",
    "\n",
    "# For element in `list_abcd` and for element in `list_xyz` print the product of both running items...\n",
    "# ... only if they met certain conditions\n",
    "[i*j for i in list_abcd for j in list_xyz if i>5 and j<13]"
   ]
  },
  {
   "cell_type": "markdown",
   "metadata": {},
   "source": [
    "<div class=\"alert alert-block alert-warning\"><b>Extension:</b>\n",
    "\n",
    "In addition to `for` loop and `if`, `elif`, `else` clauses, you should also know the [`while`](https://docs.python.org/3/reference/compound_stmts.html#while) loop and [`break`](https://docs.python.org/3/tutorial/controlflow.html#break-and-continue-statements-and-else-clauses-on-loops), [`continue`](https://docs.python.org/3/tutorial/controlflow.html#break-and-continue-statements-and-else-clauses-on-loops), [`pass`](https://docs.python.org/3/tutorial/controlflow.html#pass-statements) statements. These statements are not essential for the contents of the boot camp but turn out to be very handy in some situations.\n",
    "\n",
    "</div>"
   ]
  },
  {
   "cell_type": "markdown",
   "metadata": {
    "id": "62lYdbVSmFCX",
    "tags": []
   },
   "source": [
    "## User defined functions\n",
    "\n",
    "Did you noticed that there is not a `mean()` [buit-in](https://docs.python.org/3/library/functions.html) in Python? That's not a big problem because we can compute the mean of a numeric sequence just using `sum()` and `len()`... However, it could be useful to have this function, right? Let's create a `mean()` User Defined Fuction (UDF)!\n",
    "\n",
    "To define our own functions we use the `def` statement followed by the name of the input arguments enclosed by parentheses (`(input1, input2)`) and a colon (`:`):"
   ]
  },
  {
   "cell_type": "code",
   "execution_count": 55,
   "metadata": {
    "id": "LrghluVRmFCX"
   },
   "outputs": [
    {
     "name": "stdout",
     "output_type": "stream",
     "text": [
      "<class 'function'>\n",
      "4.25\n",
      "13.666666666666666\n"
     ]
    }
   ],
   "source": [
    "# Create a UDF to compute the mean of a list\n",
    "def mean(list_input):\n",
    "    \"\"\"\n",
    "    Summary:\n",
    "        Computes the mean of the elements in list_input.\n",
    "    \n",
    "    Arguments:\n",
    "        list_input (list):\n",
    "            Input list with the values to compute the mean for\n",
    "    \"\"\"    \n",
    "    \n",
    "    # Get the length of `list_input`\n",
    "    list_input_len = len(list_input)\n",
    "    \n",
    "    # Get the sum of `list_input`\n",
    "    list_input_sum = sum(list_input)\n",
    "    \n",
    "    # Compute and return the mean\n",
    "    return(list_input_sum / list_input_len)\n",
    "\n",
    "# Print the type of our `mean()` UFD\n",
    "print(type(mean))\n",
    "\n",
    "# Print the mean of `list_abcd`\n",
    "print(mean(list_abcd))\n",
    "\n",
    "# Print the mean of `list_xyz`\n",
    "print(mean(list_xyz))"
   ]
  },
  {
   "cell_type": "markdown",
   "metadata": {},
   "source": [
    "Note that the bowels of our `mean()` UDF follows the same *four spaces indentation* we already introduced in `for` loops, `if`, `elif`, `else` clauses, etc..."
   ]
  },
  {
   "cell_type": "markdown",
   "metadata": {},
   "source": [
    "<div class=\"alert alert-block alert-info\"><b>Tip:</b>\n",
    "\n",
    "It is always recommended to nicely document your UDF. The multi-line string enclosed by three double apostrophe marks (`\"\"\"`) is called UDF *docstring*, and is what you get when looking for `help()` for a particular function:\n",
    "</div>"
   ]
  },
  {
   "cell_type": "code",
   "execution_count": 56,
   "metadata": {
    "id": "_Dhu9_BnmFCE"
   },
   "outputs": [
    {
     "name": "stdout",
     "output_type": "stream",
     "text": [
      "Help on function mean in module __main__:\n",
      "\n",
      "mean(list_input)\n",
      "    Summary:\n",
      "        Computes the mean of the elements in list_input.\n",
      "    \n",
      "    Arguments:\n",
      "        list_input (list):\n",
      "            Input list with the values to compute the mean for\n",
      "\n"
     ]
    }
   ],
   "source": [
    "# Looking for help with numpy mean() UDF\n",
    "help(mean)"
   ]
  },
  {
   "cell_type": "markdown",
   "metadata": {},
   "source": [
    "<div class=\"alert alert-block alert-success\"><b>Practice:</b>\n",
    "\n",
    "Add an extra argument called `option_round` in the `mean()` UDF arguments. This new argument should enable our `mean()` UDF to return a rounded mean or not depending on the particular `option_round` value:\n",
    "\n",
    "+ a) If `option_round = True`, round the output mean with a two digit precision using the [`round()`](https://docs.python.org/3/library/functions.html#round) built-in.\n",
    "+ b) If `option_round = False`, do nothing apart from computing the mean.\n",
    "\n",
    "Un-comment and fill only those code lines with underscores `___`.\n",
    "</div>"
   ]
  },
  {
   "cell_type": "code",
   "execution_count": 57,
   "metadata": {},
   "outputs": [
    {
     "name": "stdout",
     "output_type": "stream",
     "text": [
      "None\n",
      "None\n"
     ]
    }
   ],
   "source": [
    "# Create a UDF to compute the mean of a list (with a rounding option)\n",
    "def mean(list_input, option_round):\n",
    "    \"\"\"\n",
    "    Summary:\n",
    "        Computes the mean of the elements in list_input.\n",
    "    \n",
    "    Arguments:\n",
    "        list_input (list):\n",
    "            Input list with the values to compute the mean for.\n",
    "            \n",
    "        option_round (bool):\n",
    "            Default=False\n",
    "            Boolean telling if the reounding option is active or not. \n",
    "    \"\"\"    \n",
    "    \n",
    "    # Get the length of `list_input`\n",
    "    list_input_len = len(list_input)\n",
    "    \n",
    "    # Get the sum of `list_input`\n",
    "    list_input_sum = sum(list_input)\n",
    "    \n",
    "    # If the round option is True...\n",
    "    # ___:\n",
    "    \n",
    "        # Compute and return the mean (with rounding at two digit precision)\n",
    "        # return(___)\n",
    "    \n",
    "    # Else...\n",
    "    # ___else:\n",
    "        \n",
    "        # Compute and return the mean (without rounding)\n",
    "        # return(___)\n",
    "\n",
    "\n",
    "# Print the mean of `list_xyz`\n",
    "print(mean(list_input=list_xyz, option_round=False))\n",
    "\n",
    "# Print the mean of `list_xyz`\n",
    "print(mean(list_input=list_xyz, option_round=True))"
   ]
  },
  {
   "cell_type": "code",
   "execution_count": 58,
   "metadata": {
    "jupyter": {
     "source_hidden": true
    },
    "tags": []
   },
   "outputs": [
    {
     "name": "stdout",
     "output_type": "stream",
     "text": [
      "13.666666666666666\n",
      "13.67\n"
     ]
    }
   ],
   "source": [
    "# Create a UDF to compute the mean of a list (with a rounding option)\n",
    "def mean(list_input, option_round=False):\n",
    "    \"\"\"\n",
    "    Summary:\n",
    "        Computes the mean of the elements in list_input.\n",
    "    \n",
    "    Arguments:\n",
    "        list_input (list):\n",
    "            Input list with the values to compute the mean for.\n",
    "            \n",
    "        option_round (bool):\n",
    "            Default=False\n",
    "            Boolean telling if the reounding option is active or not. \n",
    "    \"\"\"    \n",
    "    \n",
    "    # Get the length of `list_input`\n",
    "    list_input_len = len(list_input)\n",
    "    \n",
    "    # Get the sum of `list_input`\n",
    "    list_input_sum = sum(list_input)\n",
    "    \n",
    "    # If the round option is True...\n",
    "    if option_round:\n",
    "    \n",
    "        # Compute and return the mean (with rounding at two digit precision)\n",
    "        return(round(list_input_sum / list_input_len, 2))\n",
    "    \n",
    "    # Else...\n",
    "    else:\n",
    "        \n",
    "        # Compute and return the mean (without rounding)\n",
    "        return(list_input_sum / list_input_len)\n",
    "\n",
    "\n",
    "# Print the mean of `list_xyz`\n",
    "print(mean(list_input=list_xyz, option_round=False))\n",
    "\n",
    "# Print the mean of `list_xyz`\n",
    "print(mean(list_input=list_xyz, option_round=True))"
   ]
  },
  {
   "cell_type": "markdown",
   "metadata": {},
   "source": [
    "<div class=\"alert alert-block alert-info\"><b>Tip:</b>\n",
    "\n",
    "In the solution for the practice above, we used `mean(list_input, option_round=False)`. This `option_round=False` means that we defined a *default value* for `option_round`. In other words, if we don't define any value for `option_round` when calling `mean()`, the function knows what value to use, in this case `option_round=False`:\n",
    "</div>"
   ]
  },
  {
   "cell_type": "code",
   "execution_count": 59,
   "metadata": {},
   "outputs": [
    {
     "name": "stdout",
     "output_type": "stream",
     "text": [
      "13.666666666666666\n"
     ]
    }
   ],
   "source": [
    "# Print the mean of `list_xyz`\n",
    "print(mean(list_input=list_xyz))"
   ]
  }
 ],
 "metadata": {
  "colab": {
   "include_colab_link": true,
   "name": "02_Types_and_Flow.ipynb",
   "provenance": []
  },
  "kernelspec": {
   "display_name": "Python 3 (ipykernel)",
   "language": "python",
   "name": "python3"
  },
  "language_info": {
   "codemirror_mode": {
    "name": "ipython",
    "version": 3
   },
   "file_extension": ".py",
   "mimetype": "text/x-python",
   "name": "python",
   "nbconvert_exporter": "python",
   "pygments_lexer": "ipython3",
   "version": "3.9.12"
  }
 },
 "nbformat": 4,
 "nbformat_minor": 4
}
