{
  "cells": [
    {
      "cell_type": "markdown",
      "metadata": {
        "id": "view-in-github",
        "colab_type": "text"
      },
      "source": [
        "<a href=\"https://colab.research.google.com/github/MMRES-PyBootcamp/MMRES-python-bootcamp2022/blob/main/solved_notebooks/12_misophonia_pytorch_sklearn_solved.ipynb\" target=\"_parent\"><img src=\"https://colab.research.google.com/assets/colab-badge.svg\" alt=\"Open In Colab\"/></a>"
      ]
    },
    {
      "cell_type": "code",
      "execution_count": 1,
      "metadata": {
        "id": "cREsULcqQdIi"
      },
      "outputs": [],
      "source": [
        "import torch\n",
        "from torch import nn\n",
        "from torch.utils.data import DataLoader\n",
        "from torchvision import datasets\n",
        "from torchvision.transforms import ToTensor\n",
        "from sklearn.decomposition import PCA\n",
        "import seaborn as sns\n",
        "import numpy as np\n",
        "\n",
        "from matplotlib import pyplot as plt"
      ]
    },
    {
      "cell_type": "code",
      "execution_count": 2,
      "metadata": {
        "id": "k-S4nOfkQdIm"
      },
      "outputs": [],
      "source": [
        "# Load package with its corresponding alias\n",
        "import pandas as pd\n",
        "\n",
        "# Reading an Excel SpreadSheet and storing it in as a DataFrame called `df`\n",
        "df = pd.read_excel('https://github.com/MMRES-PyBootcamp/MMRES-python-bootcamp2022/blob/main/datasets/misophoinia_data.xlsx?raw=true')"
      ]
    },
    {
      "cell_type": "markdown",
      "metadata": {
        "id": "a-s9R6sEQdIn"
      },
      "source": [
        "Before we can get started, we need to manipulate the data a little bit to make it conform to be able to be processed in pytorch.  \n",
        "This includes converting some `string` lists into numerical values, e.g. roman letters to numerical values, `\"III\" -> 3`, or turning yes/no strings to categorical vectors `\"si\" -> [1, 0]` (and `\"no\" -> [0, 1]`).  \n",
        "Further, we need to transform the data into torch tensors.  \n",
        "Note that there are a large number of different ways of doing this, some more and some less efficient. A rule of thumb in python is to avoid for loops and try to use functions like `map` that are parallelized as much as possible. Here it is not _very_ important since the dataset is very small, but it is something to keep in mind."
      ]
    },
    {
      "cell_type": "code",
      "execution_count": 3,
      "metadata": {
        "id": "sDMQFQmoQdIp",
        "outputId": "58571fb8-91d3-4f6f-a945-635aa67132a2",
        "colab": {
          "base_uri": "https://localhost:8080/"
        }
      },
      "outputs": [
        {
          "output_type": "stream",
          "name": "stdout",
          "text": [
            "torch.Size([123, 4])\n"
          ]
        }
      ],
      "source": [
        "tensors = [\n",
        "    df[\"Angulo_convexidad\"].values,\n",
        "    df[\"Angulo_cuelloYtercio\"].values,\n",
        "    df[\"Subnasal_H\"].values,\n",
        "    df[\"protusion.mandibular\"].values\n",
        "]\n",
        "\n",
        "mask = ~np.isnan(tensors[0])\n",
        "\n",
        "for i, t in enumerate(tensors):\n",
        "    tensors[i] = torch.tensor(t[mask], dtype=torch.float)\n",
        "\n",
        "data = torch.stack(tensors).transpose(1,0)\n",
        "#data = data[:, None] # this is because the second dimension is reserved for channels, which we dont have here\n",
        "print(data.shape)"
      ]
    },
    {
      "cell_type": "markdown",
      "metadata": {
        "id": "Ws1UY-3BQdIq"
      },
      "source": [
        "We now have 123 datapoints of 4 features at our disposal. We want to map each data point to a probability distribution `(p(misofonia), p(no_misofonia))` consisting of two values. As labels, we use the `\"Misofonia\"` variables that are given in as `\"si\"` and `\"no\"` strings. So we need to transform those into so-called categorical vectors."
      ]
    },
    {
      "cell_type": "code",
      "execution_count": 4,
      "metadata": {
        "id": "K4g5LRHeQdIr",
        "outputId": "1bf8a051-248d-4214-934b-e2bccf3323ad",
        "colab": {
          "base_uri": "https://localhost:8080/"
        }
      },
      "outputs": [
        {
          "output_type": "stream",
          "name": "stdout",
          "text": [
            "torch.Size([123])\n"
          ]
        },
        {
          "output_type": "stream",
          "name": "stderr",
          "text": [
            "/usr/local/lib/python3.7/dist-packages/ipykernel_launcher.py:12: UserWarning: To copy construct from a tensor, it is recommended to use sourceTensor.clone().detach() or sourceTensor.clone().detach().requires_grad_(True), rather than torch.tensor(sourceTensor).\n",
            "  if sys.path[0] == '':\n"
          ]
        }
      ],
      "source": [
        "# Generate the target labels and transform \"si\"/\"no\" to [1,0] and [0,1], corresponding to the probabilities [p(misofonia), p(no_misofonia)]\n",
        "def sino_to_categorical(string, num_classes=2):\n",
        "    if string==\"si\":\n",
        "        y = 1\n",
        "    elif string==\"no\":\n",
        "        y = 0\n",
        "    return y #torch.eye(num_classes, dtype=torch.float)[y]\n",
        "\n",
        "labels = df[\"Misofonia\"].values\n",
        "labels = labels[mask] # remove nans\n",
        "labels = torch.tensor(list(map(sino_to_categorical, labels)))\n",
        "labels = torch.tensor(labels, dtype=torch.long)\n",
        "print(labels.shape)"
      ]
    },
    {
      "cell_type": "markdown",
      "metadata": {
        "id": "mVEAQEPDQdIs"
      },
      "source": [
        "We now have all the ingredients, our `data` and categorical vector `labels`, to train our model.  \n",
        "PyTorch works best when using their efficient data handlers, for that we need some further processing.  \n",
        "\n",
        "We also dont want to use all our data for training, but leave some data for testing of the model on data it has not yet seen (during training)."
      ]
    },
    {
      "cell_type": "code",
      "execution_count": 5,
      "metadata": {
        "id": "XEatAGVBQdIs",
        "outputId": "387a5a96-7318-443d-bd4f-026495c9eb54",
        "colab": {
          "base_uri": "https://localhost:8080/"
        }
      },
      "outputs": [
        {
          "output_type": "stream",
          "name": "stdout",
          "text": [
            "Shape of X [N, C, H, W]: torch.Size([12, 4])\n",
            "Shape of y: torch.Size([12]) torch.int64\n"
          ]
        }
      ],
      "source": [
        "dataset = torch.utils.data.TensorDataset(data, labels) # some torch specific transformations of the data into a TensorDataset\n",
        "\n",
        "# Split all data into a train and test set\n",
        "N_data = len(data)\n",
        "train_dataset, test_dataset = torch.utils.data.random_split(dataset, [N_data - 20, 20])\n",
        "\n",
        "train_dataloader = DataLoader(train_dataset, batch_size=12)  # for efficient processing, you will want to create a DataLoader object\n",
        "test_dataloader = DataLoader(test_dataset, batch_size=12)\n",
        "\n",
        "for X, y in train_dataloader:\n",
        "    print(f\"Shape of X [N, C, H, W]: {X.shape}\")\n",
        "    print(f\"Shape of y: {y.shape} {y.dtype}\")\n",
        "    break"
      ]
    },
    {
      "cell_type": "code",
      "execution_count": 6,
      "metadata": {
        "id": "HOypzqvCQdIt",
        "outputId": "ed6b7dc2-7b83-4ac6-cb1f-77eeca59bdec",
        "colab": {
          "base_uri": "https://localhost:8080/"
        }
      },
      "outputs": [
        {
          "output_type": "stream",
          "name": "stdout",
          "text": [
            "Using cpu device\n",
            "NeuralNetwork(\n",
            "  (flatten): Flatten(start_dim=1, end_dim=-1)\n",
            "  (linear_relu_stack): Sequential(\n",
            "    (0): Linear(in_features=4, out_features=512, bias=True)\n",
            "    (1): ReLU()\n",
            "    (2): Linear(in_features=512, out_features=512, bias=True)\n",
            "    (3): ReLU()\n",
            "    (4): Linear(in_features=512, out_features=2, bias=True)\n",
            "  )\n",
            ")\n"
          ]
        }
      ],
      "source": [
        "# Get cpu or gpu device for training.\n",
        "device = \"cuda\" if torch.cuda.is_available() else \"cpu\"\n",
        "print(f\"Using {device} device\")\n",
        "\n",
        "# Define model\n",
        "class NeuralNetwork(nn.Module):\n",
        "    def __init__(self):\n",
        "        super(NeuralNetwork, self).__init__()\n",
        "        self.flatten = nn.Flatten()\n",
        "        self.linear_relu_stack = nn.Sequential(\n",
        "            nn.Linear(4, 512), # need to set input dimension to size of data (number of features = 4)\n",
        "            nn.ReLU(),\n",
        "            nn.Linear(512, 512),\n",
        "            nn.ReLU(),\n",
        "            nn.Linear(512, 2) # need to set output to dimension of number of categories (2)\n",
        "        )\n",
        "\n",
        "    def forward(self, x):\n",
        "        x = self.flatten(x)\n",
        "        logits = self.linear_relu_stack(x)\n",
        "        out = torch.sigmoid(logits)\n",
        "        return out\n",
        "\n",
        "model = NeuralNetwork().to(device)\n",
        "print(model)"
      ]
    },
    {
      "cell_type": "code",
      "execution_count": 7,
      "metadata": {
        "id": "XxDIC5uQQdIu",
        "outputId": "4a95bd5b-367d-4550-988e-725dc914b42a",
        "colab": {
          "base_uri": "https://localhost:8080/"
        }
      },
      "outputs": [
        {
          "output_type": "stream",
          "name": "stdout",
          "text": [
            "torch.Size([12, 4]) torch.Size([12]) torch.Size([12, 2])\n"
          ]
        }
      ],
      "source": [
        "# check if dimensions match by computing an output\n",
        "for batch, (X, y) in enumerate(train_dataloader):\n",
        "    X, y = X.to(device), y.to(device)\n",
        "\n",
        "    # Compute prediction error\n",
        "    pred = model(X)\n",
        "    break\n",
        "\n",
        "print(X.shape, y.shape, pred.shape)"
      ]
    },
    {
      "cell_type": "code",
      "execution_count": 8,
      "metadata": {
        "id": "hWSd1H-RQdIu"
      },
      "outputs": [],
      "source": [
        "loss_fn = nn.CrossEntropyLoss()\n",
        "optimizer = torch.optim.Adam(model.parameters(), lr=1e-3)"
      ]
    },
    {
      "cell_type": "code",
      "execution_count": 9,
      "metadata": {
        "id": "whSGZJeVQdIv",
        "outputId": "1c993072-b3ba-4a63-8dbb-2af0d56efbd9",
        "colab": {
          "base_uri": "https://localhost:8080/"
        }
      },
      "outputs": [
        {
          "output_type": "execute_result",
          "data": {
            "text/plain": [
              "tensor(0.6627, grad_fn=<NllLossBackward0>)"
            ]
          },
          "metadata": {},
          "execution_count": 9
        }
      ],
      "source": [
        "loss_fn(pred, y)"
      ]
    },
    {
      "cell_type": "code",
      "execution_count": 10,
      "metadata": {
        "id": "34hr05KDQdIv"
      },
      "outputs": [],
      "source": [
        "def train(dataloader, model, loss_fn, optimizer):\n",
        "    size = len(dataloader.dataset)\n",
        "    model.train()\n",
        "    correct = 0\n",
        "    for batch, (X, y) in enumerate(dataloader):\n",
        "        X, y = X.to(device), y.to(device)\n",
        "\n",
        "        # Compute prediction error\n",
        "        pred = model(X)\n",
        "        loss = loss_fn(pred, y)\n",
        "        correct += (pred.argmax(1) == y).type(torch.float).sum().item()\n",
        "\n",
        "        # Backpropagation\n",
        "        optimizer.zero_grad()\n",
        "        loss.backward()\n",
        "        optimizer.step()\n",
        "\n",
        "        if batch % 2 == 0:\n",
        "            loss, current = loss.item(), batch * len(X)\n",
        "            #print(f\"loss: {loss:>7f}  [{current:>5d}/{size:>5d}]\")\n",
        "\n",
        "    # compute accuracy\n",
        "    train_acc = correct/size * 100\n",
        "    return loss, train_acc\n",
        "\n",
        "def test(dataloader, model, loss_fn):\n",
        "    size = len(dataloader.dataset)\n",
        "    num_batches = len(dataloader)\n",
        "    model.eval()\n",
        "    test_loss, correct = 0, 0\n",
        "    with torch.no_grad():\n",
        "        for X, y in dataloader:\n",
        "            X, y = X.to(device), y.to(device)\n",
        "            pred = model(X)\n",
        "            test_loss += loss_fn(pred, y).item()\n",
        "            correct += (pred.argmax(1) == y).type(torch.float).sum().item()\n",
        "    test_loss /= num_batches\n",
        "    correct /= size\n",
        "    test_acc = 100*correct\n",
        "    print(f\"Test Error: Accuracy: {(100*correct):>0.1f}%, Avg loss: {test_loss:>8f}\")\n",
        "    return test_loss, test_acc"
      ]
    },
    {
      "cell_type": "code",
      "execution_count": 11,
      "metadata": {
        "id": "l4CeCWTgQdIw",
        "outputId": "5a4c0e26-7ccb-40e7-b8de-4311a9fc9f22",
        "colab": {
          "base_uri": "https://localhost:8080/"
        }
      },
      "outputs": [
        {
          "output_type": "stream",
          "name": "stdout",
          "text": [
            "Epoch 1\n",
            "Test Error: Accuracy: 35.0%, Avg loss: 0.693147\n",
            "Epoch 2\n",
            "Test Error: Accuracy: 35.0%, Avg loss: 0.693147\n",
            "Epoch 3\n",
            "Test Error: Accuracy: 35.0%, Avg loss: 0.693147\n",
            "Epoch 4\n",
            "Test Error: Accuracy: 35.0%, Avg loss: 0.693147\n",
            "Epoch 5\n",
            "Test Error: Accuracy: 35.0%, Avg loss: 0.693147\n",
            "Epoch 6\n",
            "Test Error: Accuracy: 35.0%, Avg loss: 0.693147\n",
            "Epoch 7\n",
            "Test Error: Accuracy: 35.0%, Avg loss: 0.693147\n",
            "Epoch 8\n",
            "Test Error: Accuracy: 35.0%, Avg loss: 0.693147\n",
            "Epoch 9\n",
            "Test Error: Accuracy: 35.0%, Avg loss: 0.693147\n",
            "Epoch 10\n",
            "Test Error: Accuracy: 35.0%, Avg loss: 0.693147\n",
            "Epoch 11\n",
            "Test Error: Accuracy: 35.0%, Avg loss: 0.693147\n",
            "Epoch 12\n",
            "Test Error: Accuracy: 35.0%, Avg loss: 0.693147\n",
            "Epoch 13\n",
            "Test Error: Accuracy: 35.0%, Avg loss: 0.693147\n",
            "Epoch 14\n",
            "Test Error: Accuracy: 35.0%, Avg loss: 0.693147\n",
            "Epoch 15\n",
            "Test Error: Accuracy: 35.0%, Avg loss: 0.693147\n",
            "Epoch 16\n",
            "Test Error: Accuracy: 35.0%, Avg loss: 0.693147\n",
            "Epoch 17\n",
            "Test Error: Accuracy: 35.0%, Avg loss: 0.693147\n",
            "Epoch 18\n",
            "Test Error: Accuracy: 35.0%, Avg loss: 0.693147\n",
            "Epoch 19\n",
            "Test Error: Accuracy: 35.0%, Avg loss: 0.693147\n",
            "Epoch 20\n",
            "Test Error: Accuracy: 35.0%, Avg loss: 0.693147\n",
            "Done!\n"
          ]
        }
      ],
      "source": [
        "epochs = 20\n",
        "train_losss, train_accs = [], []\n",
        "test_losss, test_accs = [], []\n",
        "for t in range(epochs):\n",
        "    print(f\"Epoch {t+1}\")\n",
        "    train_loss, train_acc = train(train_dataloader, model, loss_fn, optimizer)\n",
        "    test_loss, test_acc = test(test_dataloader, model, loss_fn)\n",
        "    train_losss.append(train_loss)\n",
        "    train_accs.append(train_acc)\n",
        "    test_losss.append(test_loss)\n",
        "    test_accs.append(test_acc)\n",
        "print(\"Done!\")"
      ]
    },
    {
      "cell_type": "code",
      "execution_count": 12,
      "metadata": {
        "id": "uQIJ7XDEQdIw",
        "outputId": "814306ed-b45e-4960-a2ae-daeb92b3e89a",
        "colab": {
          "base_uri": "https://localhost:8080/",
          "height": 368
        }
      },
      "outputs": [
        {
          "output_type": "execute_result",
          "data": {
            "text/plain": [
              "<matplotlib.legend.Legend at 0x7f2a4992ac10>"
            ]
          },
          "metadata": {},
          "execution_count": 12
        },
        {
          "output_type": "display_data",
          "data": {
            "text/plain": [
              "<Figure size 720x360 with 2 Axes>"
            ],
            "image/png": "[encoded data removed]"
          },
          "metadata": {
            "needs_background": "light"
          }
        }
      ],
      "source": [
        "fig, axs = plt.subplots(figsize=(10,5), ncols=2)\n",
        "\n",
        "ax = axs[0]\n",
        "ax.plot(train_losss, label=\"train\")\n",
        "ax.plot(test_losss, \"x-\", label=\"test\")\n",
        "\n",
        "ax.set_title(\"loss\")\n",
        "ax.set_xlabel(\"epoch\")\n",
        "ax.legend()\n",
        "\n",
        "ax = axs[1]\n",
        "ax.plot(train_accs, label=\"train\")\n",
        "ax.plot(test_accs, \"x-\", label=\"test\")\n",
        "\n",
        "ax.set_title(\"accuracy\")\n",
        "ax.set_xlabel(\"epoch\")\n",
        "ax.legend()"
      ]
    },
    {
      "cell_type": "markdown",
      "source": [
        "# PCA and k-means clustering"
      ],
      "metadata": {
        "id": "Tonmkt3QVh-G"
      }
    },
    {
      "cell_type": "code",
      "source": [
        "X=df[['Angulo_convexidad','protusion.mandibular', 'Angulo_cuelloYtercio', 'Subnasal_H','Misofonia.dic','CLASE','Misofonia']].dropna()\n",
        "labels=X['Misofonia']\n",
        "pca = PCA(n_components=2)\n",
        "pca.fit(X[['Angulo_convexidad','protusion.mandibular', 'Angulo_cuelloYtercio', 'Subnasal_H']].T)\n",
        "#pca.components_.shape\n",
        "sns.scatterplot(x=pca.components_[0],y=pca.components_[1],hue=X['CLASE'])\n",
        "#reduced_data = pca.fit_transform(X.T)\n",
        "#sns.scatterplot(reduced_data[0],reduced_data[1])"
      ],
      "metadata": {
        "colab": {
          "base_uri": "https://localhost:8080/",
          "height": 283
        },
        "id": "GXdbBD6cQxa9",
        "outputId": "701838c3-d511-4ad0-fdab-bccb46032dbd"
      },
      "execution_count": 13,
      "outputs": [
        {
          "output_type": "execute_result",
          "data": {
            "text/plain": [
              "<matplotlib.axes._subplots.AxesSubplot at 0x7f2a49857c90>"
            ]
          },
          "metadata": {},
          "execution_count": 13
        },
        {
          "output_type": "display_data",
          "data": {
            "text/plain": [
              "<Figure size 432x288 with 1 Axes>"
            ],
            "image/png": "[encoded data removed]"
          },
          "metadata": {
            "needs_background": "light"
          }
        }
      ]
    },
    {
      "cell_type": "code",
      "source": [
        "sns.scatterplot(x=pca.components_[0],y=pca.components_[1],hue=X['Misofonia'])\n"
      ],
      "metadata": {
        "colab": {
          "base_uri": "https://localhost:8080/",
          "height": 283
        },
        "id": "6qKqSDAmTUba",
        "outputId": "2eb1387a-b6ee-4b26-bb15-1795ecaadc3f"
      },
      "execution_count": 14,
      "outputs": [
        {
          "output_type": "execute_result",
          "data": {
            "text/plain": [
              "<matplotlib.axes._subplots.AxesSubplot at 0x7f2a4984f790>"
            ]
          },
          "metadata": {},
          "execution_count": 14
        },
        {
          "output_type": "display_data",
          "data": {
            "text/plain": [
              "<Figure size 432x288 with 1 Axes>"
            ],
            "image/png": "[encoded data removed]"
          },
          "metadata": {
            "needs_background": "light"
          }
        }
      ]
    },
    {
      "cell_type": "code",
      "source": [
        "from sklearn import svm\n",
        "labels=X['Misofonia']\n",
        "clf = svm.SVC()\n",
        "clf.fit(pca.components_.T, labels)\n",
        "pred=clf.predict(pca.components_.T)\n",
        "\n",
        "sns.scatterplot(x=pca.components_[0],y=pca.components_[1],hue=pred)\n"
      ],
      "metadata": {
        "colab": {
          "base_uri": "https://localhost:8080/",
          "height": 283
        },
        "id": "xED1grUFV0Ny",
        "outputId": "45bb5dea-20db-4843-ac9e-bdef7ea8597c"
      },
      "execution_count": 15,
      "outputs": [
        {
          "output_type": "execute_result",
          "data": {
            "text/plain": [
              "<matplotlib.axes._subplots.AxesSubplot at 0x7f2a492d0510>"
            ]
          },
          "metadata": {},
          "execution_count": 15
        },
        {
          "output_type": "display_data",
          "data": {
            "text/plain": [
              "<Figure size 432x288 with 1 Axes>"
            ],
            "image/png": "[encoded data removed]"
          },
          "metadata": {
            "needs_background": "light"
          }
        }
      ]
    },
    {
      "cell_type": "code",
      "source": [
        "pd.crosstab(X['Misofonia'],pred)"
      ],
      "metadata": {
        "id": "EQsX0WWGYLxy",
        "outputId": "6ee6d554-0e4c-4503-ef23-bdc6415cee26",
        "colab": {
          "base_uri": "https://localhost:8080/",
          "height": 143
        }
      },
      "execution_count": 16,
      "outputs": [
        {
          "output_type": "execute_result",
          "data": {
            "text/plain": [
              "col_0      no  si\n",
              "Misofonia        \n",
              "no         27  14\n",
              "si         11  71"
            ],
            "text/html": [
              "\n",
              "  <div id=\"df-410bc78e-babc-43b0-b4ba-00e91c89707b\">\n",
              "    <div class=\"colab-df-container\">\n",
              "      <div>\n",
              "<style scoped>\n",
              "    .dataframe tbody tr th:only-of-type {\n",
              "        vertical-align: middle;\n",
              "    }\n",
              "\n",
              "    .dataframe tbody tr th {\n",
              "        vertical-align: top;\n",
              "    }\n",
              "\n",
              "    .dataframe thead th {\n",
              "        text-align: right;\n",
              "    }\n",
              "</style>\n",
              "<table border=\"1\" class=\"dataframe\">\n",
              "  <thead>\n",
              "    <tr style=\"text-align: right;\">\n",
              "      <th>col_0</th>\n",
              "      <th>no</th>\n",
              "      <th>si</th>\n",
              "    </tr>\n",
              "    <tr>\n",
              "      <th>Misofonia</th>\n",
              "      <th></th>\n",
              "      <th></th>\n",
              "    </tr>\n",
              "  </thead>\n",
              "  <tbody>\n",
              "    <tr>\n",
              "      <th>no</th>\n",
              "      <td>27</td>\n",
              "      <td>14</td>\n",
              "    </tr>\n",
              "    <tr>\n",
              "      <th>si</th>\n",
              "      <td>11</td>\n",
              "      <td>71</td>\n",
              "    </tr>\n",
              "  </tbody>\n",
              "</table>\n",
              "</div>\n",
              "      <button class=\"colab-df-convert\" onclick=\"convertToInteractive('df-410bc78e-babc-43b0-b4ba-00e91c89707b')\"\n",
              "              title=\"Convert this dataframe to an interactive table.\"\n",
              "              style=\"display:none;\">\n",
              "        \n",
              "  <svg xmlns=\"http://www.w3.org/2000/svg\" height=\"24px\"viewBox=\"0 0 24 24\"\n",
              "       width=\"24px\">\n",
              "    <path d=\"M0 0h24v24H0V0z\" fill=\"none\"/>\n",
              "    <path d=\"M18.56 5.44l.94 2.06.94-2.06 2.06-.94-2.06-.94-.94-2.06-.94 2.06-2.06.94zm-11 1L8.5 8.5l.94-2.06 2.06-.94-2.06-.94L8.5 2.5l-.94 2.06-2.06.94zm10 10l.94 2.06.94-2.06 2.06-.94-2.06-.94-.94-2.06-.94 2.06-2.06.94z\"/><path d=\"M17.41 7.96l-1.37-1.37c-.4-.4-.92-.59-1.43-.59-.52 0-1.04.2-1.43.59L10.3 9.45l-7.72 7.72c-.78.78-.78 2.05 0 2.83L4 21.41c.39.39.9.59 1.41.59.51 0 1.02-.2 1.41-.59l7.78-7.78 2.81-2.81c.8-.78.8-2.07 0-2.86zM5.41 20L4 18.59l7.72-7.72 1.47 1.35L5.41 20z\"/>\n",
              "  </svg>\n",
              "      </button>\n",
              "      \n",
              "  <style>\n",
              "    .colab-df-container {\n",
              "      display:flex;\n",
              "      flex-wrap:wrap;\n",
              "      gap: 12px;\n",
              "    }\n",
              "\n",
              "    .colab-df-convert {\n",
              "      background-color: #E8F0FE;\n",
              "      border: none;\n",
              "      border-radius: 50%;\n",
              "      cursor: pointer;\n",
              "      display: none;\n",
              "      fill: #1967D2;\n",
              "      height: 32px;\n",
              "      padding: 0 0 0 0;\n",
              "      width: 32px;\n",
              "    }\n",
              "\n",
              "    .colab-df-convert:hover {\n",
              "      background-color: #E2EBFA;\n",
              "      box-shadow: 0px 1px 2px rgba(60, 64, 67, 0.3), 0px 1px 3px 1px rgba(60, 64, 67, 0.15);\n",
              "      fill: #174EA6;\n",
              "    }\n",
              "\n",
              "    [theme=dark] .colab-df-convert {\n",
              "      background-color: #3B4455;\n",
              "      fill: #D2E3FC;\n",
              "    }\n",
              "\n",
              "    [theme=dark] .colab-df-convert:hover {\n",
              "      background-color: #434B5C;\n",
              "      box-shadow: 0px 1px 3px 1px rgba(0, 0, 0, 0.15);\n",
              "      filter: drop-shadow(0px 1px 2px rgba(0, 0, 0, 0.3));\n",
              "      fill: #FFFFFF;\n",
              "    }\n",
              "  </style>\n",
              "\n",
              "      <script>\n",
              "        const buttonEl =\n",
              "          document.querySelector('#df-410bc78e-babc-43b0-b4ba-00e91c89707b button.colab-df-convert');\n",
              "        buttonEl.style.display =\n",
              "          google.colab.kernel.accessAllowed ? 'block' : 'none';\n",
              "\n",
              "        async function convertToInteractive(key) {\n",
              "          const element = document.querySelector('#df-410bc78e-babc-43b0-b4ba-00e91c89707b');\n",
              "          const dataTable =\n",
              "            await google.colab.kernel.invokeFunction('convertToInteractive',\n",
              "                                                     [key], {});\n",
              "          if (!dataTable) return;\n",
              "\n",
              "          const docLinkHtml = 'Like what you see? Visit the ' +\n",
              "            '<a target=\"_blank\" href=https://colab.research.google.com/notebooks/data_table.ipynb>data table notebook</a>'\n",
              "            + ' to learn more about interactive tables.';\n",
              "          element.innerHTML = '';\n",
              "          dataTable['output_type'] = 'display_data';\n",
              "          await google.colab.output.renderOutput(dataTable, element);\n",
              "          const docLink = document.createElement('div');\n",
              "          docLink.innerHTML = docLinkHtml;\n",
              "          element.appendChild(docLink);\n",
              "        }\n",
              "      </script>\n",
              "    </div>\n",
              "  </div>\n",
              "  "
            ]
          },
          "metadata": {},
          "execution_count": 16
        }
      ]
    }
  ],
  "metadata": {
    "kernelspec": {
      "display_name": "Python 3.8.13 ('pennylane')",
      "language": "python",
      "name": "python3"
    },
    "language_info": {
      "codemirror_mode": {
        "name": "ipython",
        "version": 3
      },
      "file_extension": ".py",
      "mimetype": "text/x-python",
      "name": "python",
      "nbconvert_exporter": "python",
      "pygments_lexer": "ipython3",
      "version": "3.8.13"
    },
    "orig_nbformat": 4,
    "vscode": {
      "interpreter": {
        "hash": "9686d7135c507acf535d05158d41b23f151b7f97a7a59cb8e05a88553ea2b8de"
      }
    },
    "colab": {
      "provenance": [],
      "include_colab_link": true
    }
  },
  "nbformat": 4,
  "nbformat_minor": 0
}