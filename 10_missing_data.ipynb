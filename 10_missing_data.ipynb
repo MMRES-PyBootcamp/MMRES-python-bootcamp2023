{
  "nbformat": 4,
  "nbformat_minor": 0,
  "metadata": {
    "colab": {
      "provenance": [],
      "authorship_tag": "ABX9TyOW/L6dL/mGxEVINuePeZx/",
      "include_colab_link": true
    },
    "kernelspec": {
      "name": "python3",
      "display_name": "Python 3"
    },
    "language_info": {
      "name": "python"
    }
  },
  "cells": [
    {
      "cell_type": "markdown",
      "metadata": {
        "id": "view-in-github",
        "colab_type": "text"
      },
      "source": [
        "<a href=\"https://colab.research.google.com/github/MMRES-PyBootcamp/MMRES-python-bootcamp2023/blob/main/10_missing_data.ipynb\" target=\"_parent\"><img src=\"https://colab.research.google.com/assets/colab-badge.svg\" alt=\"Open In Colab\"/></a>"
      ]
    },
    {
      "cell_type": "markdown",
      "source": [
        "\n",
        "# Session 10 Working with missing data\n",
        "> In this section, we will discuss missing (also referred to as NA) values in pandas. As data comes in many shapes and forms, pandas aims to be flexible with regard to handling missing data. While NaN is the default missing value marker for reasons of computational speed and convenience, we need to be able to easily detect this value with data of different types: floating point, integer, boolean, and general object. In many cases, however, the Python None will arise and we wish to also consider that “missing” or “not available” or “NA”."
      ],
      "metadata": {
        "id": "ORrELqRy-qew"
      }
    },
    {
      "cell_type": "code",
      "source": [
        "import pandas as pd\n",
        "import numpy as np"
      ],
      "metadata": {
        "id": "EqFgLsRC9Vy9"
      },
      "execution_count": null,
      "outputs": []
    },
    {
      "cell_type": "code",
      "execution_count": null,
      "metadata": {
        "id": "UGl-TFdI72sQ"
      },
      "outputs": [],
      "source": [
        "df = pd.DataFrame(\n",
        "     np.random.randn(5, 3),\n",
        "     index=[\"a\", \"c\", \"e\", \"f\", \"h\"],\n",
        "     columns=[\"one\", \"two\", \"three\"]\n",
        "     )"
      ]
    },
    {
      "cell_type": "code",
      "source": [
        "df[\"four\"]=\"bar\""
      ],
      "metadata": {
        "id": "8zL9L1K-_jK6"
      },
      "execution_count": null,
      "outputs": []
    },
    {
      "cell_type": "code",
      "source": [
        "df[\"five\"] = df[\"one\"] > 0\n"
      ],
      "metadata": {
        "id": "RFKyc-_o9Sfb"
      },
      "execution_count": null,
      "outputs": []
    },
    {
      "cell_type": "code",
      "source": [
        "df2 = df.reindex([\"a\", \"b\", \"c\", \"d\", \"e\", \"f\", \"g\", \"h\"])"
      ],
      "metadata": {
        "id": "Kxxgc34N7PMz"
      },
      "execution_count": null,
      "outputs": []
    },
    {
      "cell_type": "markdown",
      "source": [
        "To make detecting missing values easier (and across different array dtypes), pandas provides the isna() and notna() functions, which are also methods on Series and DataFrame objects:"
      ],
      "metadata": {
        "id": "0z9G2hE47XWM"
      }
    },
    {
      "cell_type": "code",
      "source": [
        "pd.isna(df2[\"one\"])"
      ],
      "metadata": {
        "id": "rsa1NNqv7aPg"
      },
      "execution_count": null,
      "outputs": []
    },
    {
      "cell_type": "code",
      "source": [
        "df2[\"four\"].notna()"
      ],
      "metadata": {
        "id": "6hnC681k7hAS"
      },
      "execution_count": null,
      "outputs": []
    },
    {
      "cell_type": "code",
      "source": [
        "df2.isna()"
      ],
      "metadata": {
        "id": "oJYZvb3P7lQR"
      },
      "execution_count": null,
      "outputs": []
    },
    {
      "cell_type": "markdown",
      "source": [
        "One has to be mindful that in Python (and NumPy), the nan's don’t compare equal, but None's do. Note that pandas/NumPy uses the fact that np.nan != np.nan, and treats None like np.nan."
      ],
      "metadata": {
        "id": "1V8kE6ul7tnv"
      }
    },
    {
      "cell_type": "code",
      "source": [
        "None == None"
      ],
      "metadata": {
        "id": "zweId9Di7s_V"
      },
      "execution_count": null,
      "outputs": []
    },
    {
      "cell_type": "code",
      "source": [
        "np.nan == np.nan"
      ],
      "metadata": {
        "id": "N5fthSsM7yBA"
      },
      "execution_count": null,
      "outputs": []
    },
    {
      "cell_type": "code",
      "source": [
        "df2[\"one\"] == np.nan"
      ],
      "metadata": {
        "id": "g2mBiCnN_hDA"
      },
      "execution_count": null,
      "outputs": []
    },
    {
      "cell_type": "markdown",
      "source": [
        "\n",
        "#Cleaning / filling missing data\n",
        ">pandas objects are equipped with various data manipulation methods for dealing with missing data.\n"
      ],
      "metadata": {
        "id": "7Cw24axh8a_U"
      }
    },
    {
      "cell_type": "markdown",
      "source": [
        "##Filling missing values: fillna\n",
        "fillna() can “fill in” NA values with non-NA data in a couple of ways, which we illustrate:\n",
        "\n",
        "Replace NA with a scalar value"
      ],
      "metadata": {
        "id": "i3O_ezz99kl_"
      }
    },
    {
      "cell_type": "code",
      "source": [
        "df2"
      ],
      "metadata": {
        "id": "cmjQQH8q9uch"
      },
      "execution_count": null,
      "outputs": []
    },
    {
      "cell_type": "code",
      "source": [
        "df2.fillna(0)"
      ],
      "metadata": {
        "id": "_4adsJ5f9fGH"
      },
      "execution_count": null,
      "outputs": []
    },
    {
      "cell_type": "code",
      "source": [
        "df2[\"one\"].fillna(\"missing\")"
      ],
      "metadata": {
        "id": "4NAQXEg49w7l"
      },
      "execution_count": null,
      "outputs": []
    },
    {
      "cell_type": "markdown",
      "source": [
        "#Filling with a PandasObject\n",
        ">You can also fillna using a dict or Series that is alignable. The labels of the dict or index of the Series must match the columns of the frame you wish to fill. The use case of this is to fill a DataFrame with the mean of that column."
      ],
      "metadata": {
        "id": "M_Upl0aE-JgA"
      }
    },
    {
      "cell_type": "code",
      "source": [
        "dff = pd.DataFrame(np.random.randn(10, 3), columns=list(\"ABC\"))\n",
        "dff.iloc[3:5, 0] = np.nan\n",
        "dff.iloc[4:6, 1] = np.nan\n",
        "dff.iloc[5:8, 2] = np.nan"
      ],
      "metadata": {
        "id": "z8lO9fI9-Iq5"
      },
      "execution_count": null,
      "outputs": []
    },
    {
      "cell_type": "code",
      "source": [
        "dff"
      ],
      "metadata": {
        "id": "iq7PxrNm-ze_"
      },
      "execution_count": null,
      "outputs": []
    },
    {
      "cell_type": "code",
      "source": [
        "dff.fillna(dff.mean())\n"
      ],
      "metadata": {
        "id": "-aOpFMzr-xqP"
      },
      "execution_count": null,
      "outputs": []
    },
    {
      "cell_type": "markdown",
      "source": [
        "# Dropping axis labels with missing data: dropna\n",
        ">You may wish to simply exclude labels from a data set which refer to missing data. To do this, use dropna():\n",
        "\n"
      ],
      "metadata": {
        "id": "skABbb7M_Dqs"
      }
    },
    {
      "cell_type": "code",
      "source": [
        "df[\"two\"] = df[\"two\"].fillna(0)\n",
        "\n",
        "df[\"three\"] = df[\"three\"].fillna(0)\n",
        "\n",
        "df"
      ],
      "metadata": {
        "id": "SpvUE4jj_PLz"
      },
      "execution_count": null,
      "outputs": []
    },
    {
      "cell_type": "code",
      "source": [
        "df.dropna(axis=0)"
      ],
      "metadata": {
        "id": "n_6xw_6f_TsA"
      },
      "execution_count": null,
      "outputs": []
    },
    {
      "cell_type": "code",
      "source": [
        "df.dropna(axis=1)"
      ],
      "metadata": {
        "id": "x6NH1hkA_aB1"
      },
      "execution_count": null,
      "outputs": []
    }
  ]
}